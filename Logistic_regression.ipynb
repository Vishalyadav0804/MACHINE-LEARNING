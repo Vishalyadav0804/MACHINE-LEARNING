{
  "nbformat": 4,
  "nbformat_minor": 0,
  "metadata": {
    "kernelspec": {
      "display_name": "Python 3",
      "language": "python",
      "name": "python3"
    },
    "language_info": {
      "codemirror_mode": {
        "name": "ipython",
        "version": 3
      },
      "file_extension": ".py",
      "mimetype": "text/x-python",
      "name": "python",
      "nbconvert_exporter": "python",
      "pygments_lexer": "ipython3",
      "version": "3.7.3"
    },
    "colab": {
      "name": "Logistic regression.ipynb",
      "provenance": [],
      "collapsed_sections": []
    }
  },
  "cells": [
    {
      "cell_type": "code",
      "metadata": {
        "id": "jIHElDW0PQzX",
        "colab_type": "code",
        "colab": {}
      },
      "source": [
        "import numpy as np\n",
        "import matplotlib.pyplot as plt\n",
        "%matplotlib inline"
      ],
      "execution_count": 0,
      "outputs": []
    },
    {
      "cell_type": "code",
      "metadata": {
        "id": "5s05USxQPQ0o",
        "colab_type": "code",
        "outputId": "4f539881-bec3-42c6-ddae-be9286e28b62",
        "colab": {}
      },
      "source": [
        "m1,cov1= [1,5],[[1,0.1],[0.1,1]]\n",
        "m2,cov2=[4,6],[[1,0.1],[0.1,1.2]]\n",
        "dist1=np.random.multivariate_normal(m1,cov1,500)\n",
        "dist2=np.random.multivariate_normal(m2,cov2,500)\n",
        "print(dist1.shape,dist2.shape)"
      ],
      "execution_count": 0,
      "outputs": [
        {
          "output_type": "stream",
          "text": [
            "(500, 2) (500, 2)\n"
          ],
          "name": "stdout"
        }
      ]
    },
    {
      "cell_type": "code",
      "metadata": {
        "id": "pEvpZg6oPQ1J",
        "colab_type": "code",
        "outputId": "8ac75c34-c180-4292-98bc-5eabc660587d",
        "colab": {}
      },
      "source": [
        "plt.scatter(dist1[:,0],dist1[:,1])\n",
        "plt.scatter(dist2[:,0],dist2[:,1])"
      ],
      "execution_count": 0,
      "outputs": [
        {
          "output_type": "execute_result",
          "data": {
            "text/plain": [
              "<matplotlib.collections.PathCollection at 0xf0993b7780>"
            ]
          },
          "metadata": {
            "tags": []
          },
          "execution_count": 3
        },
        {
          "output_type": "display_data",
          "data": {
            "image/png": "[encoded data removed]",
            "text/plain": [
              "<Figure size 432x288 with 1 Axes>"
            ]
          },
          "metadata": {
            "tags": [],
            "needs_background": "light"
          }
        }
      ]
    },
    {
      "cell_type": "code",
      "metadata": {
        "id": "967ejf9MPQ1f",
        "colab_type": "code",
        "outputId": "e7d6edae-9208-41d5-9633-ce07c0dcfa18",
        "colab": {}
      },
      "source": [
        "data=np.zeros((1000,3))\n",
        "data[:500,:2]=dist1\n",
        "data[500:,:2]=dist2\n",
        "data[500:,-1]=1\n",
        "print(data.shape)"
      ],
      "execution_count": 0,
      "outputs": [
        {
          "output_type": "stream",
          "text": [
            "(1000, 3)\n"
          ],
          "name": "stdout"
        }
      ]
    },
    {
      "cell_type": "code",
      "metadata": {
        "id": "xgUbrdJ1PQ41",
        "colab_type": "code",
        "outputId": "7401578f-eef6-483d-c057-55f2fff8256a",
        "colab": {}
      },
      "source": [
        "np.random.shuffle(data)\n",
        "data[:10]"
      ],
      "execution_count": 0,
      "outputs": [
        {
          "output_type": "execute_result",
          "data": {
            "text/plain": [
              "array([[ 4.81765074,  6.19197587,  1.        ],\n",
              "       [-0.79181386,  4.73338212,  0.        ],\n",
              "       [ 1.19408122,  4.38802825,  0.        ],\n",
              "       [ 3.54276088,  5.18351936,  1.        ],\n",
              "       [ 4.82429174,  6.49467319,  1.        ],\n",
              "       [ 2.99516649,  4.58977525,  1.        ],\n",
              "       [ 4.71973326,  7.70938716,  1.        ],\n",
              "       [ 0.34846717,  4.67821953,  0.        ],\n",
              "       [ 3.72864494,  6.89678969,  1.        ],\n",
              "       [ 0.55841294,  4.59483148,  0.        ]])"
            ]
          },
          "metadata": {
            "tags": []
          },
          "execution_count": 5
        }
      ]
    },
    {
      "cell_type": "code",
      "metadata": {
        "id": "QIWMfQpuPQ5N",
        "colab_type": "code",
        "colab": {}
      },
      "source": [
        "from sklearn.model_selection import train_test_split"
      ],
      "execution_count": 0,
      "outputs": []
    },
    {
      "cell_type": "code",
      "metadata": {
        "id": "h56QTp9lPQ5i",
        "colab_type": "code",
        "outputId": "a5ee039f-6a00-4a38-d05a-d339d3a05f6f",
        "colab": {}
      },
      "source": [
        "X_train,X_test,y_train,y_test=train_test_split(data[:,:2],data[:,-1])\n",
        "print(X_train.shape,y_train.shape)\n",
        "print(X_test.shape,y_test.shape)"
      ],
      "execution_count": 0,
      "outputs": [
        {
          "output_type": "stream",
          "text": [
            "(750, 2) (750,)\n",
            "(250, 2) (250,)\n"
          ],
          "name": "stdout"
        }
      ]
    },
    {
      "cell_type": "code",
      "metadata": {
        "id": "_iYcc-EFPQ6R",
        "colab_type": "code",
        "colab": {}
      },
      "source": [
        "def sigmoid(x):\n",
        "    return 1.0/(1+np.exp(-1*x))\n",
        "\n",
        "def hypothesis(X,W,b):\n",
        "    h=(X*W).sum()+b\n",
        "    return sigmoid(h)\n",
        "\n",
        "#Binary Cross-Entropy\n",
        "def log_likelihood(X,W,b,y_true):\n",
        "    total=0.0\n",
        "    m=X.shape[0]\n",
        "    for i in range(m):\n",
        "        if y_true[i]==0:\n",
        "            total+=np.log(1-hypothesis(X[i],W,b))\n",
        "        else:\n",
        "            total+=np.log(hypothesis(X[i],W,b))\n",
        "    total/=m\n",
        "    return total\n",
        "    "
      ],
      "execution_count": 0,
      "outputs": []
    },
    {
      "cell_type": "code",
      "metadata": {
        "id": "hIii6nw3PQ7v",
        "colab_type": "code",
        "colab": {}
      },
      "source": [
        "def gradient_ascent(X,W,b,y_true,learning_rate=0.1):\n",
        "    gradW=np.zeros(2)\n",
        "    gradB=0.0\n",
        "    m=X.shape[0]\n",
        "    for i in range(m):\n",
        "        gradW+=(y_true[i]-hypothesis(X[i],W,b))*X[i]\n",
        "        gradB+=(y_true[i]-hypothesis(X[i],W,b))\n",
        "    gradW/=m\n",
        "    gradB/=m\n",
        "    W+=learning_rate*gradW\n",
        "    b+=learning_rate*gradB\n",
        "    logs=log_likelihood(X,W,b,y_true)\n",
        "    return W,b,logs"
      ],
      "execution_count": 0,
      "outputs": []
    },
    {
      "cell_type": "code",
      "metadata": {
        "id": "nV9PXOX8PQ8M",
        "colab_type": "code",
        "outputId": "67596eec-102f-47cf-84d8-7b3f357f500c",
        "colab": {}
      },
      "source": [
        "W=np.array([0.5,0.5])  #any random value\n",
        "b=4.2\n",
        "logs_list=[]\n",
        "for i in range(400):\n",
        "    W,b,logs=gradient_ascent(X_train,W,b,y_train,learning_rate=0.1)\n",
        "    logs_list.append(logs)\n",
        "print(W)\n",
        "print(b)"
      ],
      "execution_count": 0,
      "outputs": [
        {
          "output_type": "stream",
          "text": [
            "[ 2.24502767 -1.32776593]\n",
            "1.9979113912022486\n"
          ],
          "name": "stdout"
        }
      ]
    },
    {
      "cell_type": "code",
      "metadata": {
        "id": "WOWwQhPiPQ8Z",
        "colab_type": "code",
        "outputId": "8a7d28eb-8471-4f98-d2be-d4f9a9dc050f",
        "colab": {}
      },
      "source": [
        "plt.plot(logs_list)\n",
        "plt.show()"
      ],
      "execution_count": 0,
      "outputs": [
        {
          "output_type": "display_data",
          "data": {
            "image/png": "[encoded data removed]",
            "text/plain": [
              "<Figure size 432x288 with 1 Axes>"
            ]
          },
          "metadata": {
            "tags": [],
            "needs_background": "light"
          }
        }
      ]
    },
    {
      "cell_type": "code",
      "metadata": {
        "id": "qsMv4jYfPQ9s",
        "colab_type": "code",
        "colab": {}
      },
      "source": [
        ""
      ],
      "execution_count": 0,
      "outputs": []
    },
    {
      "cell_type": "code",
      "metadata": {
        "id": "erWLO111PQ98",
        "colab_type": "code",
        "colab": {}
      },
      "source": [
        "def predict(x_sample,W,b):\n",
        "    confidence=hypothesis(x_sample,W,b)\n",
        "    if confidence>0.5:\n",
        "        return 1\n",
        "    else:\n",
        "        return 0"
      ],
      "execution_count": 0,
      "outputs": []
    },
    {
      "cell_type": "code",
      "metadata": {
        "id": "sXvLYN9uPQ-J",
        "colab_type": "code",
        "colab": {}
      },
      "source": [
        "def score(X_test,y_test,W,b):\n",
        "    preds=[]\n",
        "    m=X_test.shape[0]\n",
        "    for i in range(m):\n",
        "        p=predict(X_test[i],W,b)\n",
        "        preds.append(p)\n",
        "    preds=np.asarray(preds)\n",
        "    return 100*(preds==y_test).sum()/m"
      ],
      "execution_count": 0,
      "outputs": []
    },
    {
      "cell_type": "code",
      "metadata": {
        "id": "9R4dIWcCPQ-S",
        "colab_type": "code",
        "outputId": "75e3402a-d475-4fe2-e117-94026f03cbdf",
        "colab": {}
      },
      "source": [
        "score(X_test,y_test,W,b)"
      ],
      "execution_count": 0,
      "outputs": [
        {
          "output_type": "execute_result",
          "data": {
            "text/plain": [
              "88.0"
            ]
          },
          "metadata": {
            "tags": []
          },
          "execution_count": 25
        }
      ]
    },
    {
      "cell_type": "code",
      "metadata": {
        "id": "2SwCmboqPQ-h",
        "colab_type": "code",
        "outputId": "3300e493-d265-4a5a-e666-0d5692de4d4c",
        "colab": {}
      },
      "source": [
        "plt.scatter(dist1[:,0],dist1[:,1])\n",
        "plt.scatter(dist2[:,0],dist2[:,1])\n",
        "m=X_test.shape[0]\n",
        "for i in range(m):\n",
        "    x=X_test[i]\n",
        "    p=predict(x,W,b)\n",
        "    if p==0:\n",
        "        plt.plot(x[0],x[1],'y.')\n",
        "    else:\n",
        "         plt.plot(x[0],x[1],'r.')\n",
        "plt.show()\n"
      ],
      "execution_count": 0,
      "outputs": [
        {
          "output_type": "display_data",
          "data": {
            "image/png": "[encoded data removed]",
            "text/plain": [
              "<Figure size 432x288 with 1 Axes>"
            ]
          },
          "metadata": {
            "tags": [],
            "needs_background": "light"
          }
        }
      ]
    },
    {
      "cell_type": "code",
      "metadata": {
        "id": "26jc8w7qPQ-y",
        "colab_type": "code",
        "colab": {}
      },
      "source": [
        ""
      ],
      "execution_count": 0,
      "outputs": []
    }
  ]
}