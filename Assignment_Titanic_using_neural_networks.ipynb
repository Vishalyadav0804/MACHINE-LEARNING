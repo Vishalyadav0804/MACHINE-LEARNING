{
  "nbformat": 4,
  "nbformat_minor": 0,
  "metadata": {
    "kernelspec": {
      "display_name": "Python 3",
      "language": "python",
      "name": "python3"
    },
    "language_info": {
      "codemirror_mode": {
        "name": "ipython",
        "version": 3
      },
      "file_extension": ".py",
      "mimetype": "text/x-python",
      "name": "python",
      "nbconvert_exporter": "python",
      "pygments_lexer": "ipython3",
      "version": "3.7.3"
    },
    "colab": {
      "name": "Assignment-Titanic using neural networks.ipynb",
      "provenance": [],
      "collapsed_sections": []
    }
  },
  "cells": [
    {
      "cell_type": "code",
      "metadata": {
        "id": "p5YzPQSrM2LN",
        "colab_type": "code",
        "colab": {}
      },
      "source": [
        "import numpy as np\n",
        "import matplotlib.pyplot as plt\n",
        "%matplotlib inline\n",
        "import pandas as pd"
      ],
      "execution_count": 0,
      "outputs": []
    },
    {
      "cell_type": "code",
      "metadata": {
        "id": "oY_khIWSM2Lc",
        "colab_type": "code",
        "colab": {}
      },
      "source": [
        "data = pd.read_csv('titanic.csv')"
      ],
      "execution_count": 0,
      "outputs": []
    },
    {
      "cell_type": "code",
      "metadata": {
        "id": "39vTi0NVM2Ln",
        "colab_type": "code",
        "outputId": "4ccf4d38-612d-460a-a858-ab2ae2b49104",
        "colab": {}
      },
      "source": [
        "data.shape"
      ],
      "execution_count": 0,
      "outputs": [
        {
          "output_type": "execute_result",
          "data": {
            "text/plain": [
              "(891, 12)"
            ]
          },
          "metadata": {
            "tags": []
          },
          "execution_count": 18
        }
      ]
    },
    {
      "cell_type": "code",
      "metadata": {
        "id": "RxyR_QKqM2L7",
        "colab_type": "code",
        "outputId": "642e3cba-2dac-494e-e89d-3f5f251d5266",
        "colab": {}
      },
      "source": [
        "data.head()"
      ],
      "execution_count": 0,
      "outputs": [
        {
          "output_type": "execute_result",
          "data": {
            "text/html": [
              "<div>\n",
              "<style scoped>\n",
              "    .dataframe tbody tr th:only-of-type {\n",
              "        vertical-align: middle;\n",
              "    }\n",
              "\n",
              "    .dataframe tbody tr th {\n",
              "        vertical-align: top;\n",
              "    }\n",
              "\n",
              "    .dataframe thead th {\n",
              "        text-align: right;\n",
              "    }\n",
              "</style>\n",
              "<table border=\"1\" class=\"dataframe\">\n",
              "  <thead>\n",
              "    <tr style=\"text-align: right;\">\n",
              "      <th></th>\n",
              "      <th>PassengerId</th>\n",
              "      <th>Survived</th>\n",
              "      <th>Pclass</th>\n",
              "      <th>Name</th>\n",
              "      <th>Sex</th>\n",
              "      <th>Age</th>\n",
              "      <th>SibSp</th>\n",
              "      <th>Parch</th>\n",
              "      <th>Ticket</th>\n",
              "      <th>Fare</th>\n",
              "      <th>Cabin</th>\n",
              "      <th>Embarked</th>\n",
              "    </tr>\n",
              "  </thead>\n",
              "  <tbody>\n",
              "    <tr>\n",
              "      <th>0</th>\n",
              "      <td>1</td>\n",
              "      <td>0</td>\n",
              "      <td>3</td>\n",
              "      <td>Braund, Mr. Owen Harris</td>\n",
              "      <td>male</td>\n",
              "      <td>22.0</td>\n",
              "      <td>1</td>\n",
              "      <td>0</td>\n",
              "      <td>A/5 21171</td>\n",
              "      <td>7.2500</td>\n",
              "      <td>NaN</td>\n",
              "      <td>S</td>\n",
              "    </tr>\n",
              "    <tr>\n",
              "      <th>1</th>\n",
              "      <td>2</td>\n",
              "      <td>1</td>\n",
              "      <td>1</td>\n",
              "      <td>Cumings, Mrs. John Bradley (Florence Briggs Th...</td>\n",
              "      <td>female</td>\n",
              "      <td>38.0</td>\n",
              "      <td>1</td>\n",
              "      <td>0</td>\n",
              "      <td>PC 17599</td>\n",
              "      <td>71.2833</td>\n",
              "      <td>C85</td>\n",
              "      <td>C</td>\n",
              "    </tr>\n",
              "    <tr>\n",
              "      <th>2</th>\n",
              "      <td>3</td>\n",
              "      <td>1</td>\n",
              "      <td>3</td>\n",
              "      <td>Heikkinen, Miss. Laina</td>\n",
              "      <td>female</td>\n",
              "      <td>26.0</td>\n",
              "      <td>0</td>\n",
              "      <td>0</td>\n",
              "      <td>STON/O2. 3101282</td>\n",
              "      <td>7.9250</td>\n",
              "      <td>NaN</td>\n",
              "      <td>S</td>\n",
              "    </tr>\n",
              "    <tr>\n",
              "      <th>3</th>\n",
              "      <td>4</td>\n",
              "      <td>1</td>\n",
              "      <td>1</td>\n",
              "      <td>Futrelle, Mrs. Jacques Heath (Lily May Peel)</td>\n",
              "      <td>female</td>\n",
              "      <td>35.0</td>\n",
              "      <td>1</td>\n",
              "      <td>0</td>\n",
              "      <td>113803</td>\n",
              "      <td>53.1000</td>\n",
              "      <td>C123</td>\n",
              "      <td>S</td>\n",
              "    </tr>\n",
              "    <tr>\n",
              "      <th>4</th>\n",
              "      <td>5</td>\n",
              "      <td>0</td>\n",
              "      <td>3</td>\n",
              "      <td>Allen, Mr. William Henry</td>\n",
              "      <td>male</td>\n",
              "      <td>35.0</td>\n",
              "      <td>0</td>\n",
              "      <td>0</td>\n",
              "      <td>373450</td>\n",
              "      <td>8.0500</td>\n",
              "      <td>NaN</td>\n",
              "      <td>S</td>\n",
              "    </tr>\n",
              "  </tbody>\n",
              "</table>\n",
              "</div>"
            ],
            "text/plain": [
              "   PassengerId  Survived  Pclass  \\\n",
              "0            1         0       3   \n",
              "1            2         1       1   \n",
              "2            3         1       3   \n",
              "3            4         1       1   \n",
              "4            5         0       3   \n",
              "\n",
              "                                                Name     Sex   Age  SibSp  \\\n",
              "0                            Braund, Mr. Owen Harris    male  22.0      1   \n",
              "1  Cumings, Mrs. John Bradley (Florence Briggs Th...  female  38.0      1   \n",
              "2                             Heikkinen, Miss. Laina  female  26.0      0   \n",
              "3       Futrelle, Mrs. Jacques Heath (Lily May Peel)  female  35.0      1   \n",
              "4                           Allen, Mr. William Henry    male  35.0      0   \n",
              "\n",
              "   Parch            Ticket     Fare Cabin Embarked  \n",
              "0      0         A/5 21171   7.2500   NaN        S  \n",
              "1      0          PC 17599  71.2833   C85        C  \n",
              "2      0  STON/O2. 3101282   7.9250   NaN        S  \n",
              "3      0            113803  53.1000  C123        S  \n",
              "4      0            373450   8.0500   NaN        S  "
            ]
          },
          "metadata": {
            "tags": []
          },
          "execution_count": 19
        }
      ]
    },
    {
      "cell_type": "code",
      "metadata": {
        "id": "4gC9VR1eM2MJ",
        "colab_type": "code",
        "outputId": "a067711a-8643-4489-8dc9-027272014262",
        "colab": {}
      },
      "source": [
        "cols_to_drop = ['PassengerId','Name','Ticket','Cabin','Embarked']\n",
        "data = data.drop(cols_to_drop, axis=1)\n",
        "\n",
        "\n",
        "print(data.columns)\n",
        "data.head()"
      ],
      "execution_count": 0,
      "outputs": [
        {
          "output_type": "stream",
          "text": [
            "Index(['Survived', 'Pclass', 'Sex', 'Age', 'SibSp', 'Parch', 'Fare'], dtype='object')\n"
          ],
          "name": "stdout"
        },
        {
          "output_type": "execute_result",
          "data": {
            "text/html": [
              "<div>\n",
              "<style scoped>\n",
              "    .dataframe tbody tr th:only-of-type {\n",
              "        vertical-align: middle;\n",
              "    }\n",
              "\n",
              "    .dataframe tbody tr th {\n",
              "        vertical-align: top;\n",
              "    }\n",
              "\n",
              "    .dataframe thead th {\n",
              "        text-align: right;\n",
              "    }\n",
              "</style>\n",
              "<table border=\"1\" class=\"dataframe\">\n",
              "  <thead>\n",
              "    <tr style=\"text-align: right;\">\n",
              "      <th></th>\n",
              "      <th>Survived</th>\n",
              "      <th>Pclass</th>\n",
              "      <th>Sex</th>\n",
              "      <th>Age</th>\n",
              "      <th>SibSp</th>\n",
              "      <th>Parch</th>\n",
              "      <th>Fare</th>\n",
              "    </tr>\n",
              "  </thead>\n",
              "  <tbody>\n",
              "    <tr>\n",
              "      <th>0</th>\n",
              "      <td>0</td>\n",
              "      <td>3</td>\n",
              "      <td>male</td>\n",
              "      <td>22.0</td>\n",
              "      <td>1</td>\n",
              "      <td>0</td>\n",
              "      <td>7.2500</td>\n",
              "    </tr>\n",
              "    <tr>\n",
              "      <th>1</th>\n",
              "      <td>1</td>\n",
              "      <td>1</td>\n",
              "      <td>female</td>\n",
              "      <td>38.0</td>\n",
              "      <td>1</td>\n",
              "      <td>0</td>\n",
              "      <td>71.2833</td>\n",
              "    </tr>\n",
              "    <tr>\n",
              "      <th>2</th>\n",
              "      <td>1</td>\n",
              "      <td>3</td>\n",
              "      <td>female</td>\n",
              "      <td>26.0</td>\n",
              "      <td>0</td>\n",
              "      <td>0</td>\n",
              "      <td>7.9250</td>\n",
              "    </tr>\n",
              "    <tr>\n",
              "      <th>3</th>\n",
              "      <td>1</td>\n",
              "      <td>1</td>\n",
              "      <td>female</td>\n",
              "      <td>35.0</td>\n",
              "      <td>1</td>\n",
              "      <td>0</td>\n",
              "      <td>53.1000</td>\n",
              "    </tr>\n",
              "    <tr>\n",
              "      <th>4</th>\n",
              "      <td>0</td>\n",
              "      <td>3</td>\n",
              "      <td>male</td>\n",
              "      <td>35.0</td>\n",
              "      <td>0</td>\n",
              "      <td>0</td>\n",
              "      <td>8.0500</td>\n",
              "    </tr>\n",
              "  </tbody>\n",
              "</table>\n",
              "</div>"
            ],
            "text/plain": [
              "   Survived  Pclass     Sex   Age  SibSp  Parch     Fare\n",
              "0         0       3    male  22.0      1      0   7.2500\n",
              "1         1       1  female  38.0      1      0  71.2833\n",
              "2         1       3  female  26.0      0      0   7.9250\n",
              "3         1       1  female  35.0      1      0  53.1000\n",
              "4         0       3    male  35.0      0      0   8.0500"
            ]
          },
          "metadata": {
            "tags": []
          },
          "execution_count": 20
        }
      ]
    },
    {
      "cell_type": "code",
      "metadata": {
        "id": "2EcgsLR1M2MY",
        "colab_type": "code",
        "colab": {}
      },
      "source": [
        "def datatransform(sex):\n",
        "    if sex.lower().startswith('m'):\n",
        "        return 0\n",
        "    elif sex.lower().startswith('f'):\n",
        "        return 1\n",
        "    else:\n",
        "        return sex\n",
        "data['Sex']=data['Sex'].apply(datatransform)`"
      ],
      "execution_count": 0,
      "outputs": []
    },
    {
      "cell_type": "code",
      "metadata": {
        "id": "jw5OJoS1M2Mi",
        "colab_type": "code",
        "outputId": "5097a349-dfdd-4a6e-88b8-d087a2199a01",
        "colab": {}
      },
      "source": [
        "print(data.head())\n",
        "data=data.dropna()\n",
        "data=data.reset_index(drop=True)\n",
        "data.describe()"
      ],
      "execution_count": 0,
      "outputs": [
        {
          "output_type": "stream",
          "text": [
            "   Survived  Pclass  Sex   Age  SibSp  Parch     Fare\n",
            "0         0       3    0  22.0      1      0   7.2500\n",
            "1         1       1    1  38.0      1      0  71.2833\n",
            "2         1       3    1  26.0      0      0   7.9250\n",
            "3         1       1    1  35.0      1      0  53.1000\n",
            "4         0       3    0  35.0      0      0   8.0500\n"
          ],
          "name": "stdout"
        },
        {
          "output_type": "execute_result",
          "data": {
            "text/html": [
              "<div>\n",
              "<style scoped>\n",
              "    .dataframe tbody tr th:only-of-type {\n",
              "        vertical-align: middle;\n",
              "    }\n",
              "\n",
              "    .dataframe tbody tr th {\n",
              "        vertical-align: top;\n",
              "    }\n",
              "\n",
              "    .dataframe thead th {\n",
              "        text-align: right;\n",
              "    }\n",
              "</style>\n",
              "<table border=\"1\" class=\"dataframe\">\n",
              "  <thead>\n",
              "    <tr style=\"text-align: right;\">\n",
              "      <th></th>\n",
              "      <th>Survived</th>\n",
              "      <th>Pclass</th>\n",
              "      <th>Sex</th>\n",
              "      <th>Age</th>\n",
              "      <th>SibSp</th>\n",
              "      <th>Parch</th>\n",
              "      <th>Fare</th>\n",
              "    </tr>\n",
              "  </thead>\n",
              "  <tbody>\n",
              "    <tr>\n",
              "      <th>count</th>\n",
              "      <td>714.000000</td>\n",
              "      <td>714.000000</td>\n",
              "      <td>714.000000</td>\n",
              "      <td>714.000000</td>\n",
              "      <td>714.000000</td>\n",
              "      <td>714.000000</td>\n",
              "      <td>714.000000</td>\n",
              "    </tr>\n",
              "    <tr>\n",
              "      <th>mean</th>\n",
              "      <td>0.406162</td>\n",
              "      <td>2.236695</td>\n",
              "      <td>0.365546</td>\n",
              "      <td>29.699118</td>\n",
              "      <td>0.512605</td>\n",
              "      <td>0.431373</td>\n",
              "      <td>34.694514</td>\n",
              "    </tr>\n",
              "    <tr>\n",
              "      <th>std</th>\n",
              "      <td>0.491460</td>\n",
              "      <td>0.838250</td>\n",
              "      <td>0.481921</td>\n",
              "      <td>14.526497</td>\n",
              "      <td>0.929783</td>\n",
              "      <td>0.853289</td>\n",
              "      <td>52.918930</td>\n",
              "    </tr>\n",
              "    <tr>\n",
              "      <th>min</th>\n",
              "      <td>0.000000</td>\n",
              "      <td>1.000000</td>\n",
              "      <td>0.000000</td>\n",
              "      <td>0.420000</td>\n",
              "      <td>0.000000</td>\n",
              "      <td>0.000000</td>\n",
              "      <td>0.000000</td>\n",
              "    </tr>\n",
              "    <tr>\n",
              "      <th>25%</th>\n",
              "      <td>0.000000</td>\n",
              "      <td>1.000000</td>\n",
              "      <td>0.000000</td>\n",
              "      <td>20.125000</td>\n",
              "      <td>0.000000</td>\n",
              "      <td>0.000000</td>\n",
              "      <td>8.050000</td>\n",
              "    </tr>\n",
              "    <tr>\n",
              "      <th>50%</th>\n",
              "      <td>0.000000</td>\n",
              "      <td>2.000000</td>\n",
              "      <td>0.000000</td>\n",
              "      <td>28.000000</td>\n",
              "      <td>0.000000</td>\n",
              "      <td>0.000000</td>\n",
              "      <td>15.741700</td>\n",
              "    </tr>\n",
              "    <tr>\n",
              "      <th>75%</th>\n",
              "      <td>1.000000</td>\n",
              "      <td>3.000000</td>\n",
              "      <td>1.000000</td>\n",
              "      <td>38.000000</td>\n",
              "      <td>1.000000</td>\n",
              "      <td>1.000000</td>\n",
              "      <td>33.375000</td>\n",
              "    </tr>\n",
              "    <tr>\n",
              "      <th>max</th>\n",
              "      <td>1.000000</td>\n",
              "      <td>3.000000</td>\n",
              "      <td>1.000000</td>\n",
              "      <td>80.000000</td>\n",
              "      <td>5.000000</td>\n",
              "      <td>6.000000</td>\n",
              "      <td>512.329200</td>\n",
              "    </tr>\n",
              "  </tbody>\n",
              "</table>\n",
              "</div>"
            ],
            "text/plain": [
              "         Survived      Pclass         Sex         Age       SibSp       Parch  \\\n",
              "count  714.000000  714.000000  714.000000  714.000000  714.000000  714.000000   \n",
              "mean     0.406162    2.236695    0.365546   29.699118    0.512605    0.431373   \n",
              "std      0.491460    0.838250    0.481921   14.526497    0.929783    0.853289   \n",
              "min      0.000000    1.000000    0.000000    0.420000    0.000000    0.000000   \n",
              "25%      0.000000    1.000000    0.000000   20.125000    0.000000    0.000000   \n",
              "50%      0.000000    2.000000    0.000000   28.000000    0.000000    0.000000   \n",
              "75%      1.000000    3.000000    1.000000   38.000000    1.000000    1.000000   \n",
              "max      1.000000    3.000000    1.000000   80.000000    5.000000    6.000000   \n",
              "\n",
              "             Fare  \n",
              "count  714.000000  \n",
              "mean    34.694514  \n",
              "std     52.918930  \n",
              "min      0.000000  \n",
              "25%      8.050000  \n",
              "50%     15.741700  \n",
              "75%     33.375000  \n",
              "max    512.329200  "
            ]
          },
          "metadata": {
            "tags": []
          },
          "execution_count": 28
        }
      ]
    },
    {
      "cell_type": "code",
      "metadata": {
        "id": "GbZ59wZfM2Mu",
        "colab_type": "code",
        "colab": {}
      },
      "source": [
        "from keras.layers import Dense,Activation,Dropout\n",
        "from keras.models import Sequential\n",
        "from keras.utils import  np_utils"
      ],
      "execution_count": 0,
      "outputs": []
    },
    {
      "cell_type": "code",
      "metadata": {
        "id": "omZ9D0PHM2M8",
        "colab_type": "code",
        "outputId": "e0e91b02-6c5f-4e85-ad4f-3ad4e6b585e4",
        "colab": {}
      },
      "source": [
        "data = data.values\n",
        "split = int(0.80*data.shape[0])\n",
        "\n",
        "X_train = data[:split,1:]\n",
        "X_test = data[split:, 1:]\n",
        "\n",
        "Y_train = data[:split, 0]\n",
        "Y_test = data[split:, 0]\n",
        "\n",
        "print(X_train.shape)\n",
        "print(X_test.shape)\n",
        "\n",
        "print(Y_train.shape)\n",
        "print(Y_test.shape)"
      ],
      "execution_count": 0,
      "outputs": [
        {
          "output_type": "stream",
          "text": [
            "(571, 6)\n",
            "(143, 6)\n",
            "(571,)\n",
            "(143,)\n"
          ],
          "name": "stdout"
        }
      ]
    },
    {
      "cell_type": "code",
      "metadata": {
        "id": "-yiq8ODUM2NF",
        "colab_type": "code",
        "outputId": "592a3231-75b8-45db-9ed1-7b22fe8db521",
        "colab": {}
      },
      "source": [
        "model=Sequential()\n",
        "model.add(Dense(20, input_shape=(6,)))\n",
        "model.add(Activation('linear'))\n",
        "\n",
        "model.add(Dense(20))\n",
        "model.add(Activation('linear'))\n",
        "\n",
        "model.add(Dense(20))\n",
        "model.add(Activation('linear'))\n",
        "\n",
        "model.add(Dropout(0.1))\n",
        "model.add(Dense(1))\n",
        "model.add(Activation('sigmoid'))\n",
        "model.summary()"
      ],
      "execution_count": 0,
      "outputs": [
        {
          "output_type": "stream",
          "text": [
            "_________________________________________________________________\n",
            "Layer (type)                 Output Shape              Param #   \n",
            "=================================================================\n",
            "dense_9 (Dense)              (None, 20)                140       \n",
            "_________________________________________________________________\n",
            "activation_9 (Activation)    (None, 20)                0         \n",
            "_________________________________________________________________\n",
            "dense_10 (Dense)             (None, 20)                420       \n",
            "_________________________________________________________________\n",
            "activation_10 (Activation)   (None, 20)                0         \n",
            "_________________________________________________________________\n",
            "dense_11 (Dense)             (None, 20)                420       \n",
            "_________________________________________________________________\n",
            "activation_11 (Activation)   (None, 20)                0         \n",
            "_________________________________________________________________\n",
            "dropout_3 (Dropout)          (None, 20)                0         \n",
            "_________________________________________________________________\n",
            "dense_12 (Dense)             (None, 1)                 21        \n",
            "_________________________________________________________________\n",
            "activation_12 (Activation)   (None, 1)                 0         \n",
            "=================================================================\n",
            "Total params: 1,001\n",
            "Trainable params: 1,001\n",
            "Non-trainable params: 0\n",
            "_________________________________________________________________\n"
          ],
          "name": "stdout"
        }
      ]
    },
    {
      "cell_type": "code",
      "metadata": {
        "id": "DYAYzTi0M2NP",
        "colab_type": "code",
        "colab": {}
      },
      "source": [
        "model.compile(loss='binary_crossentropy',\n",
        "             optimizer='adam',\n",
        "             metrics=['accuracy'])"
      ],
      "execution_count": 0,
      "outputs": []
    },
    {
      "cell_type": "code",
      "metadata": {
        "id": "HncXjwDaM2NZ",
        "colab_type": "code",
        "outputId": "c48637a5-004e-43a0-ebc4-eecfe05a7c68",
        "colab": {}
      },
      "source": [
        "model.fit(X_train,Y_train,\n",
        "          validation_data=(X_test,Y_test),\n",
        "          batch_size=32,\n",
        "          epochs=12,\n",
        "          verbose=2)"
      ],
      "execution_count": 0,
      "outputs": [
        {
          "output_type": "stream",
          "text": [
            "Train on 571 samples, validate on 143 samples\n",
            "Epoch 1/12\n",
            " - 0s - loss: 0.5096 - acc: 0.7776 - val_loss: 0.4372 - val_acc: 0.8252\n",
            "Epoch 2/12\n",
            " - 0s - loss: 0.5042 - acc: 0.7863 - val_loss: 0.4260 - val_acc: 0.7902\n",
            "Epoch 3/12\n",
            " - 0s - loss: 0.5026 - acc: 0.7741 - val_loss: 0.4713 - val_acc: 0.8042\n",
            "Epoch 4/12\n",
            " - 0s - loss: 0.5027 - acc: 0.7846 - val_loss: 0.4522 - val_acc: 0.7972\n",
            "Epoch 5/12\n",
            " - 0s - loss: 0.4896 - acc: 0.7846 - val_loss: 0.4227 - val_acc: 0.7902\n",
            "Epoch 6/12\n",
            " - 0s - loss: 0.4903 - acc: 0.7916 - val_loss: 0.4313 - val_acc: 0.8182\n",
            "Epoch 7/12\n",
            " - 0s - loss: 0.4775 - acc: 0.7846 - val_loss: 0.4635 - val_acc: 0.8182\n",
            "Epoch 8/12\n",
            " - 0s - loss: 0.4824 - acc: 0.7881 - val_loss: 0.4418 - val_acc: 0.8042\n",
            "Epoch 9/12\n",
            " - 0s - loss: 0.4984 - acc: 0.7758 - val_loss: 0.4548 - val_acc: 0.8182\n",
            "Epoch 10/12\n",
            " - 0s - loss: 0.4771 - acc: 0.7881 - val_loss: 0.4234 - val_acc: 0.8182\n",
            "Epoch 11/12\n",
            " - 0s - loss: 0.5060 - acc: 0.7601 - val_loss: 0.4147 - val_acc: 0.8252\n",
            "Epoch 12/12\n",
            " - 0s - loss: 0.4931 - acc: 0.7741 - val_loss: 0.4402 - val_acc: 0.8182\n"
          ],
          "name": "stdout"
        },
        {
          "output_type": "execute_result",
          "data": {
            "text/plain": [
              "<keras.callbacks.History at 0x197b488ba8>"
            ]
          },
          "metadata": {
            "tags": []
          },
          "execution_count": 39
        }
      ]
    },
    {
      "cell_type": "code",
      "metadata": {
        "id": "7xzbsQkMM2Nm",
        "colab_type": "code",
        "colab": {}
      },
      "source": [
        ""
      ],
      "execution_count": 0,
      "outputs": []
    },
    {
      "cell_type": "code",
      "metadata": {
        "id": "whMjbi73M2Nw",
        "colab_type": "code",
        "colab": {}
      },
      "source": [
        ""
      ],
      "execution_count": 0,
      "outputs": []
    },
    {
      "cell_type": "code",
      "metadata": {
        "id": "NINyGHRTM2N4",
        "colab_type": "code",
        "colab": {}
      },
      "source": [
        ""
      ],
      "execution_count": 0,
      "outputs": []
    },
    {
      "cell_type": "code",
      "metadata": {
        "id": "xCyRo4RmM2OA",
        "colab_type": "code",
        "colab": {}
      },
      "source": [
        ""
      ],
      "execution_count": 0,
      "outputs": []
    }
  ]
}