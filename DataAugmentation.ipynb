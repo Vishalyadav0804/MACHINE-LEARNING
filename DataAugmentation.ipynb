{
  "nbformat": 4,
  "nbformat_minor": 0,
  "metadata": {
    "kernelspec": {
      "display_name": "Python 3",
      "language": "python",
      "name": "python3"
    },
    "language_info": {
      "codemirror_mode": {
        "name": "ipython",
        "version": 3
      },
      "file_extension": ".py",
      "mimetype": "text/x-python",
      "name": "python",
      "nbconvert_exporter": "python",
      "pygments_lexer": "ipython3",
      "version": "3.7.3"
    },
    "colab": {
      "name": "DataAugmentation.ipynb",
      "provenance": [],
      "collapsed_sections": []
    }
  },
  "cells": [
    {
      "cell_type": "code",
      "metadata": {
        "id": "JsCDpJSxN2Iv",
        "colab_type": "code",
        "outputId": "7713814f-3650-4d84-a19a-c428846967df",
        "colab": {}
      },
      "source": [
        "pip install Pillow"
      ],
      "execution_count": 0,
      "outputs": [
        {
          "output_type": "stream",
          "text": [
            "Collecting Pillow\n",
            "  Downloading https://files.pythonhosted.org/packages/40/f2/a424d4d5dd6aa8c26636969decbb3da1c01286d344e71429b1d648bccb64/Pillow-6.0.0-cp37-cp37m-win_amd64.whl (2.0MB)\n",
            "Installing collected packages: Pillow\n",
            "Successfully installed Pillow-6.0.0\n",
            "Note: you may need to restart the kernel to use updated packages.\n"
          ],
          "name": "stdout"
        }
      ]
    },
    {
      "cell_type": "code",
      "metadata": {
        "id": "8SaT5kUIN2JG",
        "colab_type": "code",
        "outputId": "6339378e-36c0-4a42-94a4-907f1c61a9c3",
        "colab": {}
      },
      "source": [
        "from keras.preprocessing.image import ImageDataGenerator,load_img,img_to_array,array_to_img"
      ],
      "execution_count": 0,
      "outputs": [
        {
          "output_type": "stream",
          "text": [
            "Using TensorFlow backend.\n"
          ],
          "name": "stderr"
        }
      ]
    },
    {
      "cell_type": "code",
      "metadata": {
        "id": "t7PRXulaN2JV",
        "colab_type": "code",
        "colab": {}
      },
      "source": [
        "datagen=ImageDataGenerator(rotation_range=40,\n",
        "                          zoom_range=0.2,\n",
        "                          horizontal_flip=True,\n",
        "                          vertical_flip=True,\n",
        "                          shear_range=0.2,\n",
        "                          width_shift_range=0.2,\n",
        "                          height_shift_range=0.2,\n",
        "                          fill_mode='nearest')\n",
        "img=img=load_img('landscape.jpg')\n",
        "x=img_to_array(img)\n",
        "x=x.reshape((1,)+x.shape)\n",
        "\n",
        "i=0\n",
        "for batch in datagen.flow(x,batch_size=2,\n",
        "                         save_to_dir='output',\n",
        "                         save_prefix='datagen',\n",
        "                         save_format='jpg'):\n",
        "    i+=1\n",
        "    if i>20:\n",
        "        break"
      ],
      "execution_count": 0,
      "outputs": []
    },
    {
      "cell_type": "code",
      "metadata": {
        "id": "VAMemu_YN2Jk",
        "colab_type": "code",
        "colab": {}
      },
      "source": [
        ""
      ],
      "execution_count": 0,
      "outputs": []
    }
  ]
}