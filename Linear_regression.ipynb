{
  "nbformat": 4,
  "nbformat_minor": 0,
  "metadata": {
    "kernelspec": {
      "display_name": "Python 3",
      "language": "python",
      "name": "python3"
    },
    "language_info": {
      "codemirror_mode": {
        "name": "ipython",
        "version": 3
      },
      "file_extension": ".py",
      "mimetype": "text/x-python",
      "name": "python",
      "nbconvert_exporter": "python",
      "pygments_lexer": "ipython3",
      "version": "3.7.3"
    },
    "colab": {
      "name": "Linear regression.ipynb",
      "provenance": [],
      "collapsed_sections": []
    }
  },
  "cells": [
    {
      "cell_type": "code",
      "metadata": {
        "id": "8YWJoha4PFHK",
        "colab_type": "code",
        "colab": {}
      },
      "source": [
        "import numpy as np\n",
        "import matplotlib.pyplot as plt\n",
        "%matplotlib inline"
      ],
      "execution_count": 0,
      "outputs": []
    },
    {
      "cell_type": "code",
      "metadata": {
        "id": "l4hzOeubPFHg",
        "colab_type": "code",
        "colab": {}
      },
      "source": [
        "from sklearn.datasets import make_regression"
      ],
      "execution_count": 0,
      "outputs": []
    },
    {
      "cell_type": "code",
      "metadata": {
        "id": "GAxXmIpTPFHu",
        "colab_type": "code",
        "outputId": "fe60cf77-ab73-46d2-ddad-3e44967af2b4",
        "colab": {}
      },
      "source": [
        "X,y=make_regression(n_samples=500,n_features=1,bias=10,noise=15)#bias shift values from 0 to 10 and noise implies spreadness of data\n",
        "print(X.shape,y.shape)\n",
        "plt.plot(X,y,'.')\n",
        "plt.show()"
      ],
      "execution_count": 0,
      "outputs": [
        {
          "output_type": "stream",
          "text": [
            "(500, 1) (500,)\n"
          ],
          "name": "stdout"
        },
        {
          "output_type": "display_data",
          "data": {
            "image/png": "[encoded data removed]",
            "text/plain": [
              "<Figure size 432x288 with 1 Axes>"
            ]
          },
          "metadata": {
            "tags": [],
            "needs_background": "light"
          }
        }
      ]
    },
    {
      "cell_type": "code",
      "metadata": {
        "id": "8DaBT_v8PFH-",
        "colab_type": "code",
        "colab": {}
      },
      "source": [
        "from sklearn.model_selection import train_test_split"
      ],
      "execution_count": 0,
      "outputs": []
    },
    {
      "cell_type": "code",
      "metadata": {
        "id": "ANtXKMXVPFIL",
        "colab_type": "code",
        "colab": {}
      },
      "source": [
        "X_train,X_test,y_train,y_test=train_test_split(X,y)"
      ],
      "execution_count": 0,
      "outputs": []
    },
    {
      "cell_type": "code",
      "metadata": {
        "id": "JOSi-aJhPFIo",
        "colab_type": "code",
        "outputId": "b499034f-8739-4d58-fac3-5390059f867e",
        "colab": {}
      },
      "source": [
        "print(X_train.shape,y_train.shape)\n",
        "print(X_test.shape,y_test.shape)"
      ],
      "execution_count": 0,
      "outputs": [
        {
          "output_type": "stream",
          "text": [
            "(375, 1) (375,)\n",
            "(125, 1) (125,)\n"
          ],
          "name": "stdout"
        }
      ]
    },
    {
      "cell_type": "code",
      "metadata": {
        "id": "p86KnobHPFI4",
        "colab_type": "code",
        "colab": {}
      },
      "source": [
        "def hypothesis(x,W): #for scalar quantity use lowercase and upercase for vector\n",
        "    x0=1\n",
        "    x1=x\n",
        "    h=W[0]*x0+W[1]*x1\n",
        "    return h"
      ],
      "execution_count": 0,
      "outputs": []
    },
    {
      "cell_type": "code",
      "metadata": {
        "id": "APLKtYmHPFJE",
        "colab_type": "code",
        "colab": {}
      },
      "source": [
        "def get_error(X,W,y_true): #y_true is correct ans column\n",
        "    err=0.0\n",
        "    m=X.shape[0]\n",
        "    for i in range(m):\n",
        "        err+=(hypothesis(X[i],W)-y_true[i])**2\n",
        "    err/=2*m\n",
        "    return err"
      ],
      "execution_count": 0,
      "outputs": []
    },
    {
      "cell_type": "code",
      "metadata": {
        "id": "RIryY6tyPFJO",
        "colab_type": "code",
        "colab": {}
      },
      "source": [
        "def gradient_descent(X,W,y_true,learning_rate=0.1):  #learning_rate is value of alpha (0.1 is default set value)\n",
        "    m=X.shape[0]\n",
        "    grad0=0.0\n",
        "    grad1=0.0\n",
        "    for i in range(m):\n",
        "        grad0+=(y_true[i]-hypothesis(X[i],W))\n",
        "        grad1+=(y_true[i]-hypothesis(X[i],W))*X[i]\n",
        "    grad0/=m\n",
        "    grad1/=m\n",
        "    W[0]+=learning_rate*grad0\n",
        "    W[1]+=learning_rate*grad1\n",
        "    err=get_error(X,W,y_true)\n",
        "    return W,err"
      ],
      "execution_count": 0,
      "outputs": []
    },
    {
      "cell_type": "code",
      "metadata": {
        "id": "QUFRWd6mPFJb",
        "colab_type": "code",
        "outputId": "9494b045-7749-4529-e34d-bb00bd45cc7c",
        "colab": {}
      },
      "source": [
        "W=np.array([0.1,0.1])\n",
        "loss=[]\n",
        "for i in range(400):\n",
        "    W,err=gradient_descent(X_train,W,y_train,learning_rate=0.1)\n",
        "    loss.append(err)\n",
        "print(W)"
      ],
      "execution_count": 0,
      "outputs": [
        {
          "output_type": "stream",
          "text": [
            "[ 9.62141297 57.42226724]\n"
          ],
          "name": "stdout"
        }
      ]
    },
    {
      "cell_type": "code",
      "metadata": {
        "id": "vFJhrQVlPFJm",
        "colab_type": "code",
        "outputId": "83e36bcb-6980-41ae-bc22-cc151ddbe835",
        "colab": {}
      },
      "source": [
        "plt.plot(loss)\n",
        "plt.show()"
      ],
      "execution_count": 0,
      "outputs": [
        {
          "output_type": "display_data",
          "data": {
            "image/png": "[encoded data removed]",
            "text/plain": [
              "<Figure size 432x288 with 1 Axes>"
            ]
          },
          "metadata": {
            "tags": [],
            "needs_background": "light"
          }
        }
      ]
    },
    {
      "cell_type": "code",
      "metadata": {
        "id": "2pZ0fUfkPFJy",
        "colab_type": "code",
        "outputId": "fd377da9-8d7f-49e8-fc88-a7776ac61938",
        "colab": {}
      },
      "source": [
        "plt.plot(X,y,'.')\n",
        "x_hyp=np.arange(-4,4)\n",
        "y_hyp=W[0]+W[1]*x_hyp\n",
        "plt.plot(x_hyp,y_hyp)\n",
        "plt.show()"
      ],
      "execution_count": 0,
      "outputs": [
        {
          "output_type": "display_data",
          "data": {
            "image/png": "[encoded data removed]",
            "text/plain": [
              "<Figure size 432x288 with 1 Axes>"
            ]
          },
          "metadata": {
            "tags": [],
            "needs_background": "light"
          }
        }
      ]
    },
    {
      "cell_type": "code",
      "metadata": {
        "id": "pf8iS8MiPFJ9",
        "colab_type": "code",
        "colab": {}
      },
      "source": [
        ""
      ],
      "execution_count": 0,
      "outputs": []
    },
    {
      "cell_type": "code",
      "metadata": {
        "id": "58ayfwkmPFKG",
        "colab_type": "code",
        "colab": {}
      },
      "source": [
        "def stochastic_gradient_descent(X,W,y_true,learning_rate=0.1):\n",
        "    loss=[]\n",
        "    m=X.shape[0]\n",
        "    for i in range(m):\n",
        "        grad0=(y_true[i]-hypothesis(X[i],W))\n",
        "        grad1=(y_true[i]-hypothesis(X[i],W))*X[i]\n",
        "        W[0]+=learning_rate*grad0\n",
        "        W[1]+=learning_rate*grad1\n",
        "        err=get_error(X,W,y_true)\n",
        "        loss.append(err)\n",
        "    return W,loss\n"
      ],
      "execution_count": 0,
      "outputs": []
    },
    {
      "cell_type": "code",
      "metadata": {
        "id": "Oe4XqGJePFKS",
        "colab_type": "code",
        "outputId": "5b967e4e-f733-4baf-c809-617de1850ace",
        "colab": {}
      },
      "source": [
        "W=np.array([0.1,0.1])\n",
        "W,loss=stochastic_gradient_descent(X_train,W,y_train)\n",
        "print(W)"
      ],
      "execution_count": 0,
      "outputs": [
        {
          "output_type": "stream",
          "text": [
            "[ 8.71107753 60.64095839]\n"
          ],
          "name": "stdout"
        }
      ]
    },
    {
      "cell_type": "code",
      "metadata": {
        "id": "gCzCp4r_PFKi",
        "colab_type": "code",
        "outputId": "ba4de483-c34e-448a-f53c-d10150412cfc",
        "colab": {}
      },
      "source": [
        "plt.plot(loss)\n",
        "plt.show()"
      ],
      "execution_count": 0,
      "outputs": [
        {
          "output_type": "display_data",
          "data": {
            "image/png": "[encoded data removed]",
            "text/plain": [
              "<Figure size 432x288 with 1 Axes>"
            ]
          },
          "metadata": {
            "tags": [],
            "needs_background": "light"
          }
        }
      ]
    },
    {
      "cell_type": "code",
      "metadata": {
        "id": "UkjFsGCpPFKu",
        "colab_type": "code",
        "outputId": "e80afae8-ba25-44cc-a3a1-4fcf5ebc8a0b",
        "colab": {}
      },
      "source": [
        "plt.plot(X,y,'.')\n",
        "x_hyp=np.arange(-4,4)\n",
        "y_hyp=W[0]+W[1]*x_hyp\n",
        "plt.plot(x_hyp,y_hyp)\n",
        "plt.show()"
      ],
      "execution_count": 0,
      "outputs": [
        {
          "output_type": "display_data",
          "data": {
            "image/png": "[encoded data removed]",
            "text/plain": [
              "<Figure size 432x288 with 1 Axes>"
            ]
          },
          "metadata": {
            "tags": [],
            "needs_background": "light"
          }
        }
      ]
    },
    {
      "cell_type": "code",
      "metadata": {
        "id": "OG9t7iU-PFK_",
        "colab_type": "code",
        "colab": {}
      },
      "source": [
        ""
      ],
      "execution_count": 0,
      "outputs": []
    },
    {
      "cell_type": "markdown",
      "metadata": {
        "id": "LXCwd4C-PFLN",
        "colab_type": "text"
      },
      "source": [
        "# From sklearn"
      ]
    },
    {
      "cell_type": "code",
      "metadata": {
        "id": "kRObKoSaPFLR",
        "colab_type": "code",
        "outputId": "a0a4def7-c05a-4aab-89bd-21fb234f44bd",
        "colab": {}
      },
      "source": [
        "from sklearn.linear_model import LinearRegression\n",
        "regression=LinearRegression()\n",
        "regression.fit(X_train,y_train)\n",
        "regression.score(X_test,y_test)"
      ],
      "execution_count": 0,
      "outputs": [
        {
          "output_type": "execute_result",
          "data": {
            "text/plain": [
              "0.935042229870389"
            ]
          },
          "metadata": {
            "tags": []
          },
          "execution_count": 36
        }
      ]
    },
    {
      "cell_type": "code",
      "metadata": {
        "id": "rHOXOG4UPFLl",
        "colab_type": "code",
        "outputId": "d9198f79-b2c4-415e-dee9-3c100bb897f4",
        "colab": {}
      },
      "source": [
        "regression.coef_"
      ],
      "execution_count": 0,
      "outputs": [
        {
          "output_type": "execute_result",
          "data": {
            "text/plain": [
              "array([57.42226724])"
            ]
          },
          "metadata": {
            "tags": []
          },
          "execution_count": 37
        }
      ]
    },
    {
      "cell_type": "code",
      "metadata": {
        "id": "5_9svyECPFNE",
        "colab_type": "code",
        "outputId": "eb70607e-b889-4808-ff95-20f2f6e40198",
        "colab": {}
      },
      "source": [
        "regression.intercept_"
      ],
      "execution_count": 0,
      "outputs": [
        {
          "output_type": "execute_result",
          "data": {
            "text/plain": [
              "9.621412970416321"
            ]
          },
          "metadata": {
            "tags": []
          },
          "execution_count": 38
        }
      ]
    },
    {
      "cell_type": "code",
      "metadata": {
        "id": "ZKXy4DjQPFNk",
        "colab_type": "code",
        "colab": {}
      },
      "source": [
        ""
      ],
      "execution_count": 0,
      "outputs": []
    }
  ]
}