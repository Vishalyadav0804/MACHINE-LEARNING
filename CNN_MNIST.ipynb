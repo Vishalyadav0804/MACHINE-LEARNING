{
  "nbformat": 4,
  "nbformat_minor": 0,
  "metadata": {
    "kernelspec": {
      "display_name": "Python 3",
      "language": "python",
      "name": "python3"
    },
    "language_info": {
      "codemirror_mode": {
        "name": "ipython",
        "version": 3
      },
      "file_extension": ".py",
      "mimetype": "text/x-python",
      "name": "python",
      "nbconvert_exporter": "python",
      "pygments_lexer": "ipython3",
      "version": "3.7.3"
    },
    "colab": {
      "name": "CNN-MNIST.ipynb",
      "provenance": [],
      "collapsed_sections": []
    }
  },
  "cells": [
    {
      "cell_type": "code",
      "metadata": {
        "id": "2p9SaOkhNy7i",
        "colab_type": "code",
        "colab": {}
      },
      "source": [
        "import numpy as np\n",
        "import matplotlib.pyplot as plt\n",
        "%matplotlib inline\n"
      ],
      "execution_count": 0,
      "outputs": []
    },
    {
      "cell_type": "code",
      "metadata": {
        "id": "gYoGCV69Ny9E",
        "colab_type": "code",
        "colab": {}
      },
      "source": [
        "from keras.utils import np_utils\n",
        "from keras.layers import Dense,Activation,Flatten,Convolution2D,MaxPooling2D,Dropout"
      ],
      "execution_count": 0,
      "outputs": []
    },
    {
      "cell_type": "code",
      "metadata": {
        "id": "jOBWJA8aNy9f",
        "colab_type": "code",
        "colab": {}
      },
      "source": [
        "from keras.models import Sequential"
      ],
      "execution_count": 0,
      "outputs": []
    },
    {
      "cell_type": "code",
      "metadata": {
        "id": "ioezxf43Ny9q",
        "colab_type": "code",
        "outputId": "c61a7bbd-adef-4402-c6a3-21d0129211bb",
        "colab": {}
      },
      "source": [
        "from keras.datasets import mnist\n",
        "(x_train,y_train),(x_test,y_test)=mnist.load_data()\n",
        "print(x_train.shape,y_train.shape)\n",
        "print(x_test.shape,y_test.shape)"
      ],
      "execution_count": 0,
      "outputs": [
        {
          "output_type": "stream",
          "text": [
            "(60000, 28, 28) (60000,)\n",
            "(10000, 28, 28) (10000,)\n"
          ],
          "name": "stdout"
        }
      ]
    },
    {
      "cell_type": "code",
      "metadata": {
        "id": "TEmZScv1Ny9-",
        "colab_type": "code",
        "outputId": "3d065999-c1f3-4ffc-aff7-02e7f8b46087",
        "colab": {}
      },
      "source": [
        "np.unique(y_train)"
      ],
      "execution_count": 0,
      "outputs": [
        {
          "output_type": "execute_result",
          "data": {
            "text/plain": [
              "array([0, 1, 2, 3, 4, 5, 6, 7, 8, 9], dtype=uint8)"
            ]
          },
          "metadata": {
            "tags": []
          },
          "execution_count": 18
        }
      ]
    },
    {
      "cell_type": "code",
      "metadata": {
        "id": "QEtr9CPjNy-J",
        "colab_type": "code",
        "outputId": "5c9ec690-a542-4fdf-8b0b-7c9b220cdd00",
        "colab": {}
      },
      "source": [
        "plt.imshow(x_train[0],cmap='gray')\n",
        "plt.show()"
      ],
      "execution_count": 0,
      "outputs": [
        {
          "output_type": "display_data",
          "data": {
            "image/png": "[encoded data removed]",
            "text/plain": [
              "<Figure size 432x288 with 1 Axes>"
            ]
          },
          "metadata": {
            "tags": [],
            "needs_background": "light"
          }
        }
      ]
    },
    {
      "cell_type": "code",
      "metadata": {
        "id": "v_0ZWlFdNy-X",
        "colab_type": "code",
        "outputId": "d70cdc48-e1f4-4324-ee1a-f5ab81273f6a",
        "colab": {}
      },
      "source": [
        "X_train=x_train.reshape(-1,28,28,1)  #-1 is showing 60000    1 for 1-D ie gray.....if BRG then write 3 inplace of 1\n",
        "X_test=x_test.reshape(-1,28,28,1)\n",
        "print(X_train.shape,X_test.shape)"
      ],
      "execution_count": 0,
      "outputs": [
        {
          "output_type": "stream",
          "text": [
            "(60000, 28, 28, 1) (10000, 28, 28, 1)\n"
          ],
          "name": "stdout"
        }
      ]
    },
    {
      "cell_type": "code",
      "metadata": {
        "id": "PAvUJhUbNy-g",
        "colab_type": "code",
        "outputId": "876d8096-1f99-4864-9d3c-bd41e9313dd0",
        "colab": {}
      },
      "source": [
        "Y_train=np_utils.to_categorical(y_train)  #one hard encoding----means if image is 5 then [0,0,0,0,0,1,0,0,0,0]\n",
        "Y_test=np_utils.to_categorical(y_test)\n",
        "print(Y_train.shape,Y_test.shape)"
      ],
      "execution_count": 0,
      "outputs": [
        {
          "output_type": "stream",
          "text": [
            "(60000, 10) (10000, 10)\n"
          ],
          "name": "stdout"
        }
      ]
    },
    {
      "cell_type": "code",
      "metadata": {
        "id": "umlN5FkHNy-r",
        "colab_type": "code",
        "outputId": "162ce2a6-1a7c-4b2a-a822-f556252e1e53",
        "colab": {}
      },
      "source": [
        "X_train=X_train[:3600]\n",
        "X_test=X_test[:900]\n",
        "\n",
        "Y_train=Y_train[:3600]\n",
        "Y_test=Y_test[:900]\n",
        "\n",
        "print(X_train.shape,X_test.shape)\n",
        "print(Y_train.shape,Y_test.shape)"
      ],
      "execution_count": 0,
      "outputs": [
        {
          "output_type": "stream",
          "text": [
            "(3600, 28, 28, 1) (900, 28, 28, 1)\n",
            "(3600, 10) (900, 10)\n"
          ],
          "name": "stdout"
        }
      ]
    },
    {
      "cell_type": "code",
      "metadata": {
        "id": "TATeacrYNy-1",
        "colab_type": "code",
        "outputId": "7c565162-2195-4e3e-ab55-875f525c3ef8",
        "colab": {}
      },
      "source": [
        "model=Sequential()\n",
        "#(28,28,1)\n",
        "model.add(Convolution2D(32,3,3,input_shape=(28,28,1)))  #32-no. of filters ,(3,3) is size of filter\n",
        "model.add(Activation('relu'))\n",
        "#(26,26,32)  32--depth ,(26=28-3+1)\n",
        "\n",
        "model.add(Convolution2D(64,3,3))\n",
        "model.add(Activation('relu'))\n",
        "#(24,24,64)\n",
        "\n",
        "model.add(MaxPooling2D(pool_size=(2,2)))   #features are reduced to 1/4\n",
        "#(12,12,64)\n",
        "\n",
        "model.add(Convolution2D(16,3,3))\n",
        "model.add(Activation('relu'))\n",
        "#(10,10,16)\n",
        "\n",
        "model.add(Flatten())  #flatten image\n",
        "#(1600)\n",
        "\n",
        "model.add(Dropout(0.25))  #randomly 25 % weights will drop ie 25% weights will be zero\n",
        "\n",
        "model.add(Dense(10))  #number of classes=10\n",
        "model.add(Activation('softmax'))\n",
        "\n",
        "model.summary()"
      ],
      "execution_count": 0,
      "outputs": [
        {
          "output_type": "stream",
          "text": [
            "C:\\Users\\RAHUL\\AppData\\Local\\Programs\\Python\\Python37\\lib\\site-packages\\ipykernel_launcher.py:3: UserWarning: Update your `Conv2D` call to the Keras 2 API: `Conv2D(32, (3, 3), input_shape=(28, 28, 1...)`\n",
            "  This is separate from the ipykernel package so we can avoid doing imports until\n",
            "C:\\Users\\RAHUL\\AppData\\Local\\Programs\\Python\\Python37\\lib\\site-packages\\ipykernel_launcher.py:7: UserWarning: Update your `Conv2D` call to the Keras 2 API: `Conv2D(64, (3, 3))`\n",
            "  import sys\n",
            "C:\\Users\\RAHUL\\AppData\\Local\\Programs\\Python\\Python37\\lib\\site-packages\\ipykernel_launcher.py:14: UserWarning: Update your `Conv2D` call to the Keras 2 API: `Conv2D(16, (3, 3))`\n",
            "  \n"
          ],
          "name": "stderr"
        },
        {
          "output_type": "stream",
          "text": [
            "_________________________________________________________________\n",
            "Layer (type)                 Output Shape              Param #   \n",
            "=================================================================\n",
            "conv2d_7 (Conv2D)            (None, 26, 26, 32)        320       \n",
            "_________________________________________________________________\n",
            "activation_9 (Activation)    (None, 26, 26, 32)        0         \n",
            "_________________________________________________________________\n",
            "conv2d_8 (Conv2D)            (None, 24, 24, 64)        18496     \n",
            "_________________________________________________________________\n",
            "activation_10 (Activation)   (None, 24, 24, 64)        0         \n",
            "_________________________________________________________________\n",
            "max_pooling2d_3 (MaxPooling2 (None, 12, 12, 64)        0         \n",
            "_________________________________________________________________\n",
            "conv2d_9 (Conv2D)            (None, 10, 10, 16)        9232      \n",
            "_________________________________________________________________\n",
            "activation_11 (Activation)   (None, 10, 10, 16)        0         \n",
            "_________________________________________________________________\n",
            "flatten_3 (Flatten)          (None, 1600)              0         \n",
            "_________________________________________________________________\n",
            "dropout_3 (Dropout)          (None, 1600)              0         \n",
            "_________________________________________________________________\n",
            "dense_3 (Dense)              (None, 10)                16010     \n",
            "_________________________________________________________________\n",
            "activation_12 (Activation)   (None, 10)                0         \n",
            "=================================================================\n",
            "Total params: 44,058\n",
            "Trainable params: 44,058\n",
            "Non-trainable params: 0\n",
            "_________________________________________________________________\n"
          ],
          "name": "stdout"
        }
      ]
    },
    {
      "cell_type": "code",
      "metadata": {
        "id": "KAIhaUzmNy_C",
        "colab_type": "code",
        "colab": {}
      },
      "source": [
        "#320=32*3*3+32\n",
        "#18496=32*3*3*64+64"
      ],
      "execution_count": 0,
      "outputs": []
    },
    {
      "cell_type": "code",
      "metadata": {
        "id": "L7UXVNaXNy_M",
        "colab_type": "code",
        "colab": {}
      },
      "source": [
        "model.compile(loss='categorical_crossentropy',\n",
        "             optimizer='adam',\n",
        "             metrics=['accuracy'])"
      ],
      "execution_count": 0,
      "outputs": []
    },
    {
      "cell_type": "code",
      "metadata": {
        "id": "r0HFwpItNy_V",
        "colab_type": "code",
        "outputId": "1fec8482-79f8-4972-8234-7a02ab9bb494",
        "colab": {}
      },
      "source": [
        "model.fit(X_train,Y_train,\n",
        "          validation_data=(X_test,Y_test),\n",
        "          batch_size=20,\n",
        "          nb_epoch=12,\n",
        "          verbose=2)"
      ],
      "execution_count": 0,
      "outputs": [
        {
          "output_type": "stream",
          "text": [
            "C:\\Users\\RAHUL\\AppData\\Local\\Programs\\Python\\Python37\\lib\\site-packages\\keras\\models.py:939: UserWarning: The `nb_epoch` argument in `fit` has been renamed `epochs`.\n",
            "  warnings.warn('The `nb_epoch` argument in `fit` '\n"
          ],
          "name": "stderr"
        },
        {
          "output_type": "stream",
          "text": [
            "Train on 3600 samples, validate on 900 samples\n",
            "Epoch 1/12\n",
            " - 33s - loss: 1.5585 - acc: 0.6875 - val_loss: 0.4574 - val_acc: 0.8478\n",
            "Epoch 2/12\n",
            " - 16s - loss: 0.3245 - acc: 0.9031 - val_loss: 0.2632 - val_acc: 0.9156\n",
            "Epoch 3/12\n",
            " - 15s - loss: 0.1854 - acc: 0.9475 - val_loss: 0.1996 - val_acc: 0.9333\n",
            "Epoch 4/12\n",
            " - 14s - loss: 0.1529 - acc: 0.9553 - val_loss: 0.1893 - val_acc: 0.9422\n",
            "Epoch 5/12\n",
            " - 14s - loss: 0.0950 - acc: 0.9711 - val_loss: 0.1642 - val_acc: 0.9556\n",
            "Epoch 6/12\n",
            " - 14s - loss: 0.0900 - acc: 0.9728 - val_loss: 0.3016 - val_acc: 0.9178\n",
            "Epoch 7/12\n",
            " - 15s - loss: 0.0803 - acc: 0.9750 - val_loss: 0.2148 - val_acc: 0.9456\n",
            "Epoch 8/12\n",
            " - 16s - loss: 0.0718 - acc: 0.9753 - val_loss: 0.1511 - val_acc: 0.9578\n",
            "Epoch 9/12\n",
            " - 14s - loss: 0.0583 - acc: 0.9814 - val_loss: 0.1565 - val_acc: 0.9578\n",
            "Epoch 10/12\n",
            " - 14s - loss: 0.0400 - acc: 0.9864 - val_loss: 0.1970 - val_acc: 0.9478\n",
            "Epoch 11/12\n",
            " - 14s - loss: 0.0452 - acc: 0.9839 - val_loss: 0.1881 - val_acc: 0.9500\n",
            "Epoch 12/12\n",
            " - 15s - loss: 0.0318 - acc: 0.9900 - val_loss: 0.2220 - val_acc: 0.9544\n"
          ],
          "name": "stdout"
        },
        {
          "output_type": "execute_result",
          "data": {
            "text/plain": [
              "<keras.callbacks.History at 0x3051169e8>"
            ]
          },
          "metadata": {
            "tags": []
          },
          "execution_count": 31
        }
      ]
    },
    {
      "cell_type": "code",
      "metadata": {
        "id": "sXF3SciPNy_g",
        "colab_type": "code",
        "colab": {}
      },
      "source": [
        ""
      ],
      "execution_count": 0,
      "outputs": []
    },
    {
      "cell_type": "code",
      "metadata": {
        "id": "JAt-r81uNy_r",
        "colab_type": "code",
        "colab": {}
      },
      "source": [
        ""
      ],
      "execution_count": 0,
      "outputs": []
    }
  ]
}