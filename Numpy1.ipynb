{
  "nbformat": 4,
  "nbformat_minor": 0,
  "metadata": {
    "kernelspec": {
      "display_name": "Python 3",
      "language": "python",
      "name": "python3"
    },
    "language_info": {
      "codemirror_mode": {
        "name": "ipython",
        "version": 3
      },
      "file_extension": ".py",
      "mimetype": "text/x-python",
      "name": "python",
      "nbconvert_exporter": "python",
      "pygments_lexer": "ipython3",
      "version": "3.7.3"
    },
    "colab": {
      "name": "Numpy1.ipynb",
      "provenance": [],
      "collapsed_sections": [
        "MU0JV7QTQMVi",
        "lhSwvwiQQMWI",
        "-VDqc4gwQMXF",
        "gvVNBgY2QMZE",
        "2amt43rGQMaz",
        "XdR2Vmb1QMbS",
        "FaChh6bVQMdn"
      ]
    }
  },
  "cells": [
    {
      "cell_type": "code",
      "metadata": {
        "id": "Xxb54swsQMTI",
        "colab_type": "code",
        "colab": {}
      },
      "source": [
        "for new line \n",
        "esc + a\n",
        "or\n",
        "esc +b"
      ],
      "execution_count": 0,
      "outputs": []
    },
    {
      "cell_type": "code",
      "metadata": {
        "id": "W8VtKG_FQMTS",
        "colab_type": "code",
        "colab": {}
      },
      "source": [
        "for deleting line\n",
        "esc +d d"
      ],
      "execution_count": 0,
      "outputs": []
    },
    {
      "cell_type": "code",
      "metadata": {
        "id": "-ueXMpjAQMTb",
        "colab_type": "code",
        "outputId": "40943c2c-cf92-49c8-97a9-210c934334d4",
        "colab": {}
      },
      "source": [
        "! pip install numpy"
      ],
      "execution_count": 0,
      "outputs": [
        {
          "output_type": "stream",
          "text": [
            "Requirement already satisfied: numpy in c:\\programdata\\anaconda3\\lib\\site-packages (1.16.2)\n"
          ],
          "name": "stdout"
        }
      ]
    },
    {
      "cell_type": "code",
      "metadata": {
        "id": "i5WK8P_GQMTk",
        "colab_type": "code",
        "colab": {}
      },
      "source": [
        ""
      ],
      "execution_count": 0,
      "outputs": []
    },
    {
      "cell_type": "code",
      "metadata": {
        "id": "ymBgsgDvQMTq",
        "colab_type": "code",
        "outputId": "c0846460-fb3c-4e40-c75b-32a4d9e2c6aa",
        "colab": {}
      },
      "source": [
        "3+1"
      ],
      "execution_count": 0,
      "outputs": [
        {
          "output_type": "execute_result",
          "data": {
            "text/plain": [
              "4"
            ]
          },
          "metadata": {
            "tags": []
          },
          "execution_count": 1
        }
      ]
    },
    {
      "cell_type": "markdown",
      "metadata": {
        "id": "TsHQaSIBQMTz",
        "colab_type": "text"
      },
      "source": [
        "# import numpy"
      ]
    },
    {
      "cell_type": "code",
      "metadata": {
        "id": "REQcpmNsQMT2",
        "colab_type": "code",
        "colab": {}
      },
      "source": [
        "import numpy as np #alias"
      ],
      "execution_count": 0,
      "outputs": []
    },
    {
      "cell_type": "markdown",
      "metadata": {
        "id": "pWRXc4-4QMT9",
        "colab_type": "text"
      },
      "source": [
        "# 1-d array/ vector"
      ]
    },
    {
      "cell_type": "code",
      "metadata": {
        "id": "ymVxODwNQMT_",
        "colab_type": "code",
        "outputId": "f8d31df7-c6c9-497e-ef63-a742d1f33947",
        "colab": {}
      },
      "source": [
        "#creating array-1d-vector\n",
        "#1.\n",
        "a=np.arange(1,5)\n",
        "a"
      ],
      "execution_count": 0,
      "outputs": [
        {
          "output_type": "execute_result",
          "data": {
            "text/plain": [
              "array([1, 2, 3, 4])"
            ]
          },
          "metadata": {
            "tags": []
          },
          "execution_count": 5
        }
      ]
    },
    {
      "cell_type": "code",
      "metadata": {
        "id": "-i87w_juQMUG",
        "colab_type": "code",
        "colab": {}
      },
      "source": [
        "#a=np.arange(1,5,0.5)\n",
        "#a"
      ],
      "execution_count": 0,
      "outputs": []
    },
    {
      "cell_type": "code",
      "metadata": {
        "id": "T83rH5atQMUM",
        "colab_type": "code",
        "outputId": "5e1eaec4-1c79-461b-9177-262ce888277e",
        "colab": {}
      },
      "source": [
        "#2.\n",
        "b=np.array([1,2,3])\n",
        "b"
      ],
      "execution_count": 0,
      "outputs": [
        {
          "output_type": "execute_result",
          "data": {
            "text/plain": [
              "array([1, 2, 3])"
            ]
          },
          "metadata": {
            "tags": []
          },
          "execution_count": 6
        }
      ]
    },
    {
      "cell_type": "code",
      "metadata": {
        "id": "AiJPppwmQMUS",
        "colab_type": "code",
        "outputId": "3a30a861-44a8-4198-9984-48edb136c736",
        "colab": {}
      },
      "source": [
        "a=np.arange(12)\n",
        "a"
      ],
      "execution_count": 0,
      "outputs": [
        {
          "output_type": "execute_result",
          "data": {
            "text/plain": [
              "array([ 0,  1,  2,  3,  4,  5,  6,  7,  8,  9, 10, 11])"
            ]
          },
          "metadata": {
            "tags": []
          },
          "execution_count": 7
        }
      ]
    },
    {
      "cell_type": "markdown",
      "metadata": {
        "id": "SgcLNPTyQMUZ",
        "colab_type": "text"
      },
      "source": [
        "# 2-d array-matrix"
      ]
    },
    {
      "cell_type": "code",
      "metadata": {
        "id": "nUQpJ62sQMUc",
        "colab_type": "code",
        "outputId": "232271e3-6c1f-4418-bdff-282307598886",
        "colab": {}
      },
      "source": [
        "#2-d array-matrix\n",
        "#1.\n",
        "a.reshape(3,4)"
      ],
      "execution_count": 0,
      "outputs": [
        {
          "output_type": "execute_result",
          "data": {
            "text/plain": [
              "array([[ 0,  1,  2,  3],\n",
              "       [ 4,  5,  6,  7],\n",
              "       [ 8,  9, 10, 11]])"
            ]
          },
          "metadata": {
            "tags": []
          },
          "execution_count": 8
        }
      ]
    },
    {
      "cell_type": "code",
      "metadata": {
        "id": "_SO_j13AQMUl",
        "colab_type": "code",
        "outputId": "f053a9c6-5aa1-473b-9586-b3b70cf7d3bb",
        "colab": {}
      },
      "source": [
        "#2.\n",
        "np.array([[1,2],[3,4]])"
      ],
      "execution_count": 0,
      "outputs": [
        {
          "output_type": "execute_result",
          "data": {
            "text/plain": [
              "array([[1, 2],\n",
              "       [3, 4]])"
            ]
          },
          "metadata": {
            "tags": []
          },
          "execution_count": 10
        }
      ]
    },
    {
      "cell_type": "code",
      "metadata": {
        "id": "qTWrT2O0QMUq",
        "colab_type": "code",
        "outputId": "f708cd68-f9c7-4bc8-ed5e-8f4792f2d10f",
        "colab": {}
      },
      "source": [
        "a=np.array([-1,0,1,100])\n",
        "a"
      ],
      "execution_count": 0,
      "outputs": [
        {
          "output_type": "execute_result",
          "data": {
            "text/plain": [
              "array([ -1,   0,   1, 100])"
            ]
          },
          "metadata": {
            "tags": []
          },
          "execution_count": 13
        }
      ]
    },
    {
      "cell_type": "code",
      "metadata": {
        "id": "AK4wNmYdQMUw",
        "colab_type": "code",
        "outputId": "629c437a-3e9e-46a8-b51e-403fc387fb1b",
        "colab": {}
      },
      "source": [
        "a=np.array([-1,0,1.0,100])\n",
        "a"
      ],
      "execution_count": 0,
      "outputs": [
        {
          "output_type": "execute_result",
          "data": {
            "text/plain": [
              "array([ -1.,   0.,   1., 100.])"
            ]
          },
          "metadata": {
            "tags": []
          },
          "execution_count": 14
        }
      ]
    },
    {
      "cell_type": "code",
      "metadata": {
        "id": "Cen_3DrnQMU2",
        "colab_type": "code",
        "outputId": "29f2d872-8ca3-4690-b57b-0df63bbfae19",
        "colab": {}
      },
      "source": [
        "a=np.array([-1,0,1,100], dtype='int8')\n",
        "a"
      ],
      "execution_count": 0,
      "outputs": [
        {
          "output_type": "execute_result",
          "data": {
            "text/plain": [
              "array([ -1,   0,   1, 100], dtype=int8)"
            ]
          },
          "metadata": {
            "tags": []
          },
          "execution_count": 15
        }
      ]
    },
    {
      "cell_type": "code",
      "metadata": {
        "id": "2i_bqOv_QMU8",
        "colab_type": "code",
        "colab": {}
      },
      "source": [
        "#shift+tab for getting information about function"
      ],
      "execution_count": 0,
      "outputs": []
    },
    {
      "cell_type": "code",
      "metadata": {
        "id": "i5ADqebGQMVB",
        "colab_type": "code",
        "outputId": "6c6606da-137f-444c-9135-3f46f194daec",
        "colab": {}
      },
      "source": [
        "a=np.array([-1,0,1,100],dtype='int8')\n",
        "a*2"
      ],
      "execution_count": 0,
      "outputs": [
        {
          "output_type": "execute_result",
          "data": {
            "text/plain": [
              "array([ -2,   0,   2, -56], dtype=int8)"
            ]
          },
          "metadata": {
            "tags": []
          },
          "execution_count": 16
        }
      ]
    },
    {
      "cell_type": "code",
      "metadata": {
        "id": "zV2vXd6-QMVI",
        "colab_type": "code",
        "colab": {}
      },
      "source": [
        ""
      ],
      "execution_count": 0,
      "outputs": []
    },
    {
      "cell_type": "code",
      "metadata": {
        "id": "ZBNA74q6QMVN",
        "colab_type": "code",
        "outputId": "bcf62acd-e94f-4918-a4e3-44556577a841",
        "colab": {}
      },
      "source": [
        "a=np.arange(12)\n",
        "a"
      ],
      "execution_count": 0,
      "outputs": [
        {
          "output_type": "execute_result",
          "data": {
            "text/plain": [
              "array([ 0,  1,  2,  3,  4,  5,  6,  7,  8,  9, 10, 11])"
            ]
          },
          "metadata": {
            "tags": []
          },
          "execution_count": 18
        }
      ]
    },
    {
      "cell_type": "code",
      "metadata": {
        "id": "-z21MrZmQMVV",
        "colab_type": "code",
        "outputId": "85e02fc6-55c3-460c-f367-f290e829cb20",
        "colab": {}
      },
      "source": [
        "a[3:7]"
      ],
      "execution_count": 0,
      "outputs": [
        {
          "output_type": "execute_result",
          "data": {
            "text/plain": [
              "array([3, 4, 5, 6])"
            ]
          },
          "metadata": {
            "tags": []
          },
          "execution_count": 19
        }
      ]
    },
    {
      "cell_type": "markdown",
      "metadata": {
        "id": "MU0JV7QTQMVi",
        "colab_type": "text"
      },
      "source": [
        "# 3-d arrays"
      ]
    },
    {
      "cell_type": "code",
      "metadata": {
        "id": "PwJx8Q5EQMVl",
        "colab_type": "code",
        "outputId": "cdf5f4b3-d7e1-4fce-ed9a-643ab32c4e76",
        "colab": {}
      },
      "source": [
        "#3-d arrays\n",
        "c=np.arange(24).reshape(2,3,4)\n",
        "c\n",
        "#2 matrix of 3*4 order is printed"
      ],
      "execution_count": 0,
      "outputs": [
        {
          "output_type": "execute_result",
          "data": {
            "text/plain": [
              "array([[[ 0,  1,  2,  3],\n",
              "        [ 4,  5,  6,  7],\n",
              "        [ 8,  9, 10, 11]],\n",
              "\n",
              "       [[12, 13, 14, 15],\n",
              "        [16, 17, 18, 19],\n",
              "        [20, 21, 22, 23]]])"
            ]
          },
          "metadata": {
            "tags": []
          },
          "execution_count": 20
        }
      ]
    },
    {
      "cell_type": "code",
      "metadata": {
        "id": "mmOttSnSQMVu",
        "colab_type": "code",
        "outputId": "4d7f77d4-3ec9-4043-bb29-5c574828775d",
        "colab": {}
      },
      "source": [
        "#first array\n",
        "c[0,:,:]"
      ],
      "execution_count": 0,
      "outputs": [
        {
          "output_type": "execute_result",
          "data": {
            "text/plain": [
              "array([[ 0,  1,  2,  3],\n",
              "       [ 4,  5,  6,  7],\n",
              "       [ 8,  9, 10, 11]])"
            ]
          },
          "metadata": {
            "tags": []
          },
          "execution_count": 28
        }
      ]
    },
    {
      "cell_type": "code",
      "metadata": {
        "id": "FbajJ173QMVz",
        "colab_type": "code",
        "outputId": "0e01c020-855b-4e83-e460-c4d86fd3b8a1",
        "colab": {}
      },
      "source": [
        "#second array\n",
        "c[1,:,:]"
      ],
      "execution_count": 0,
      "outputs": [
        {
          "output_type": "execute_result",
          "data": {
            "text/plain": [
              "array([[12, 13, 14, 15],\n",
              "       [16, 17, 18, 19],\n",
              "       [20, 21, 22, 23]])"
            ]
          },
          "metadata": {
            "tags": []
          },
          "execution_count": 29
        }
      ]
    },
    {
      "cell_type": "code",
      "metadata": {
        "id": "C2K0W2IiQMV4",
        "colab_type": "code",
        "colab": {}
      },
      "source": [
        ""
      ],
      "execution_count": 0,
      "outputs": []
    },
    {
      "cell_type": "code",
      "metadata": {
        "id": "2IqwcXwiQMV-",
        "colab_type": "code",
        "outputId": "92f154d3-56a9-4814-dbc2-e443febcba74",
        "colab": {}
      },
      "source": [
        "c[1,1,1]"
      ],
      "execution_count": 0,
      "outputs": [
        {
          "output_type": "execute_result",
          "data": {
            "text/plain": [
              "17"
            ]
          },
          "metadata": {
            "tags": []
          },
          "execution_count": 21
        }
      ]
    },
    {
      "cell_type": "code",
      "metadata": {
        "id": "UG4GDP6MQMWD",
        "colab_type": "code",
        "outputId": "b8dda527-5176-4ac0-c92a-e6a4382fbbc7",
        "colab": {}
      },
      "source": [
        "c[0,1,1]"
      ],
      "execution_count": 0,
      "outputs": [
        {
          "output_type": "execute_result",
          "data": {
            "text/plain": [
              "5"
            ]
          },
          "metadata": {
            "tags": []
          },
          "execution_count": 22
        }
      ]
    },
    {
      "cell_type": "markdown",
      "metadata": {
        "id": "lhSwvwiQQMWI",
        "colab_type": "text"
      },
      "source": [
        "# splicing in 2-d array"
      ]
    },
    {
      "cell_type": "code",
      "metadata": {
        "id": "dGJ7-z9RQMWL",
        "colab_type": "code",
        "outputId": "8f0aafd1-ea92-42a1-9da7-62b6c38a4be5",
        "colab": {}
      },
      "source": [
        "#splicing in 2-d array\n",
        "a=np.arange(12).reshape(3,4)\n",
        "a"
      ],
      "execution_count": 0,
      "outputs": [
        {
          "output_type": "execute_result",
          "data": {
            "text/plain": [
              "array([[ 0,  1,  2,  3],\n",
              "       [ 4,  5,  6,  7],\n",
              "       [ 8,  9, 10, 11]])"
            ]
          },
          "metadata": {
            "tags": []
          },
          "execution_count": 23
        }
      ]
    },
    {
      "cell_type": "code",
      "metadata": {
        "id": "9BFhxz8zQMWS",
        "colab_type": "code",
        "outputId": "51f42d73-30b7-4513-8885-0176378f1b9d",
        "colab": {}
      },
      "source": [
        "a[1:,2:]"
      ],
      "execution_count": 0,
      "outputs": [
        {
          "output_type": "execute_result",
          "data": {
            "text/plain": [
              "array([[ 6,  7],\n",
              "       [10, 11]])"
            ]
          },
          "metadata": {
            "tags": []
          },
          "execution_count": 24
        }
      ]
    },
    {
      "cell_type": "code",
      "metadata": {
        "id": "ATKz0rcMQMWa",
        "colab_type": "code",
        "outputId": "2fbfbd91-9cb0-426a-f7d8-04ee7cbc5b09",
        "colab": {}
      },
      "source": [
        "a[::2,2:]"
      ],
      "execution_count": 0,
      "outputs": [
        {
          "output_type": "execute_result",
          "data": {
            "text/plain": [
              "array([[ 2,  3],\n",
              "       [10, 11]])"
            ]
          },
          "metadata": {
            "tags": []
          },
          "execution_count": 25
        }
      ]
    },
    {
      "cell_type": "code",
      "metadata": {
        "id": "-fLTDHqPQMWj",
        "colab_type": "code",
        "outputId": "92b01951-6983-4ab3-c434-20fd49402944",
        "colab": {}
      },
      "source": [
        "a[1:,1:3]"
      ],
      "execution_count": 0,
      "outputs": [
        {
          "output_type": "execute_result",
          "data": {
            "text/plain": [
              "array([[ 5,  6],\n",
              "       [ 9, 10]])"
            ]
          },
          "metadata": {
            "tags": []
          },
          "execution_count": 26
        }
      ]
    },
    {
      "cell_type": "code",
      "metadata": {
        "id": "Xuco5fFWQMWw",
        "colab_type": "code",
        "outputId": "f76e3334-313e-4cc1-d4dc-cd69bd4aa5d2",
        "colab": {}
      },
      "source": [
        "a[:,-1]"
      ],
      "execution_count": 0,
      "outputs": [
        {
          "output_type": "execute_result",
          "data": {
            "text/plain": [
              "array([ 3,  7, 11])"
            ]
          },
          "metadata": {
            "tags": []
          },
          "execution_count": 27
        }
      ]
    },
    {
      "cell_type": "code",
      "metadata": {
        "id": "vRuHVjUuQMW-",
        "colab_type": "code",
        "colab": {}
      },
      "source": [
        ""
      ],
      "execution_count": 0,
      "outputs": []
    },
    {
      "cell_type": "markdown",
      "metadata": {
        "id": "-VDqc4gwQMXF",
        "colab_type": "text"
      },
      "source": [
        "# Vectorization or broadcasting or maping"
      ]
    },
    {
      "cell_type": "code",
      "metadata": {
        "id": "BoJpg4piQMXI",
        "colab_type": "code",
        "outputId": "04484d66-e5f3-441f-bb25-2237a9869cfb",
        "colab": {}
      },
      "source": [
        "[1,2,3]*2"
      ],
      "execution_count": 0,
      "outputs": [
        {
          "output_type": "execute_result",
          "data": {
            "text/plain": [
              "[1, 2, 3, 1, 2, 3]"
            ]
          },
          "metadata": {
            "tags": []
          },
          "execution_count": 30
        }
      ]
    },
    {
      "cell_type": "code",
      "metadata": {
        "id": "vHItZe-kQMXN",
        "colab_type": "code",
        "outputId": "58bd22b8-c13f-4581-82ad-4e7672803253",
        "colab": {}
      },
      "source": [
        "a=np.array([1,2,3])\n",
        "a*2"
      ],
      "execution_count": 0,
      "outputs": [
        {
          "output_type": "execute_result",
          "data": {
            "text/plain": [
              "array([2, 4, 6])"
            ]
          },
          "metadata": {
            "tags": []
          },
          "execution_count": 31
        }
      ]
    },
    {
      "cell_type": "code",
      "metadata": {
        "id": "JENRzQmIQMXS",
        "colab_type": "code",
        "outputId": "3cc7cec2-c789-41d3-f4cb-8b39406235fa",
        "colab": {}
      },
      "source": [
        "a**2"
      ],
      "execution_count": 0,
      "outputs": [
        {
          "output_type": "execute_result",
          "data": {
            "text/plain": [
              "array([1, 4, 9], dtype=int32)"
            ]
          },
          "metadata": {
            "tags": []
          },
          "execution_count": 32
        }
      ]
    },
    {
      "cell_type": "code",
      "metadata": {
        "id": "BxMrnLU_QMXW",
        "colab_type": "code",
        "outputId": "584314b6-854a-49cd-fb0f-91bd394b11a1",
        "colab": {}
      },
      "source": [
        "a+2"
      ],
      "execution_count": 0,
      "outputs": [
        {
          "output_type": "execute_result",
          "data": {
            "text/plain": [
              "array([3, 4, 5])"
            ]
          },
          "metadata": {
            "tags": []
          },
          "execution_count": 33
        }
      ]
    },
    {
      "cell_type": "code",
      "metadata": {
        "id": "3e94KX1uQMXb",
        "colab_type": "code",
        "outputId": "830e1c3f-6f91-499e-97ff-8c2aba824d40",
        "colab": {}
      },
      "source": [
        "#it is vectorization not filtering\n",
        "a>2"
      ],
      "execution_count": 0,
      "outputs": [
        {
          "output_type": "execute_result",
          "data": {
            "text/plain": [
              "array([False, False,  True])"
            ]
          },
          "metadata": {
            "tags": []
          },
          "execution_count": 34
        }
      ]
    },
    {
      "cell_type": "code",
      "metadata": {
        "id": "DaYPSa0jQMXg",
        "colab_type": "code",
        "outputId": "cd91f394-a08c-46d1-b9e3-7de16f43d7f0",
        "colab": {}
      },
      "source": [
        "b=np.array([10,20,30])\n",
        "b"
      ],
      "execution_count": 0,
      "outputs": [
        {
          "output_type": "execute_result",
          "data": {
            "text/plain": [
              "array([10, 20, 30])"
            ]
          },
          "metadata": {
            "tags": []
          },
          "execution_count": 35
        }
      ]
    },
    {
      "cell_type": "code",
      "metadata": {
        "id": "qLfdVIYhQMXk",
        "colab_type": "code",
        "outputId": "ced0a764-bacc-44bc-983b-8667e01eaf3d",
        "colab": {}
      },
      "source": [
        "#vectorize multiplication\n",
        "a*b"
      ],
      "execution_count": 0,
      "outputs": [
        {
          "output_type": "execute_result",
          "data": {
            "text/plain": [
              "array([10, 40, 90])"
            ]
          },
          "metadata": {
            "tags": []
          },
          "execution_count": 36
        }
      ]
    },
    {
      "cell_type": "code",
      "metadata": {
        "id": "5smkXJ2_QMXp",
        "colab_type": "code",
        "outputId": "e37b9eed-ee31-4f80-b6e2-889f1302a661",
        "colab": {}
      },
      "source": [
        "#vectorize sub\n",
        "a-b"
      ],
      "execution_count": 0,
      "outputs": [
        {
          "output_type": "execute_result",
          "data": {
            "text/plain": [
              "array([ -9, -18, -27])"
            ]
          },
          "metadata": {
            "tags": []
          },
          "execution_count": 37
        }
      ]
    },
    {
      "cell_type": "code",
      "metadata": {
        "id": "KkIGKtpsQMXx",
        "colab_type": "code",
        "outputId": "20db7d5d-0c04-4280-f452-e97b2b48e9e6",
        "colab": {}
      },
      "source": [
        "#vector are multiplied-it gives scalar result\n",
        "a.dot(b)"
      ],
      "execution_count": 0,
      "outputs": [
        {
          "output_type": "execute_result",
          "data": {
            "text/plain": [
              "140"
            ]
          },
          "metadata": {
            "tags": []
          },
          "execution_count": 38
        }
      ]
    },
    {
      "cell_type": "code",
      "metadata": {
        "id": "OP8jCIJ0QMX3",
        "colab_type": "code",
        "outputId": "e3c4e63f-bea4-4a35-9173-4ab8f7e833b9",
        "colab": {}
      },
      "source": [
        "#vector is converted into matrix\n",
        "A=a.reshape(1,3)\n",
        "A"
      ],
      "execution_count": 0,
      "outputs": [
        {
          "output_type": "execute_result",
          "data": {
            "text/plain": [
              "array([[1, 2, 3]])"
            ]
          },
          "metadata": {
            "tags": []
          },
          "execution_count": 39
        }
      ]
    },
    {
      "cell_type": "code",
      "metadata": {
        "id": "7ppPXvePQMYC",
        "colab_type": "code",
        "outputId": "d7b43297-5f1a-41d7-ac35-ad8ca2df125d",
        "colab": {}
      },
      "source": [
        "B=b.reshape(3,1)\n",
        "B"
      ],
      "execution_count": 0,
      "outputs": [
        {
          "output_type": "execute_result",
          "data": {
            "text/plain": [
              "array([[10],\n",
              "       [20],\n",
              "       [30]])"
            ]
          },
          "metadata": {
            "tags": []
          },
          "execution_count": 40
        }
      ]
    },
    {
      "cell_type": "code",
      "metadata": {
        "id": "fteG07zTQMYI",
        "colab_type": "code",
        "outputId": "2602a5cf-f933-4ed8-f8ca-4385ab940f6a",
        "colab": {}
      },
      "source": [
        "A.dot(B)"
      ],
      "execution_count": 0,
      "outputs": [
        {
          "output_type": "execute_result",
          "data": {
            "text/plain": [
              "array([[140]])"
            ]
          },
          "metadata": {
            "tags": []
          },
          "execution_count": 41
        }
      ]
    },
    {
      "cell_type": "code",
      "metadata": {
        "id": "WFWhsh7iQMYT",
        "colab_type": "code",
        "outputId": "8e67f58f-741e-47cb-f050-07947d06661a",
        "colab": {}
      },
      "source": [
        "B.dot(A)\n",
        "#matrixes are multiplied"
      ],
      "execution_count": 0,
      "outputs": [
        {
          "output_type": "execute_result",
          "data": {
            "text/plain": [
              "array([[10, 20, 30],\n",
              "       [20, 40, 60],\n",
              "       [30, 60, 90]])"
            ]
          },
          "metadata": {
            "tags": []
          },
          "execution_count": 42
        }
      ]
    },
    {
      "cell_type": "code",
      "metadata": {
        "id": "tQ3_liq_QMYg",
        "colab_type": "code",
        "outputId": "1fe4bb2f-fdb6-4af7-ffdd-28c3bb68ccc1",
        "colab": {}
      },
      "source": [
        "a.shape"
      ],
      "execution_count": 0,
      "outputs": [
        {
          "output_type": "execute_result",
          "data": {
            "text/plain": [
              "(3,)"
            ]
          },
          "metadata": {
            "tags": []
          },
          "execution_count": 43
        }
      ]
    },
    {
      "cell_type": "code",
      "metadata": {
        "id": "hGRn4CFKQMYn",
        "colab_type": "code",
        "outputId": "29231b70-8392-4bcd-969e-3df0ffd43653",
        "colab": {}
      },
      "source": [
        "A.shape"
      ],
      "execution_count": 0,
      "outputs": [
        {
          "output_type": "execute_result",
          "data": {
            "text/plain": [
              "(1, 3)"
            ]
          },
          "metadata": {
            "tags": []
          },
          "execution_count": 44
        }
      ]
    },
    {
      "cell_type": "code",
      "metadata": {
        "id": "-EoJYrrzQMYv",
        "colab_type": "code",
        "outputId": "657a3959-ae61-44a1-bc9c-ab37f1e6e836",
        "colab": {}
      },
      "source": [
        "b.shape\n",
        "#1-d"
      ],
      "execution_count": 0,
      "outputs": [
        {
          "output_type": "execute_result",
          "data": {
            "text/plain": [
              "(3,)"
            ]
          },
          "metadata": {
            "tags": []
          },
          "execution_count": 45
        }
      ]
    },
    {
      "cell_type": "code",
      "metadata": {
        "id": "ZC32gh6gQMY2",
        "colab_type": "code",
        "outputId": "7d6d9d60-d754-44d6-bc13-1af32cedd038",
        "colab": {}
      },
      "source": [
        "B.shape\n",
        "#2-d"
      ],
      "execution_count": 0,
      "outputs": [
        {
          "output_type": "execute_result",
          "data": {
            "text/plain": [
              "(3, 1)"
            ]
          },
          "metadata": {
            "tags": []
          },
          "execution_count": 46
        }
      ]
    },
    {
      "cell_type": "code",
      "metadata": {
        "id": "Zq_TrfySQMY9",
        "colab_type": "code",
        "colab": {}
      },
      "source": [
        ""
      ],
      "execution_count": 0,
      "outputs": []
    },
    {
      "cell_type": "markdown",
      "metadata": {
        "id": "gvVNBgY2QMZE",
        "colab_type": "text"
      },
      "source": [
        "# Masking-for filtering in numpy"
      ]
    },
    {
      "cell_type": "code",
      "metadata": {
        "id": "lUO7iXOWQMZG",
        "colab_type": "code",
        "outputId": "5876358c-8ec3-4740-c84d-ac4e5c9721f0",
        "colab": {}
      },
      "source": [
        "a=np.arange(30)\n",
        "a"
      ],
      "execution_count": 0,
      "outputs": [
        {
          "output_type": "execute_result",
          "data": {
            "text/plain": [
              "array([ 0,  1,  2,  3,  4,  5,  6,  7,  8,  9, 10, 11, 12, 13, 14, 15, 16,\n",
              "       17, 18, 19, 20, 21, 22, 23, 24, 25, 26, 27, 28, 29])"
            ]
          },
          "metadata": {
            "tags": []
          },
          "execution_count": 49
        }
      ]
    },
    {
      "cell_type": "code",
      "metadata": {
        "id": "0I2yUtU4QMZM",
        "colab_type": "code",
        "outputId": "aada31ef-fa12-4608-a01c-adcdc20a2bc5",
        "colab": {}
      },
      "source": [
        "a>15"
      ],
      "execution_count": 0,
      "outputs": [
        {
          "output_type": "execute_result",
          "data": {
            "text/plain": [
              "array([False, False, False, False, False, False, False, False, False,\n",
              "       False, False, False, False, False, False, False,  True,  True,\n",
              "        True,  True,  True,  True,  True,  True,  True,  True,  True,\n",
              "        True,  True,  True])"
            ]
          },
          "metadata": {
            "tags": []
          },
          "execution_count": 50
        }
      ]
    },
    {
      "cell_type": "code",
      "metadata": {
        "id": "l5VmIVyjQMZS",
        "colab_type": "code",
        "outputId": "da43f747-a70c-4afa-cea3-c5f2d7454e0c",
        "colab": {}
      },
      "source": [
        "a[a>15]"
      ],
      "execution_count": 0,
      "outputs": [
        {
          "output_type": "execute_result",
          "data": {
            "text/plain": [
              "array([16, 17, 18, 19, 20, 21, 22, 23, 24, 25, 26, 27, 28, 29])"
            ]
          },
          "metadata": {
            "tags": []
          },
          "execution_count": 51
        }
      ]
    },
    {
      "cell_type": "code",
      "metadata": {
        "id": "xK3b4r40QMZV",
        "colab_type": "code",
        "colab": {}
      },
      "source": [
        ""
      ],
      "execution_count": 0,
      "outputs": []
    },
    {
      "cell_type": "code",
      "metadata": {
        "id": "54G4a6K5QMZd",
        "colab_type": "code",
        "outputId": "9b48b8bb-bce4-4759-a4f3-72046319a3c4",
        "colab": {}
      },
      "source": [
        "a=np.arange(12)\n",
        "a"
      ],
      "execution_count": 0,
      "outputs": [
        {
          "output_type": "execute_result",
          "data": {
            "text/plain": [
              "array([ 0,  1,  2,  3,  4,  5,  6,  7,  8,  9, 10, 11])"
            ]
          },
          "metadata": {
            "tags": []
          },
          "execution_count": 52
        }
      ]
    },
    {
      "cell_type": "code",
      "metadata": {
        "id": "d5-zyNg-QMZn",
        "colab_type": "code",
        "outputId": "31fc410e-cb73-4af4-819a-aed9bb9eab33",
        "colab": {}
      },
      "source": [
        "#own data is true because it is creating its own data\n",
        "a.flags"
      ],
      "execution_count": 0,
      "outputs": [
        {
          "output_type": "execute_result",
          "data": {
            "text/plain": [
              "  C_CONTIGUOUS : True\n",
              "  F_CONTIGUOUS : True\n",
              "  OWNDATA : True\n",
              "  WRITEABLE : True\n",
              "  ALIGNED : True\n",
              "  WRITEBACKIFCOPY : False\n",
              "  UPDATEIFCOPY : False"
            ]
          },
          "metadata": {
            "tags": []
          },
          "execution_count": 53
        }
      ]
    },
    {
      "cell_type": "code",
      "metadata": {
        "id": "sAs2zpcOQMZs",
        "colab_type": "code",
        "outputId": "6dbfb26e-aa2b-4e63-92a6-836eaa9c7d7a",
        "colab": {}
      },
      "source": [
        "#own data of \"b\"is false because it is using data of \"a\"\n",
        "b=a.reshape(3,4)\n",
        "b.flags"
      ],
      "execution_count": 0,
      "outputs": [
        {
          "output_type": "execute_result",
          "data": {
            "text/plain": [
              "  C_CONTIGUOUS : True\n",
              "  F_CONTIGUOUS : False\n",
              "  OWNDATA : False\n",
              "  WRITEABLE : True\n",
              "  ALIGNED : True\n",
              "  WRITEBACKIFCOPY : False\n",
              "  UPDATEIFCOPY : False"
            ]
          },
          "metadata": {
            "tags": []
          },
          "execution_count": 54
        }
      ]
    },
    {
      "cell_type": "code",
      "metadata": {
        "id": "f5e-XekOQMZ0",
        "colab_type": "code",
        "outputId": "380e0cf4-f2fc-405a-9c38-55753ee7e833",
        "colab": {}
      },
      "source": [
        "c=a[:6]\n",
        "c.flags"
      ],
      "execution_count": 0,
      "outputs": [
        {
          "output_type": "execute_result",
          "data": {
            "text/plain": [
              "  C_CONTIGUOUS : True\n",
              "  F_CONTIGUOUS : True\n",
              "  OWNDATA : False\n",
              "  WRITEABLE : True\n",
              "  ALIGNED : True\n",
              "  WRITEBACKIFCOPY : False\n",
              "  UPDATEIFCOPY : False"
            ]
          },
          "metadata": {
            "tags": []
          },
          "execution_count": 57
        }
      ]
    },
    {
      "cell_type": "code",
      "metadata": {
        "id": "ml0wPvJIQMZ4",
        "colab_type": "code",
        "outputId": "9c3feb7d-a53e-4c84-92a5-95c4065c7dbb",
        "colab": {}
      },
      "source": [
        "a[0]=100\n",
        "a"
      ],
      "execution_count": 0,
      "outputs": [
        {
          "output_type": "execute_result",
          "data": {
            "text/plain": [
              "array([100,   1,   2,   3,   4,   5,   6,   7,   8,   9,  10,  11])"
            ]
          },
          "metadata": {
            "tags": []
          },
          "execution_count": 58
        }
      ]
    },
    {
      "cell_type": "code",
      "metadata": {
        "id": "6ZEwq7ZsQMaC",
        "colab_type": "code",
        "outputId": "6480a800-04a8-451c-bb09-a6d113586fff",
        "colab": {}
      },
      "source": [
        "b"
      ],
      "execution_count": 0,
      "outputs": [
        {
          "output_type": "execute_result",
          "data": {
            "text/plain": [
              "array([[100,   1,   2,   3],\n",
              "       [  4,   5,   6,   7],\n",
              "       [  8,   9,  10,  11]])"
            ]
          },
          "metadata": {
            "tags": []
          },
          "execution_count": 59
        }
      ]
    },
    {
      "cell_type": "code",
      "metadata": {
        "id": "BLfZHVs1QMaJ",
        "colab_type": "code",
        "outputId": "f5a00f62-93b7-4c22-a73e-d48c8d232d3c",
        "colab": {}
      },
      "source": [
        "c"
      ],
      "execution_count": 0,
      "outputs": [
        {
          "output_type": "execute_result",
          "data": {
            "text/plain": [
              "array([100,   1,   2,   3,   4,   5])"
            ]
          },
          "metadata": {
            "tags": []
          },
          "execution_count": 60
        }
      ]
    },
    {
      "cell_type": "code",
      "metadata": {
        "id": "47ONbqicQMaO",
        "colab_type": "code",
        "outputId": "580ed55b-517a-4775-c2cb-34d8c08b4d9b",
        "colab": {}
      },
      "source": [
        "d=a[a>6]\n",
        "d"
      ],
      "execution_count": 0,
      "outputs": [
        {
          "output_type": "execute_result",
          "data": {
            "text/plain": [
              "array([100,   7,   8,   9,  10,  11])"
            ]
          },
          "metadata": {
            "tags": []
          },
          "execution_count": 64
        }
      ]
    },
    {
      "cell_type": "code",
      "metadata": {
        "id": "0MykpHNZQMaW",
        "colab_type": "code",
        "outputId": "61de3a35-9220-4d6a-9e88-56f45e6e7630",
        "colab": {}
      },
      "source": [
        "d=a[a>6]\n",
        "d.flags"
      ],
      "execution_count": 0,
      "outputs": [
        {
          "output_type": "execute_result",
          "data": {
            "text/plain": [
              "  C_CONTIGUOUS : True\n",
              "  F_CONTIGUOUS : True\n",
              "  OWNDATA : True\n",
              "  WRITEABLE : True\n",
              "  ALIGNED : True\n",
              "  WRITEBACKIFCOPY : False\n",
              "  UPDATEIFCOPY : False"
            ]
          },
          "metadata": {
            "tags": []
          },
          "execution_count": 62
        }
      ]
    },
    {
      "cell_type": "code",
      "metadata": {
        "id": "miStQkT9QMae",
        "colab_type": "code",
        "colab": {}
      },
      "source": [
        "#splicing and replacing uses same data where as masking uses different data\n",
        "#why numpy is used?"
      ],
      "execution_count": 0,
      "outputs": []
    },
    {
      "cell_type": "code",
      "metadata": {
        "id": "T1jTXtOjQMaq",
        "colab_type": "code",
        "outputId": "b0634ec9-3c96-47bf-bfb6-416754ae4bc9",
        "colab": {}
      },
      "source": [
        "#figure it out of its own means make matrix of 6*2 automatically\n",
        "a=np.arange(12).reshape(6,-1)\n",
        "a"
      ],
      "execution_count": 0,
      "outputs": [
        {
          "output_type": "execute_result",
          "data": {
            "text/plain": [
              "array([[ 0,  1],\n",
              "       [ 2,  3],\n",
              "       [ 4,  5],\n",
              "       [ 6,  7],\n",
              "       [ 8,  9],\n",
              "       [10, 11]])"
            ]
          },
          "metadata": {
            "tags": []
          },
          "execution_count": 70
        }
      ]
    },
    {
      "cell_type": "code",
      "metadata": {
        "id": "-hE3BUAqQMat",
        "colab_type": "code",
        "outputId": "767db514-8d56-4bfe-f85a-82a8fac63e46",
        "colab": {}
      },
      "source": [
        "#make matrix of 3*4\n",
        "a=np.arange(12).reshape(-1,4)\n",
        "a"
      ],
      "execution_count": 0,
      "outputs": [
        {
          "output_type": "execute_result",
          "data": {
            "text/plain": [
              "array([[ 0,  1,  2,  3],\n",
              "       [ 4,  5,  6,  7],\n",
              "       [ 8,  9, 10, 11]])"
            ]
          },
          "metadata": {
            "tags": []
          },
          "execution_count": 71
        }
      ]
    },
    {
      "cell_type": "markdown",
      "metadata": {
        "id": "2amt43rGQMaz",
        "colab_type": "text"
      },
      "source": [
        "#  convert 2-d matrix into vector"
      ]
    },
    {
      "cell_type": "code",
      "metadata": {
        "id": "2oZOz190QMa1",
        "colab_type": "code",
        "outputId": "c0d38186-4d38-4c5d-e318-b6bd8b13b01d",
        "colab": {}
      },
      "source": [
        "#converting 2-d matrix to vector\n",
        "a=np.arange(12).reshape(3,4)\n",
        "a"
      ],
      "execution_count": 0,
      "outputs": [
        {
          "output_type": "execute_result",
          "data": {
            "text/plain": [
              "array([[ 0,  1,  2,  3],\n",
              "       [ 4,  5,  6,  7],\n",
              "       [ 8,  9, 10, 11]])"
            ]
          },
          "metadata": {
            "tags": []
          },
          "execution_count": 72
        }
      ]
    },
    {
      "cell_type": "code",
      "metadata": {
        "id": "ABi0GPUwQMa_",
        "colab_type": "code",
        "outputId": "44883b65-1197-4d4f-96e9-a39c9a202444",
        "colab": {}
      },
      "source": [
        "b=a.reshape(-1)\n",
        "b"
      ],
      "execution_count": 0,
      "outputs": [
        {
          "output_type": "execute_result",
          "data": {
            "text/plain": [
              "array([ 0,  1,  2,  3,  4,  5,  6,  7,  8,  9, 10, 11])"
            ]
          },
          "metadata": {
            "tags": []
          },
          "execution_count": 73
        }
      ]
    },
    {
      "cell_type": "code",
      "metadata": {
        "id": "xD93GpsnQMbI",
        "colab_type": "code",
        "outputId": "f74c82cd-f093-4e59-f452-e3848b082906",
        "colab": {}
      },
      "source": [
        "#also\n",
        "a.flatten()"
      ],
      "execution_count": 0,
      "outputs": [
        {
          "output_type": "execute_result",
          "data": {
            "text/plain": [
              "array([ 0,  1,  2,  3,  4,  5,  6,  7,  8,  9, 10, 11])"
            ]
          },
          "metadata": {
            "tags": []
          },
          "execution_count": 74
        }
      ]
    },
    {
      "cell_type": "code",
      "metadata": {
        "id": "fDPYu5TNQMbO",
        "colab_type": "code",
        "colab": {}
      },
      "source": [
        ""
      ],
      "execution_count": 0,
      "outputs": []
    },
    {
      "cell_type": "markdown",
      "metadata": {
        "id": "XdR2Vmb1QMbS",
        "colab_type": "text"
      },
      "source": [
        "# special arrays"
      ]
    },
    {
      "cell_type": "code",
      "metadata": {
        "id": "9IKZvJqUQMbX",
        "colab_type": "code",
        "outputId": "fbfa0a2a-b4cc-4421-98e1-89bb3563d184",
        "colab": {}
      },
      "source": [
        "np.zeros(4)"
      ],
      "execution_count": 0,
      "outputs": [
        {
          "output_type": "execute_result",
          "data": {
            "text/plain": [
              "array([0., 0., 0., 0.])"
            ]
          },
          "metadata": {
            "tags": []
          },
          "execution_count": 75
        }
      ]
    },
    {
      "cell_type": "code",
      "metadata": {
        "id": "ZxwCCHQHQMbb",
        "colab_type": "code",
        "outputId": "20dc7456-f157-463c-ef0d-81ee129e5e49",
        "colab": {}
      },
      "source": [
        "#2-d\n",
        "np.zeros(3,4)"
      ],
      "execution_count": 0,
      "outputs": [
        {
          "output_type": "error",
          "ename": "TypeError",
          "evalue": "data type not understood",
          "traceback": [
            "\u001b[1;31m---------------------------------------------------------------------------\u001b[0m",
            "\u001b[1;31mTypeError\u001b[0m                                 Traceback (most recent call last)",
            "\u001b[1;32m<ipython-input-76-be339f597548>\u001b[0m in \u001b[0;36m<module>\u001b[1;34m\u001b[0m\n\u001b[0;32m      1\u001b[0m \u001b[1;31m#2-d\u001b[0m\u001b[1;33m\u001b[0m\u001b[1;33m\u001b[0m\u001b[1;33m\u001b[0m\u001b[0m\n\u001b[1;32m----> 2\u001b[1;33m \u001b[0mnp\u001b[0m\u001b[1;33m.\u001b[0m\u001b[0mzeros\u001b[0m\u001b[1;33m(\u001b[0m\u001b[1;36m3\u001b[0m\u001b[1;33m,\u001b[0m\u001b[1;36m4\u001b[0m\u001b[1;33m)\u001b[0m\u001b[1;33m\u001b[0m\u001b[1;33m\u001b[0m\u001b[0m\n\u001b[0m",
            "\u001b[1;31mTypeError\u001b[0m: data type not understood"
          ]
        }
      ]
    },
    {
      "cell_type": "code",
      "metadata": {
        "id": "4rgT8K2LQMbg",
        "colab_type": "code",
        "outputId": "a5676ed3-4b59-4023-efe5-91a08f9b072c",
        "colab": {}
      },
      "source": [
        "np.zeros((3,4))"
      ],
      "execution_count": 0,
      "outputs": [
        {
          "output_type": "execute_result",
          "data": {
            "text/plain": [
              "array([[0., 0., 0., 0.],\n",
              "       [0., 0., 0., 0.],\n",
              "       [0., 0., 0., 0.]])"
            ]
          },
          "metadata": {
            "tags": []
          },
          "execution_count": 77
        }
      ]
    },
    {
      "cell_type": "code",
      "metadata": {
        "id": "Ua_1omHxQMbq",
        "colab_type": "code",
        "outputId": "08e55b92-708d-438e-8779-4d8b416985a1",
        "colab": {}
      },
      "source": [
        "np.ones((3,4))"
      ],
      "execution_count": 0,
      "outputs": [
        {
          "output_type": "execute_result",
          "data": {
            "text/plain": [
              "array([[1., 1., 1., 1.],\n",
              "       [1., 1., 1., 1.],\n",
              "       [1., 1., 1., 1.]])"
            ]
          },
          "metadata": {
            "tags": []
          },
          "execution_count": 78
        }
      ]
    },
    {
      "cell_type": "code",
      "metadata": {
        "id": "yYr_3paTQMbu",
        "colab_type": "code",
        "outputId": "8cae51ce-63a3-4fe9-c524-6d442260f7af",
        "colab": {}
      },
      "source": [
        "np.fives((3,4))\n",
        "#can't create"
      ],
      "execution_count": 0,
      "outputs": [
        {
          "output_type": "error",
          "ename": "AttributeError",
          "evalue": "module 'numpy' has no attribute 'fives'",
          "traceback": [
            "\u001b[1;31m---------------------------------------------------------------------------\u001b[0m",
            "\u001b[1;31mAttributeError\u001b[0m                            Traceback (most recent call last)",
            "\u001b[1;32m<ipython-input-79-eec0633e4e59>\u001b[0m in \u001b[0;36m<module>\u001b[1;34m\u001b[0m\n\u001b[1;32m----> 1\u001b[1;33m \u001b[0mnp\u001b[0m\u001b[1;33m.\u001b[0m\u001b[0mfives\u001b[0m\u001b[1;33m(\u001b[0m\u001b[1;33m(\u001b[0m\u001b[1;36m3\u001b[0m\u001b[1;33m,\u001b[0m\u001b[1;36m4\u001b[0m\u001b[1;33m)\u001b[0m\u001b[1;33m)\u001b[0m\u001b[1;33m\u001b[0m\u001b[1;33m\u001b[0m\u001b[0m\n\u001b[0m",
            "\u001b[1;31mAttributeError\u001b[0m: module 'numpy' has no attribute 'fives'"
          ]
        }
      ]
    },
    {
      "cell_type": "code",
      "metadata": {
        "id": "6_DCkAo9QMb2",
        "colab_type": "code",
        "outputId": "b82c59dd-29bc-4f44-b1f8-36cacb5d4e88",
        "colab": {}
      },
      "source": [
        "np.ones((3,4))*5"
      ],
      "execution_count": 0,
      "outputs": [
        {
          "output_type": "execute_result",
          "data": {
            "text/plain": [
              "array([[5., 5., 5., 5.],\n",
              "       [5., 5., 5., 5.],\n",
              "       [5., 5., 5., 5.]])"
            ]
          },
          "metadata": {
            "tags": []
          },
          "execution_count": 80
        }
      ]
    },
    {
      "cell_type": "code",
      "metadata": {
        "id": "04YFV68dQMb7",
        "colab_type": "code",
        "outputId": "7c560f84-c49d-4f8a-f8d6-b212e10190f1",
        "colab": {}
      },
      "source": [
        "#identity matrix\n",
        "np.identity(3)"
      ],
      "execution_count": 0,
      "outputs": [
        {
          "output_type": "execute_result",
          "data": {
            "text/plain": [
              "array([[1., 0., 0.],\n",
              "       [0., 1., 0.],\n",
              "       [0., 0., 1.]])"
            ]
          },
          "metadata": {
            "tags": []
          },
          "execution_count": 81
        }
      ]
    },
    {
      "cell_type": "code",
      "metadata": {
        "id": "kqOIhkRfQMcA",
        "colab_type": "code",
        "outputId": "33dc80b4-528a-4346-b3fb-2159722220ea",
        "colab": {}
      },
      "source": [
        "np.eye(3,4)"
      ],
      "execution_count": 0,
      "outputs": [
        {
          "output_type": "execute_result",
          "data": {
            "text/plain": [
              "array([[1., 0., 0., 0.],\n",
              "       [0., 1., 0., 0.],\n",
              "       [0., 0., 1., 0.]])"
            ]
          },
          "metadata": {
            "tags": []
          },
          "execution_count": 82
        }
      ]
    },
    {
      "cell_type": "code",
      "metadata": {
        "id": "xQhaF7m8QMcF",
        "colab_type": "code",
        "outputId": "011d4b85-f1d8-426c-d569-2a9599263e40",
        "colab": {}
      },
      "source": [
        "np.linspace(1,5,5)\n",
        "#(starting ,ending,divide into parts)"
      ],
      "execution_count": 0,
      "outputs": [
        {
          "output_type": "execute_result",
          "data": {
            "text/plain": [
              "array([1., 2., 3., 4., 5.])"
            ]
          },
          "metadata": {
            "tags": []
          },
          "execution_count": 83
        }
      ]
    },
    {
      "cell_type": "code",
      "metadata": {
        "id": "dMLCRlRiQMcK",
        "colab_type": "code",
        "outputId": "0139d13b-93c7-40df-9091-7a79f2a7ac81",
        "colab": {}
      },
      "source": [
        "np.linspace(1,5,9)"
      ],
      "execution_count": 0,
      "outputs": [
        {
          "output_type": "execute_result",
          "data": {
            "text/plain": [
              "array([1. , 1.5, 2. , 2.5, 3. , 3.5, 4. , 4.5, 5. ])"
            ]
          },
          "metadata": {
            "tags": []
          },
          "execution_count": 85
        }
      ]
    },
    {
      "cell_type": "code",
      "metadata": {
        "id": "onGaTioAQMcR",
        "colab_type": "code",
        "colab": {}
      },
      "source": [
        ""
      ],
      "execution_count": 0,
      "outputs": []
    },
    {
      "cell_type": "code",
      "metadata": {
        "id": "DjLcY4o7QMcc",
        "colab_type": "code",
        "colab": {}
      },
      "source": [
        "#stastical analysis"
      ],
      "execution_count": 0,
      "outputs": []
    },
    {
      "cell_type": "code",
      "metadata": {
        "id": "wA2Ub-ajQMch",
        "colab_type": "code",
        "outputId": "abd909e7-1b64-4a9f-9991-07007374a730",
        "colab": {}
      },
      "source": [
        "a=np.arange(12)\n",
        "a"
      ],
      "execution_count": 0,
      "outputs": [
        {
          "output_type": "execute_result",
          "data": {
            "text/plain": [
              "array([ 0,  1,  2,  3,  4,  5,  6,  7,  8,  9, 10, 11])"
            ]
          },
          "metadata": {
            "tags": []
          },
          "execution_count": 87
        }
      ]
    },
    {
      "cell_type": "code",
      "metadata": {
        "id": "yCzZYl7DQMcm",
        "colab_type": "code",
        "outputId": "7213037c-0ecd-4a54-90f3-0871c3e6ec72",
        "colab": {}
      },
      "source": [
        "b=a.reshape(3,4)\n",
        "b"
      ],
      "execution_count": 0,
      "outputs": [
        {
          "output_type": "execute_result",
          "data": {
            "text/plain": [
              "array([[ 0,  1,  2,  3],\n",
              "       [ 4,  5,  6,  7],\n",
              "       [ 8,  9, 10, 11]])"
            ]
          },
          "metadata": {
            "tags": []
          },
          "execution_count": 89
        }
      ]
    },
    {
      "cell_type": "code",
      "metadata": {
        "id": "SatM7OWxQMcq",
        "colab_type": "code",
        "outputId": "5bc31c27-0dd7-4fa7-d65c-72adf528cee7",
        "colab": {}
      },
      "source": [
        "np.sum(b)"
      ],
      "execution_count": 0,
      "outputs": [
        {
          "output_type": "execute_result",
          "data": {
            "text/plain": [
              "66"
            ]
          },
          "metadata": {
            "tags": []
          },
          "execution_count": 90
        }
      ]
    },
    {
      "cell_type": "code",
      "metadata": {
        "id": "IcVnj3nGQMcw",
        "colab_type": "code",
        "outputId": "dbe47c4e-1286-4272-c9be-b5833ef55b49",
        "colab": {}
      },
      "source": [
        "#sum of columns--- rows are merged\n",
        "np.sum(b,axis=0)"
      ],
      "execution_count": 0,
      "outputs": [
        {
          "output_type": "execute_result",
          "data": {
            "text/plain": [
              "array([12, 15, 18, 21])"
            ]
          },
          "metadata": {
            "tags": []
          },
          "execution_count": 91
        }
      ]
    },
    {
      "cell_type": "code",
      "metadata": {
        "id": "VB3oK-DbQMc0",
        "colab_type": "code",
        "outputId": "a57184fe-1280-4918-ba65-71322db61252",
        "colab": {}
      },
      "source": [
        "#sum of rows\n",
        "np.sum(b,axis=1)"
      ],
      "execution_count": 0,
      "outputs": [
        {
          "output_type": "execute_result",
          "data": {
            "text/plain": [
              "array([ 6, 22, 38])"
            ]
          },
          "metadata": {
            "tags": []
          },
          "execution_count": 92
        }
      ]
    },
    {
      "cell_type": "code",
      "metadata": {
        "id": "WtlSqLQ-QMc8",
        "colab_type": "code",
        "outputId": "ba9a7516-38fe-4b06-be8e-0d164b3c7b03",
        "colab": {}
      },
      "source": [
        "np.max(b,axis=1)"
      ],
      "execution_count": 0,
      "outputs": [
        {
          "output_type": "execute_result",
          "data": {
            "text/plain": [
              "array([ 3,  7, 11])"
            ]
          },
          "metadata": {
            "tags": []
          },
          "execution_count": 93
        }
      ]
    },
    {
      "cell_type": "code",
      "metadata": {
        "id": "fuq-Pn7pQMdD",
        "colab_type": "code",
        "outputId": "2648e825-735e-4862-b1e3-8bbf03281598",
        "colab": {}
      },
      "source": [
        "#mean of columns\n",
        "np.mean(b,axis=0)"
      ],
      "execution_count": 0,
      "outputs": [
        {
          "output_type": "execute_result",
          "data": {
            "text/plain": [
              "array([4., 5., 6., 7.])"
            ]
          },
          "metadata": {
            "tags": []
          },
          "execution_count": 94
        }
      ]
    },
    {
      "cell_type": "code",
      "metadata": {
        "id": "uFjeEdDrQMdL",
        "colab_type": "code",
        "outputId": "30833b35-51ce-47df-dccd-adf4d18f4b53",
        "colab": {}
      },
      "source": [
        "#median column wise\n",
        "np.median(b,axis=0)"
      ],
      "execution_count": 0,
      "outputs": [
        {
          "output_type": "execute_result",
          "data": {
            "text/plain": [
              "array([4., 5., 6., 7.])"
            ]
          },
          "metadata": {
            "tags": []
          },
          "execution_count": 95
        }
      ]
    },
    {
      "cell_type": "code",
      "metadata": {
        "id": "-2X_3rYuQMdQ",
        "colab_type": "code",
        "outputId": "0b3b01e6-1323-485f-c4bd-9e85448fe61f",
        "colab": {}
      },
      "source": [
        "np.std(a)"
      ],
      "execution_count": 0,
      "outputs": [
        {
          "output_type": "execute_result",
          "data": {
            "text/plain": [
              "3.452052529534663"
            ]
          },
          "metadata": {
            "tags": []
          },
          "execution_count": 96
        }
      ]
    },
    {
      "cell_type": "code",
      "metadata": {
        "id": "R8wBST-nQMdh",
        "colab_type": "code",
        "outputId": "cbcba152-7063-4170-ee33-ecb9f463abd0",
        "colab": {}
      },
      "source": [
        "np.std(b,axis=0)"
      ],
      "execution_count": 0,
      "outputs": [
        {
          "output_type": "execute_result",
          "data": {
            "text/plain": [
              "array([3.26598632, 3.26598632, 3.26598632, 3.26598632])"
            ]
          },
          "metadata": {
            "tags": []
          },
          "execution_count": 98
        }
      ]
    },
    {
      "cell_type": "markdown",
      "metadata": {
        "id": "FaChh6bVQMdn",
        "colab_type": "text"
      },
      "source": [
        "# time.time()"
      ]
    },
    {
      "cell_type": "code",
      "metadata": {
        "id": "8zK0aEVpQMdq",
        "colab_type": "code",
        "colab": {}
      },
      "source": [
        "import time"
      ],
      "execution_count": 0,
      "outputs": []
    },
    {
      "cell_type": "code",
      "metadata": {
        "id": "HfoechE0QMdz",
        "colab_type": "code",
        "outputId": "0a927c59-270f-4fc6-b32a-f4943c1aa248",
        "colab": {}
      },
      "source": [
        "time.time()#Epoch time (1st jan 1979 midnight)"
      ],
      "execution_count": 0,
      "outputs": [
        {
          "output_type": "execute_result",
          "data": {
            "text/plain": [
              "1560164714.211695"
            ]
          },
          "metadata": {
            "tags": []
          },
          "execution_count": 104
        }
      ]
    },
    {
      "cell_type": "code",
      "metadata": {
        "id": "_791lPDzQMd3",
        "colab_type": "code",
        "colab": {}
      },
      "source": [
        "#it is time zone independent number"
      ],
      "execution_count": 0,
      "outputs": []
    },
    {
      "cell_type": "code",
      "metadata": {
        "id": "vkMvFVgXQMd7",
        "colab_type": "code",
        "outputId": "5525ced5-715b-4910-af6b-aaa44afe1ffe",
        "colab": {}
      },
      "source": [
        "#generate 3 random numbers\n",
        "#it generate any number between 0 and 1\n",
        "#it is based on time.time()\n",
        "np.random.rand(3)"
      ],
      "execution_count": 0,
      "outputs": [
        {
          "output_type": "execute_result",
          "data": {
            "text/plain": [
              "array([0.09609513, 0.77668376, 0.52004565])"
            ]
          },
          "metadata": {
            "tags": []
          },
          "execution_count": 105
        }
      ]
    },
    {
      "cell_type": "code",
      "metadata": {
        "id": "7gLDDuf5QMeC",
        "colab_type": "code",
        "outputId": "ab3b11bb-99cf-4424-966a-4c96ec6b14c5",
        "colab": {}
      },
      "source": [
        "#on execution always gives same output\n",
        "#seed gives starting point \n",
        "np.random.seed(100)\n",
        "np.random.rand(3)"
      ],
      "execution_count": 0,
      "outputs": [
        {
          "output_type": "execute_result",
          "data": {
            "text/plain": [
              "array([0.54340494, 0.27836939, 0.42451759])"
            ]
          },
          "metadata": {
            "tags": []
          },
          "execution_count": 106
        }
      ]
    },
    {
      "cell_type": "code",
      "metadata": {
        "id": "zMLg59LrQMeG",
        "colab_type": "code",
        "outputId": "52252d36-fe8c-4a76-afd8-7f0f4955bc27",
        "colab": {}
      },
      "source": [
        "np.random.seed(100)\n",
        "print(np.random.rand(1))\n",
        "print(np.random.rand(1))\n",
        "print(np.random.rand(1))"
      ],
      "execution_count": 0,
      "outputs": [
        {
          "output_type": "stream",
          "text": [
            "[0.54340494]\n",
            "[0.27836939]\n",
            "[0.42451759]\n"
          ],
          "name": "stdout"
        }
      ]
    },
    {
      "cell_type": "code",
      "metadata": {
        "id": "SdU3koIDQMeK",
        "colab_type": "code",
        "outputId": "95349838-c387-487c-b882-bbd12298d52f",
        "colab": {}
      },
      "source": [
        "#range increases from 0 to 100\n",
        "np.random.rand(1)*100"
      ],
      "execution_count": 0,
      "outputs": [
        {
          "output_type": "execute_result",
          "data": {
            "text/plain": [
              "array([84.47761323])"
            ]
          },
          "metadata": {
            "tags": []
          },
          "execution_count": 108
        }
      ]
    },
    {
      "cell_type": "code",
      "metadata": {
        "id": "-5eCTd4wQMeN",
        "colab_type": "code",
        "outputId": "8f0be6ec-66ff-49e4-c2e8-315faa0cfc7b",
        "colab": {}
      },
      "source": [
        "#range is from 90 to 100\n",
        "90+np.random.rand(1)*10"
      ],
      "execution_count": 0,
      "outputs": [
        {
          "output_type": "execute_result",
          "data": {
            "text/plain": [
              "array([90.04718856])"
            ]
          },
          "metadata": {
            "tags": []
          },
          "execution_count": 109
        }
      ]
    },
    {
      "cell_type": "code",
      "metadata": {
        "id": "3VT2b4m9QMeP",
        "colab_type": "code",
        "colab": {}
      },
      "source": [
        ""
      ],
      "execution_count": 0,
      "outputs": []
    },
    {
      "cell_type": "code",
      "metadata": {
        "id": "R79KZL1kQMeW",
        "colab_type": "code",
        "colab": {}
      },
      "source": [
        "#random number generation for normal distribution"
      ],
      "execution_count": 0,
      "outputs": []
    },
    {
      "cell_type": "code",
      "metadata": {
        "id": "WZipOEd0QMeZ",
        "colab_type": "code",
        "outputId": "fabbeccd-9277-4d72-e619-6f025552f974",
        "colab": {}
      },
      "source": [
        "#random numbers are generated near mean\n",
        "mu=100\n",
        "sigma=15\n",
        "np.random.normal(mu,sigma,100)"
      ],
      "execution_count": 0,
      "outputs": [
        {
          "output_type": "execute_result",
          "data": {
            "text/plain": [
              "array([105.3201168 ,  88.20903503,  96.52191705, 103.11963521,\n",
              "       114.03711953, 102.69367468,  91.34257743,  91.99940933,\n",
              "        96.61896818,  95.27620995, 106.34495177,  93.4175979 ,\n",
              "        92.47879809,  75.11945745,  84.88634055,  92.36898353,\n",
              "       111.7223263 ,  90.18428449, 100.61758701,  96.97124639,\n",
              "        86.93780275, 103.43398105,  93.87940087,  98.44112293,\n",
              "       123.50768178, 107.45537073, 117.33808502, 127.57917515,\n",
              "       123.03589927, 103.8249659 ,  87.33764121,  85.25584813,\n",
              "        95.40853253, 112.57750916,  74.63727759, 117.26760486,\n",
              "        84.55994729,  92.33511716,  64.59594198, 101.55392698,\n",
              "       126.08226592, 118.62813767, 101.98619135, 108.66690936,\n",
              "        76.36141436,  80.60808647,  90.10120317,  86.88992836,\n",
              "        89.65674085,  91.96780227, 122.91929526, 109.70808685,\n",
              "        89.83995082,  96.02471807, 111.19159654,  53.03822753,\n",
              "       100.89432677,  86.87183335, 115.97317493,  91.40271018,\n",
              "        87.9508227 , 116.39457441, 109.7691637 , 132.40787182,\n",
              "        90.41304898,  94.99468706,  93.43597213,  71.41307678,\n",
              "        81.56471002, 111.9234829 ,  82.59237787, 108.1908328 ,\n",
              "       117.44887501, 109.88315528, 107.85533891, 119.9073411 ,\n",
              "       116.68786703,  83.8805559 , 105.15124246, 114.7815631 ,\n",
              "       111.04752517,  68.7930605 ,  95.52121045,  74.06183615,\n",
              "       100.05264915, 129.01892948, 103.26339446, 127.16622773,\n",
              "        61.75908794,  96.91574097, 100.14045436,  66.68762513,\n",
              "        87.0175164 ,  98.26220582, 101.71615962,  99.1237379 ,\n",
              "       109.33280819,  75.42133923, 104.54316026, 131.15315483])"
            ]
          },
          "metadata": {
            "tags": []
          },
          "execution_count": 110
        }
      ]
    },
    {
      "cell_type": "code",
      "metadata": {
        "id": "fkum-l0oQMeb",
        "colab_type": "code",
        "colab": {}
      },
      "source": [
        "#mean and standard deviation in every computer is different\n",
        "mu=100\n",
        "sigma=15\n",
        "s=np.random.normal(mu,sigma,100)"
      ],
      "execution_count": 0,
      "outputs": []
    },
    {
      "cell_type": "code",
      "metadata": {
        "id": "sC4BmwdwQMee",
        "colab_type": "code",
        "outputId": "489c3a87-da83-49e8-b9dc-ca3891618a67",
        "colab": {}
      },
      "source": [
        "np.mean(s)"
      ],
      "execution_count": 0,
      "outputs": [
        {
          "output_type": "execute_result",
          "data": {
            "text/plain": [
              "99.19634924273777"
            ]
          },
          "metadata": {
            "tags": []
          },
          "execution_count": 114
        }
      ]
    },
    {
      "cell_type": "code",
      "metadata": {
        "id": "58RHBa5kQMel",
        "colab_type": "code",
        "outputId": "f4363126-29c3-462c-b77d-82696f71f825",
        "colab": {}
      },
      "source": [
        "np.std(s)"
      ],
      "execution_count": 0,
      "outputs": [
        {
          "output_type": "execute_result",
          "data": {
            "text/plain": [
              "16.389751926637196"
            ]
          },
          "metadata": {
            "tags": []
          },
          "execution_count": 115
        }
      ]
    },
    {
      "cell_type": "code",
      "metadata": {
        "id": "VLZ1fBMIQMer",
        "colab_type": "code",
        "colab": {}
      },
      "source": [
        "#now mean and SD in every PC is same\n",
        "np.random.seed(100)\n",
        "mu=100\n",
        "sigma=15\n",
        "s=np.random.normal(mu,sigma,100)"
      ],
      "execution_count": 0,
      "outputs": []
    },
    {
      "cell_type": "code",
      "metadata": {
        "id": "qEOGv87IQMey",
        "colab_type": "code",
        "outputId": "1a6f0126-dadb-4e14-a6c0-9bb12598578e",
        "colab": {}
      },
      "source": [
        "np.mean(s)"
      ],
      "execution_count": 0,
      "outputs": [
        {
          "output_type": "execute_result",
          "data": {
            "text/plain": [
              "98.43751219233904"
            ]
          },
          "metadata": {
            "tags": []
          },
          "execution_count": 118
        }
      ]
    },
    {
      "cell_type": "code",
      "metadata": {
        "id": "FNNcf4uAQMe0",
        "colab_type": "code",
        "outputId": "b2fbd785-6a9e-4a8b-a021-39966eea0f3c",
        "colab": {}
      },
      "source": [
        "np.std(s)"
      ],
      "execution_count": 0,
      "outputs": [
        {
          "output_type": "execute_result",
          "data": {
            "text/plain": [
              "14.546287444918226"
            ]
          },
          "metadata": {
            "tags": []
          },
          "execution_count": 119
        }
      ]
    },
    {
      "cell_type": "code",
      "metadata": {
        "id": "r9I0_TVUQMe4",
        "colab_type": "code",
        "colab": {}
      },
      "source": [
        ""
      ],
      "execution_count": 0,
      "outputs": []
    },
    {
      "cell_type": "code",
      "metadata": {
        "id": "ZaJsxatEQMe7",
        "colab_type": "code",
        "colab": {}
      },
      "source": [
        ""
      ],
      "execution_count": 0,
      "outputs": []
    },
    {
      "cell_type": "code",
      "metadata": {
        "id": "WIfiH7CGQMfB",
        "colab_type": "code",
        "colab": {}
      },
      "source": [
        ""
      ],
      "execution_count": 0,
      "outputs": []
    },
    {
      "cell_type": "code",
      "metadata": {
        "id": "3-fNj_NSQMfD",
        "colab_type": "code",
        "colab": {}
      },
      "source": [
        ""
      ],
      "execution_count": 0,
      "outputs": []
    },
    {
      "cell_type": "code",
      "metadata": {
        "id": "jj48A3bXQMfF",
        "colab_type": "code",
        "colab": {}
      },
      "source": [
        ""
      ],
      "execution_count": 0,
      "outputs": []
    },
    {
      "cell_type": "code",
      "metadata": {
        "id": "6R_lwt7kQMfH",
        "colab_type": "code",
        "colab": {}
      },
      "source": [
        ""
      ],
      "execution_count": 0,
      "outputs": []
    },
    {
      "cell_type": "code",
      "metadata": {
        "id": "aGAQQ2jsQMfL",
        "colab_type": "code",
        "colab": {}
      },
      "source": [
        ""
      ],
      "execution_count": 0,
      "outputs": []
    }
  ]
}