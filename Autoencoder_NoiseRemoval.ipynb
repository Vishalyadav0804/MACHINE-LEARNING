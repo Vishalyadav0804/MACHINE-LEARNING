{
  "nbformat": 4,
  "nbformat_minor": 0,
  "metadata": {
    "kernelspec": {
      "display_name": "Python 3",
      "language": "python",
      "name": "python3"
    },
    "language_info": {
      "codemirror_mode": {
        "name": "ipython",
        "version": 3
      },
      "file_extension": ".py",
      "mimetype": "text/x-python",
      "name": "python",
      "nbconvert_exporter": "python",
      "pygments_lexer": "ipython3",
      "version": "3.7.3"
    },
    "colab": {
      "name": "Autoencoder-NoiseRemoval.ipynb",
      "provenance": [],
      "collapsed_sections": []
    }
  },
  "cells": [
    {
      "cell_type": "markdown",
      "metadata": {
        "id": "VjeoaugMM-ki",
        "colab_type": "text"
      },
      "source": [
        "# Unsupervised learning using neural network"
      ]
    },
    {
      "cell_type": "code",
      "metadata": {
        "id": "JVXOEIkXM-ko",
        "colab_type": "code",
        "colab": {}
      },
      "source": [
        "import numpy as np\n",
        "import matplotlib.pyplot as plt\n",
        "%matplotlib inline"
      ],
      "execution_count": 0,
      "outputs": []
    },
    {
      "cell_type": "code",
      "metadata": {
        "id": "dJCgSXiYM-k5",
        "colab_type": "code",
        "outputId": "260d988b-3ed4-4f80-df8b-6ae1cb62538b",
        "colab": {}
      },
      "source": [
        "from keras.datasets import mnist"
      ],
      "execution_count": 0,
      "outputs": [
        {
          "output_type": "stream",
          "text": [
            "Using TensorFlow backend.\n"
          ],
          "name": "stderr"
        }
      ]
    },
    {
      "cell_type": "code",
      "metadata": {
        "id": "fIEHxKMqM-lM",
        "colab_type": "code",
        "colab": {}
      },
      "source": [
        "(x_train,_),(x_test,_)=mnist.load_data()"
      ],
      "execution_count": 0,
      "outputs": []
    },
    {
      "cell_type": "code",
      "metadata": {
        "id": "xGMZQjeMM-lZ",
        "colab_type": "code",
        "colab": {}
      },
      "source": [
        "x_train=x_train.astype('float32')/255   #value of pixel reduced to 0-1\n",
        "x_test=x_test.astype('float32')/255   \n",
        "\n",
        "x_train=x_train.reshape(-1,28,28,1)\n",
        "x_test=x_test.reshape(-1,28,28,1)"
      ],
      "execution_count": 0,
      "outputs": []
    },
    {
      "cell_type": "code",
      "metadata": {
        "id": "xlZIC4ijM-ll",
        "colab_type": "code",
        "outputId": "b3f0462e-b482-4e55-cce5-24aeef11109b",
        "colab": {}
      },
      "source": [
        "print(x_train.shape,x_test.shape)"
      ],
      "execution_count": 0,
      "outputs": [
        {
          "output_type": "stream",
          "text": [
            "(60000, 28, 28, 1) (10000, 28, 28, 1)\n"
          ],
          "name": "stdout"
        }
      ]
    },
    {
      "cell_type": "code",
      "metadata": {
        "id": "EbD-3lnQM-l0",
        "colab_type": "code",
        "colab": {}
      },
      "source": [
        "noise_factor=0.5\n",
        "\n",
        "x_train_noisy=x_train+noise_factor*np.random.normal(loc=0.0,\n",
        "                                                   scale=1.0,\n",
        "                                                   size=x_train.shape)\n",
        "x_test_noisy=x_test+noise_factor*np.random.normal(loc=0.0,\n",
        "                                                   scale=1.0,\n",
        "                                                   size=x_test.shape)\n",
        "x_train_noisy=np.clip(x_train_noisy,0.,1.)\n",
        "x_test_noisy=np.clip(x_test_noisy,0.,1.)"
      ],
      "execution_count": 0,
      "outputs": []
    },
    {
      "cell_type": "code",
      "metadata": {
        "id": "nCxKNsBKM-l-",
        "colab_type": "code",
        "outputId": "c61b6a1b-d6e9-41cf-d25d-50d7ad0d5d7c",
        "colab": {}
      },
      "source": [
        "n=10\n",
        "plt.figure(figsize=(20,2))\n",
        "for i in range(1,n+1):\n",
        "    ax=plt.subplot(1,n,i)\n",
        "    plt.imshow(x_test_noisy[i].reshape(28,28))\n",
        "    plt.gray()\n",
        "plt.show()"
      ],
      "execution_count": 0,
      "outputs": [
        {
          "output_type": "display_data",
          "data": {
            "image/png": "[encoded data removed]",
            "text/plain": [
              "<Figure size 1440x144 with 10 Axes>"
            ]
          },
          "metadata": {
            "tags": [],
            "needs_background": "light"
          }
        }
      ]
    },
    {
      "cell_type": "code",
      "metadata": {
        "id": "sRdns9uYM-mL",
        "colab_type": "code",
        "colab": {}
      },
      "source": [
        "from keras.layers import Input,Dense,Conv2D,MaxPooling2D,UpSampling2D\n",
        "from keras.models import Model"
      ],
      "execution_count": 0,
      "outputs": []
    },
    {
      "cell_type": "code",
      "metadata": {
        "id": "6JrPgw9QM-mZ",
        "colab_type": "code",
        "outputId": "f4fa2729-944c-4239-f104-50a8bc9593f2",
        "colab": {}
      },
      "source": [
        "#encoding\n",
        "input_img=Input(shape=(28,28,1))\n",
        "x=Conv2D(32,(3,3),activation='relu',padding='same')(input_img)  #(28,28,32)\n",
        "x=MaxPooling2D((2,2))(x)         #(14,14,32)\n",
        "\n",
        "x=Conv2D(32,(3,3),activation='relu',padding='same')(x)  #(14,14,32)\n",
        "encoded=MaxPooling2D((2,2))(x) #(7,7,32)\n",
        "\n",
        "#decoding\n",
        "x=Conv2D(32,(3,3),activation='relu',padding='same')(encoded)  #(7,7,32)\n",
        "x=UpSampling2D((2,2))(x)  #(14,14,32)\n",
        "x=Conv2D(32,(3,3),activation='relu',padding='same')(x)  #(14,14,32)\n",
        "x=UpSampling2D((2,2))(x)   #(28,28,32)\n",
        "decoded=Conv2D(1,(3,3),activation='sigmoid',padding='same')(x)\n",
        "#(28,28,1)\n",
        "\n",
        "autoencoder=Model(input_img,decoded)\n",
        "autoencoder.compile(optimizer='adadelta',loss='binary_crossentropy')"
      ],
      "execution_count": 0,
      "outputs": [
        {
          "output_type": "stream",
          "text": [
            "WARNING: Logging before flag parsing goes to stderr.\n",
            "W0703 14:19:10.619768  7140 deprecation_wrapper.py:119] From C:\\Users\\RAHUL\\AppData\\Local\\Programs\\Python\\Python37\\lib\\site-packages\\keras\\backend\\tensorflow_backend.py:74: The name tf.get_default_graph is deprecated. Please use tf.compat.v1.get_default_graph instead.\n",
            "\n",
            "W0703 14:19:11.425770  7140 deprecation_wrapper.py:119] From C:\\Users\\RAHUL\\AppData\\Local\\Programs\\Python\\Python37\\lib\\site-packages\\keras\\backend\\tensorflow_backend.py:517: The name tf.placeholder is deprecated. Please use tf.compat.v1.placeholder instead.\n",
            "\n",
            "W0703 14:19:11.636832  7140 deprecation_wrapper.py:119] From C:\\Users\\RAHUL\\AppData\\Local\\Programs\\Python\\Python37\\lib\\site-packages\\keras\\backend\\tensorflow_backend.py:4138: The name tf.random_uniform is deprecated. Please use tf.random.uniform instead.\n",
            "\n",
            "W0703 14:19:11.935103  7140 deprecation_wrapper.py:119] From C:\\Users\\RAHUL\\AppData\\Local\\Programs\\Python\\Python37\\lib\\site-packages\\keras\\backend\\tensorflow_backend.py:3976: The name tf.nn.max_pool is deprecated. Please use tf.nn.max_pool2d instead.\n",
            "\n",
            "W0703 14:19:12.052505  7140 deprecation_wrapper.py:119] From C:\\Users\\RAHUL\\AppData\\Local\\Programs\\Python\\Python37\\lib\\site-packages\\keras\\backend\\tensorflow_backend.py:2018: The name tf.image.resize_nearest_neighbor is deprecated. Please use tf.compat.v1.image.resize_nearest_neighbor instead.\n",
            "\n",
            "W0703 14:19:12.172474  7140 deprecation_wrapper.py:119] From C:\\Users\\RAHUL\\AppData\\Local\\Programs\\Python\\Python37\\lib\\site-packages\\keras\\optimizers.py:790: The name tf.train.Optimizer is deprecated. Please use tf.compat.v1.train.Optimizer instead.\n",
            "\n",
            "W0703 14:19:12.208492  7140 deprecation_wrapper.py:119] From C:\\Users\\RAHUL\\AppData\\Local\\Programs\\Python\\Python37\\lib\\site-packages\\keras\\backend\\tensorflow_backend.py:3376: The name tf.log is deprecated. Please use tf.math.log instead.\n",
            "\n",
            "W0703 14:19:12.220473  7140 deprecation.py:323] From C:\\Users\\RAHUL\\AppData\\Local\\Programs\\Python\\Python37\\lib\\site-packages\\tensorflow\\python\\ops\\nn_impl.py:180: add_dispatch_support.<locals>.wrapper (from tensorflow.python.ops.array_ops) is deprecated and will be removed in a future version.\n",
            "Instructions for updating:\n",
            "Use tf.where in 2.0, which has the same broadcast rule as np.where\n"
          ],
          "name": "stderr"
        }
      ]
    },
    {
      "cell_type": "code",
      "metadata": {
        "id": "VnOwnXbvM-ml",
        "colab_type": "code",
        "outputId": "2e6021ed-be21-4aa7-f133-bcd3f86e3c00",
        "colab": {}
      },
      "source": [
        "autoencoder.summary()"
      ],
      "execution_count": 0,
      "outputs": [
        {
          "output_type": "stream",
          "text": [
            "_________________________________________________________________\n",
            "Layer (type)                 Output Shape              Param #   \n",
            "=================================================================\n",
            "input_1 (InputLayer)         (None, 28, 28, 1)         0         \n",
            "_________________________________________________________________\n",
            "conv2d_1 (Conv2D)            (None, 28, 28, 32)        320       \n",
            "_________________________________________________________________\n",
            "max_pooling2d_1 (MaxPooling2 (None, 14, 14, 32)        0         \n",
            "_________________________________________________________________\n",
            "conv2d_2 (Conv2D)            (None, 14, 14, 32)        9248      \n",
            "_________________________________________________________________\n",
            "max_pooling2d_2 (MaxPooling2 (None, 7, 7, 32)          0         \n",
            "_________________________________________________________________\n",
            "conv2d_3 (Conv2D)            (None, 7, 7, 32)          9248      \n",
            "_________________________________________________________________\n",
            "up_sampling2d_1 (UpSampling2 (None, 14, 14, 32)        0         \n",
            "_________________________________________________________________\n",
            "conv2d_4 (Conv2D)            (None, 14, 14, 32)        9248      \n",
            "_________________________________________________________________\n",
            "up_sampling2d_2 (UpSampling2 (None, 28, 28, 32)        0         \n",
            "_________________________________________________________________\n",
            "conv2d_5 (Conv2D)            (None, 28, 28, 1)         289       \n",
            "=================================================================\n",
            "Total params: 28,353\n",
            "Trainable params: 28,353\n",
            "Non-trainable params: 0\n",
            "_________________________________________________________________\n"
          ],
          "name": "stdout"
        }
      ]
    },
    {
      "cell_type": "code",
      "metadata": {
        "id": "t7lUq2YcM-mt",
        "colab_type": "code",
        "outputId": "346411fa-c138-484d-8571-c69a8e9c03f7",
        "colab": {}
      },
      "source": [
        "autoencoder.fit(x_train_noisy,x_train,epochs=10,batch_size=128,\n",
        "               shuffle=True,validation_data=(x_test_noisy,x_test))"
      ],
      "execution_count": 0,
      "outputs": [
        {
          "output_type": "stream",
          "text": [
            "W0703 14:19:13.340401  7140 deprecation_wrapper.py:119] From C:\\Users\\RAHUL\\AppData\\Local\\Programs\\Python\\Python37\\lib\\site-packages\\keras\\backend\\tensorflow_backend.py:986: The name tf.assign_add is deprecated. Please use tf.compat.v1.assign_add instead.\n",
            "\n"
          ],
          "name": "stderr"
        },
        {
          "output_type": "stream",
          "text": [
            "Train on 60000 samples, validate on 10000 samples\n",
            "Epoch 1/10\n",
            "60000/60000 [==============================] - 278s 5ms/step - loss: 0.1740 - val_loss: 0.1231\n",
            "Epoch 2/10\n",
            "60000/60000 [==============================] - 270s 5ms/step - loss: 0.1171 - val_loss: 0.1133\n",
            "Epoch 3/10\n",
            "60000/60000 [==============================] - 298s 5ms/step - loss: 0.1102 - val_loss: 0.1074\n",
            "Epoch 4/10\n",
            "60000/60000 [==============================] - 279s 5ms/step - loss: 0.1067 - val_loss: 0.1029\n",
            "Epoch 5/10\n",
            "60000/60000 [==============================] - 300s 5ms/step - loss: 0.1047 - val_loss: 0.1033\n",
            "Epoch 6/10\n",
            "60000/60000 [==============================] - 288s 5ms/step - loss: 0.1034 - val_loss: 0.1007\n",
            "Epoch 7/10\n",
            "60000/60000 [==============================] - 285s 5ms/step - loss: 0.1022 - val_loss: 0.1010\n",
            "Epoch 8/10\n",
            "60000/60000 [==============================] - 294s 5ms/step - loss: 0.1014 - val_loss: 0.1007\n",
            "Epoch 9/10\n",
            "60000/60000 [==============================] - 285s 5ms/step - loss: 0.1009 - val_loss: 0.1003\n",
            "Epoch 10/10\n",
            "60000/60000 [==============================] - 285s 5ms/step - loss: 0.1004 - val_loss: 0.1004\n"
          ],
          "name": "stdout"
        },
        {
          "output_type": "execute_result",
          "data": {
            "text/plain": [
              "<keras.callbacks.History at 0x818f1e4d30>"
            ]
          },
          "metadata": {
            "tags": []
          },
          "execution_count": 11
        }
      ]
    },
    {
      "cell_type": "code",
      "metadata": {
        "id": "RbHQCbKLM-m2",
        "colab_type": "code",
        "colab": {}
      },
      "source": [
        "result = autoencoder.predict(x_test,batch_size=16,verbose=2,steps=None)"
      ],
      "execution_count": 0,
      "outputs": []
    },
    {
      "cell_type": "code",
      "metadata": {
        "id": "2LhpviQRM-m_",
        "colab_type": "code",
        "outputId": "30683f85-9c94-4f1d-8c10-40f88cdfcfee",
        "colab": {}
      },
      "source": [
        "n=10\n",
        "plt.figure(figsize=(20,2))\n",
        "for i in range(1,n+1):\n",
        "    ax=plt.subplot(1,n,i)\n",
        "    plt.imshow(result[i].reshape(28,28))\n",
        "    plt.gray()\n",
        "plt.show()"
      ],
      "execution_count": 0,
      "outputs": [
        {
          "output_type": "display_data",
          "data": {
            "image/png": "[encoded data removed]",
            "text/plain": [
              "<Figure size 1440x144 with 10 Axes>"
            ]
          },
          "metadata": {
            "tags": [],
            "needs_background": "light"
          }
        }
      ]
    },
    {
      "cell_type": "code",
      "metadata": {
        "id": "zyZHb0T5M-nM",
        "colab_type": "code",
        "colab": {}
      },
      "source": [
        ""
      ],
      "execution_count": 0,
      "outputs": []
    }
  ]
}