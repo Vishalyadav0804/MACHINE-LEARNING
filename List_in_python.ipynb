{
  "nbformat": 4,
  "nbformat_minor": 0,
  "metadata": {
    "kernelspec": {
      "display_name": "Python 3",
      "language": "python",
      "name": "python3"
    },
    "language_info": {
      "codemirror_mode": {
        "name": "ipython",
        "version": 3
      },
      "file_extension": ".py",
      "mimetype": "text/x-python",
      "name": "python",
      "nbconvert_exporter": "python",
      "pygments_lexer": "ipython3",
      "version": "3.7.3"
    },
    "colab": {
      "name": "List in python.ipynb",
      "provenance": [],
      "collapsed_sections": [
        "vBatTr0rPODB",
        "hVidffW1POK2",
        "d5t2L_D0POLH"
      ]
    }
  },
  "cells": [
    {
      "cell_type": "code",
      "metadata": {
        "id": "h5i58SkRPN89",
        "colab_type": "code",
        "colab": {}
      },
      "source": [
        "#List is a type of datastructure.\n",
        "#list is ordered collection of items and we can store anything in list llike int,float ,string.\n",
        "#list are mutable means they can be change."
      ],
      "execution_count": 0,
      "outputs": []
    },
    {
      "cell_type": "markdown",
      "metadata": {
        "id": "9KAtYXYQPN9W",
        "colab_type": "text"
      },
      "source": [
        "# Create List"
      ]
    },
    {
      "cell_type": "code",
      "metadata": {
        "id": "y6aLYcv0PN9b",
        "colab_type": "code",
        "outputId": "65aa5364-534f-4413-8147-1f7a9d1f56c0",
        "colab": {}
      },
      "source": [
        "numbers=[1,2,3,4]\n",
        "numbers"
      ],
      "execution_count": 0,
      "outputs": [
        {
          "output_type": "execute_result",
          "data": {
            "text/plain": [
              "[1, 2, 3, 4]"
            ]
          },
          "metadata": {
            "tags": []
          },
          "execution_count": 7
        }
      ]
    },
    {
      "cell_type": "code",
      "metadata": {
        "id": "TEUuScpnPN9v",
        "colab_type": "code",
        "outputId": "9eaee687-f012-4340-851b-7a5514ad5da8",
        "colab": {}
      },
      "source": [
        "word=['w1','w2','w3','w4']\n",
        "word"
      ],
      "execution_count": 0,
      "outputs": [
        {
          "output_type": "execute_result",
          "data": {
            "text/plain": [
              "['w1', 'w2', 'w3', 'w4']"
            ]
          },
          "metadata": {
            "tags": []
          },
          "execution_count": 11
        }
      ]
    },
    {
      "cell_type": "code",
      "metadata": {
        "id": "uNOoXBfjPN9-",
        "colab_type": "code",
        "outputId": "cb7e699f-ff0e-4ec9-d975-e6107e719ef0",
        "colab": {}
      },
      "source": [
        "mixed=['h',2.3,6,7,None]\n",
        "mixed"
      ],
      "execution_count": 0,
      "outputs": [
        {
          "output_type": "execute_result",
          "data": {
            "text/plain": [
              "['h', 2.3, 6, 7, None]"
            ]
          },
          "metadata": {
            "tags": []
          },
          "execution_count": 29
        }
      ]
    },
    {
      "cell_type": "markdown",
      "metadata": {
        "id": "PrCOJDYsPN-N",
        "colab_type": "text"
      },
      "source": [
        "# Access list "
      ]
    },
    {
      "cell_type": "code",
      "metadata": {
        "id": "ihNpN4QSPN-Q",
        "colab_type": "code",
        "outputId": "0e79cb08-786c-4eba-9912-4f17855eb523",
        "colab": {}
      },
      "source": [
        "numbers[1]"
      ],
      "execution_count": 0,
      "outputs": [
        {
          "output_type": "execute_result",
          "data": {
            "text/plain": [
              "2"
            ]
          },
          "metadata": {
            "tags": []
          },
          "execution_count": 8
        }
      ]
    },
    {
      "cell_type": "code",
      "metadata": {
        "id": "HDLDEtCOPN-e",
        "colab_type": "code",
        "outputId": "e697d9b3-c09e-4523-da59-fadeb34b5aa8",
        "colab": {}
      },
      "source": [
        "word[:2]"
      ],
      "execution_count": 0,
      "outputs": [
        {
          "output_type": "execute_result",
          "data": {
            "text/plain": [
              "['w1', 'w2']"
            ]
          },
          "metadata": {
            "tags": []
          },
          "execution_count": 12
        }
      ]
    },
    {
      "cell_type": "code",
      "metadata": {
        "id": "euoiz8yhPN-o",
        "colab_type": "code",
        "outputId": "ded84fc4-c67a-45fc-b386-cf1e85ed6024",
        "colab": {}
      },
      "source": [
        "mixed[-2]"
      ],
      "execution_count": 0,
      "outputs": [
        {
          "output_type": "execute_result",
          "data": {
            "text/plain": [
              "7"
            ]
          },
          "metadata": {
            "tags": []
          },
          "execution_count": 15
        }
      ]
    },
    {
      "cell_type": "code",
      "metadata": {
        "id": "BfFRpzvvPN-4",
        "colab_type": "code",
        "outputId": "af7c35c3-bc9f-44df-bdcc-48a46f4d8b86",
        "colab": {}
      },
      "source": [
        "mixed[1]='Two point three'\n",
        "mixed"
      ],
      "execution_count": 0,
      "outputs": [
        {
          "output_type": "execute_result",
          "data": {
            "text/plain": [
              "['h', 'Two point three', 6, 7, None]"
            ]
          },
          "metadata": {
            "tags": []
          },
          "execution_count": 30
        }
      ]
    },
    {
      "cell_type": "code",
      "metadata": {
        "id": "Hcw5IRyyPN_E",
        "colab_type": "code",
        "outputId": "dd1e6359-bb47-48a2-ce71-23687a477b4b",
        "colab": {}
      },
      "source": [
        "mixed[2:]='hey'\n",
        "mixed"
      ],
      "execution_count": 0,
      "outputs": [
        {
          "output_type": "execute_result",
          "data": {
            "text/plain": [
              "['h', 'Two point three', 'h', 'e', 'y']"
            ]
          },
          "metadata": {
            "tags": []
          },
          "execution_count": 31
        }
      ]
    },
    {
      "cell_type": "code",
      "metadata": {
        "id": "veD_QfHbPN_U",
        "colab_type": "code",
        "outputId": "4488d837-16a9-49a5-a30f-2d30d1d30394",
        "colab": {}
      },
      "source": [
        "mixed[2:]=['one','two']\n",
        "mixed"
      ],
      "execution_count": 0,
      "outputs": [
        {
          "output_type": "execute_result",
          "data": {
            "text/plain": [
              "['h', 'Two point three', 'one', 'two']"
            ]
          },
          "metadata": {
            "tags": []
          },
          "execution_count": 32
        }
      ]
    },
    {
      "cell_type": "code",
      "metadata": {
        "id": "JDMb0IxFPN_i",
        "colab_type": "code",
        "outputId": "b0f9fd63-fa1c-4c11-c1c9-0734abad50d4",
        "colab": {}
      },
      "source": [
        "fruits=['grapes','apple']\n",
        "fruits.append('mango')\n",
        "fruits"
      ],
      "execution_count": 0,
      "outputs": [
        {
          "output_type": "execute_result",
          "data": {
            "text/plain": [
              "['grapes', 'apple', 'mango']"
            ]
          },
          "metadata": {
            "tags": []
          },
          "execution_count": 46
        }
      ]
    },
    {
      "cell_type": "code",
      "metadata": {
        "id": "t8e-vayhPN_y",
        "colab_type": "code",
        "outputId": "b82548f5-4be2-47d0-8045-c545dbb9104d",
        "colab": {}
      },
      "source": [
        "fruits.insert(1,'banana')\n",
        "fruits"
      ],
      "execution_count": 0,
      "outputs": [
        {
          "output_type": "execute_result",
          "data": {
            "text/plain": [
              "['grapes', 'banana', 'apple', 'mango']"
            ]
          },
          "metadata": {
            "tags": []
          },
          "execution_count": 47
        }
      ]
    },
    {
      "cell_type": "code",
      "metadata": {
        "id": "l8QVlT8PPOAG",
        "colab_type": "code",
        "outputId": "6c7fd388-8c90-4a06-b9e4-4f8831ad0e83",
        "colab": {}
      },
      "source": [
        "#concatenation of two list\n",
        "fruits2=['orange','strawberry']\n",
        "fruits=fruits+fruits2\n",
        "fruits"
      ],
      "execution_count": 0,
      "outputs": [
        {
          "output_type": "execute_result",
          "data": {
            "text/plain": [
              "['grapes', 'banana', 'apple', 'mango', 'orange', 'strawberry']"
            ]
          },
          "metadata": {
            "tags": []
          },
          "execution_count": 48
        }
      ]
    },
    {
      "cell_type": "code",
      "metadata": {
        "id": "QA53L32JPOBq",
        "colab_type": "code",
        "outputId": "8ffbfe54-ef03-4b14-d4f7-045eb07262df",
        "colab": {}
      },
      "source": [
        "#estend function\n",
        "fruits.extend(fruits2)\n",
        "fruits"
      ],
      "execution_count": 0,
      "outputs": [
        {
          "output_type": "execute_result",
          "data": {
            "text/plain": [
              "['grapes',\n",
              " 'banana',\n",
              " 'apple',\n",
              " 'mango',\n",
              " 'orange',\n",
              " 'strawberry',\n",
              " 'orange',\n",
              " 'strawberry',\n",
              " 'orange',\n",
              " 'strawberry']"
            ]
          },
          "metadata": {
            "tags": []
          },
          "execution_count": 50
        }
      ]
    },
    {
      "cell_type": "code",
      "metadata": {
        "id": "RQ89_S6IPOCG",
        "colab_type": "code",
        "outputId": "6914edf3-361c-4af4-80a0-57ea1ac651d5",
        "colab": {}
      },
      "source": [
        "fruits.append(fruits2)\n",
        "fruits"
      ],
      "execution_count": 0,
      "outputs": [
        {
          "output_type": "execute_result",
          "data": {
            "text/plain": [
              "['grapes',\n",
              " 'banana',\n",
              " 'apple',\n",
              " 'mango',\n",
              " 'orange',\n",
              " 'strawberry',\n",
              " 'orange',\n",
              " 'strawberry',\n",
              " 'orange',\n",
              " 'strawberry',\n",
              " ['orange', 'strawberry']]"
            ]
          },
          "metadata": {
            "tags": []
          },
          "execution_count": 51
        }
      ]
    },
    {
      "cell_type": "markdown",
      "metadata": {
        "id": "vBatTr0rPODB",
        "colab_type": "text"
      },
      "source": [
        "# Deleting data from list"
      ]
    },
    {
      "cell_type": "code",
      "metadata": {
        "id": "KIILRP-BPOEu",
        "colab_type": "code",
        "colab": {}
      },
      "source": [
        "#pop method-(bydefault)it delets last element from list"
      ],
      "execution_count": 0,
      "outputs": []
    },
    {
      "cell_type": "code",
      "metadata": {
        "id": "tyT4Pf6ZPOGG",
        "colab_type": "code",
        "outputId": "c3c23fe4-54d0-465e-8d62-ce652ca4724d",
        "colab": {}
      },
      "source": [
        "fruits=['orange','apple','pear','banana','kiwi']\n",
        "fruits.pop()\n",
        "fruits"
      ],
      "execution_count": 0,
      "outputs": [
        {
          "output_type": "execute_result",
          "data": {
            "text/plain": [
              "['orange', 'apple', 'pear', 'banana']"
            ]
          },
          "metadata": {
            "tags": []
          },
          "execution_count": 52
        }
      ]
    },
    {
      "cell_type": "code",
      "metadata": {
        "id": "RzAOKhY5POGl",
        "colab_type": "code",
        "outputId": "1f7378bf-a6df-43b3-e20c-f1242ae6763c",
        "colab": {}
      },
      "source": [
        "fruits.pop(1)\n",
        "fruits"
      ],
      "execution_count": 0,
      "outputs": [
        {
          "output_type": "execute_result",
          "data": {
            "text/plain": [
              "['orange', 'banana']"
            ]
          },
          "metadata": {
            "tags": []
          },
          "execution_count": 54
        }
      ]
    },
    {
      "cell_type": "code",
      "metadata": {
        "id": "TXsfPjQYPOHj",
        "colab_type": "code",
        "colab": {}
      },
      "source": [
        "#delete statement/operator"
      ],
      "execution_count": 0,
      "outputs": []
    },
    {
      "cell_type": "code",
      "metadata": {
        "id": "G9aTpiQ_POIG",
        "colab_type": "code",
        "outputId": "ecb52b96-2a45-4964-9dde-4d58f0fe54e9",
        "colab": {}
      },
      "source": [
        "fruits=['orange','apple','pear','banana','kiwi']\n",
        "del fruits[1]\n",
        "fruits"
      ],
      "execution_count": 0,
      "outputs": [
        {
          "output_type": "execute_result",
          "data": {
            "text/plain": [
              "['orange', 'pear', 'banana', 'kiwi']"
            ]
          },
          "metadata": {
            "tags": []
          },
          "execution_count": 56
        }
      ]
    },
    {
      "cell_type": "code",
      "metadata": {
        "id": "UbPYulelPOIe",
        "colab_type": "code",
        "colab": {}
      },
      "source": [
        "#remove method-when we don't know the position of a element in a list"
      ],
      "execution_count": 0,
      "outputs": []
    },
    {
      "cell_type": "code",
      "metadata": {
        "id": "CgWkuLQiPOKI",
        "colab_type": "code",
        "outputId": "19497772-f6eb-448b-dce7-80ec73e3c28e",
        "colab": {}
      },
      "source": [
        "fruits.remove('banana')\n",
        "fruits"
      ],
      "execution_count": 0,
      "outputs": [
        {
          "output_type": "execute_result",
          "data": {
            "text/plain": [
              "['orange', 'pear', 'kiwi']"
            ]
          },
          "metadata": {
            "tags": []
          },
          "execution_count": 57
        }
      ]
    },
    {
      "cell_type": "code",
      "metadata": {
        "id": "ROPuoNJ9POKY",
        "colab_type": "code",
        "outputId": "78de72ae-ecd2-4502-ee23-82ce8d60abee",
        "colab": {}
      },
      "source": [
        "#not in list\n",
        "fruits.remove('mango')"
      ],
      "execution_count": 0,
      "outputs": [
        {
          "output_type": "error",
          "ename": "ValueError",
          "evalue": "list.remove(x): x not in list",
          "traceback": [
            "\u001b[1;31m---------------------------------------------------------------------------\u001b[0m",
            "\u001b[1;31mValueError\u001b[0m                                Traceback (most recent call last)",
            "\u001b[1;32m<ipython-input-58-f295c0a9188a>\u001b[0m in \u001b[0;36m<module>\u001b[1;34m\u001b[0m\n\u001b[1;32m----> 1\u001b[1;33m \u001b[0mfruits\u001b[0m\u001b[1;33m.\u001b[0m\u001b[0mremove\u001b[0m\u001b[1;33m(\u001b[0m\u001b[1;34m'mango'\u001b[0m\u001b[1;33m)\u001b[0m\u001b[1;33m\u001b[0m\u001b[1;33m\u001b[0m\u001b[0m\n\u001b[0m",
            "\u001b[1;31mValueError\u001b[0m: list.remove(x): x not in list"
          ]
        }
      ]
    },
    {
      "cell_type": "code",
      "metadata": {
        "id": "876xQNWIPOKn",
        "colab_type": "code",
        "outputId": "a27078f9-079d-44f9-927f-dd6a598d0786",
        "colab": {}
      },
      "source": [
        "#multiple copies then it will delete first one\n",
        "fruits=['orange','apple','pear','apple','banana','kiwi','apple']\n",
        "fruits.remove('apple')\n",
        "fruits"
      ],
      "execution_count": 0,
      "outputs": [
        {
          "output_type": "execute_result",
          "data": {
            "text/plain": [
              "['orange', 'pear', 'apple', 'banana', 'kiwi', 'apple']"
            ]
          },
          "metadata": {
            "tags": []
          },
          "execution_count": 59
        }
      ]
    },
    {
      "cell_type": "markdown",
      "metadata": {
        "id": "hVidffW1POK2",
        "colab_type": "text"
      },
      "source": [
        "# In keyword in list-for finding element/data"
      ]
    },
    {
      "cell_type": "code",
      "metadata": {
        "id": "6e9rN-PUPOK9",
        "colab_type": "code",
        "outputId": "c894f5f2-0854-473a-f3f6-3af38722b54b",
        "colab": {}
      },
      "source": [
        "fruits=['orange','apple','pear','banana','kiwi']\n",
        "if 'apple' in fruits:\n",
        "    print(\"apple is present\")\n",
        "else:\n",
        "    print(\"apple is not present\")"
      ],
      "execution_count": 0,
      "outputs": [
        {
          "output_type": "stream",
          "text": [
            "apple is present\n"
          ],
          "name": "stdout"
        }
      ]
    },
    {
      "cell_type": "markdown",
      "metadata": {
        "id": "d5t2L_D0POLH",
        "colab_type": "text"
      },
      "source": [
        "# Methods used in list"
      ]
    },
    {
      "cell_type": "code",
      "metadata": {
        "id": "A8AhgL5TPOLO",
        "colab_type": "code",
        "outputId": "8f79e366-71b0-4775-8242-16a15c858fdb",
        "colab": {}
      },
      "source": [
        "#count method\n",
        "fruits=['orange','apple','pear','apple','banana','kiwi','apple']\n",
        "print(fruits.count('apple'))"
      ],
      "execution_count": 0,
      "outputs": [
        {
          "output_type": "stream",
          "text": [
            "3\n"
          ],
          "name": "stdout"
        }
      ]
    },
    {
      "cell_type": "code",
      "metadata": {
        "id": "5XCcelumPOLi",
        "colab_type": "code",
        "outputId": "7945e60c-171f-479c-d40b-73871089bb70",
        "colab": {}
      },
      "source": [
        "#sort method\n",
        "fruits.sort()\n",
        "fruits"
      ],
      "execution_count": 0,
      "outputs": [
        {
          "output_type": "execute_result",
          "data": {
            "text/plain": [
              "['apple', 'apple', 'apple', 'banana', 'kiwi', 'orange', 'pear']"
            ]
          },
          "metadata": {
            "tags": []
          },
          "execution_count": 62
        }
      ]
    },
    {
      "cell_type": "code",
      "metadata": {
        "id": "MkbccpTQPOLt",
        "colab_type": "code",
        "outputId": "afd526d4-619b-4fb8-9a9e-8d985094eddd",
        "colab": {}
      },
      "source": [
        "#sorted function-it will not sort the list but print it in sorted order\n",
        "numbers=[3,5,1,8,9,10]\n",
        "print(sorted(numbers))\n",
        "print(numbers)"
      ],
      "execution_count": 0,
      "outputs": [
        {
          "output_type": "stream",
          "text": [
            "[1, 3, 5, 8, 9, 10]\n",
            "[3, 5, 1, 8, 9, 10]\n"
          ],
          "name": "stdout"
        }
      ]
    },
    {
      "cell_type": "code",
      "metadata": {
        "id": "iiHNS1odPOMG",
        "colab_type": "code",
        "outputId": "59595002-fc2a-4981-c160-5b0014947bc0",
        "colab": {}
      },
      "source": [
        "#clear method--make list empty\n",
        "numbers.clear()\n",
        "numbers"
      ],
      "execution_count": 0,
      "outputs": [
        {
          "output_type": "execute_result",
          "data": {
            "text/plain": [
              "[]"
            ]
          },
          "metadata": {
            "tags": []
          },
          "execution_count": 64
        }
      ]
    },
    {
      "cell_type": "code",
      "metadata": {
        "id": "dXWPqEPiPOM2",
        "colab_type": "code",
        "outputId": "ed2735c1-5e68-4dcc-87d5-9fa5a17c7257",
        "colab": {}
      },
      "source": [
        "#copy method\n",
        "numbers=[3,5,1,8,9,10]\n",
        "numb=numbers.copy()\n",
        "numb"
      ],
      "execution_count": 0,
      "outputs": [
        {
          "output_type": "execute_result",
          "data": {
            "text/plain": [
              "[3, 5, 1, 8, 9, 10]"
            ]
          },
          "metadata": {
            "tags": []
          },
          "execution_count": 66
        }
      ]
    },
    {
      "cell_type": "code",
      "metadata": {
        "id": "P0MYoEVnPONP",
        "colab_type": "code",
        "colab": {}
      },
      "source": [
        ""
      ],
      "execution_count": 0,
      "outputs": []
    },
    {
      "cell_type": "code",
      "metadata": {
        "id": "Y4toD20LPOP5",
        "colab_type": "code",
        "colab": {}
      },
      "source": [
        ""
      ],
      "execution_count": 0,
      "outputs": []
    },
    {
      "cell_type": "code",
      "metadata": {
        "id": "rLxNkm5-POTW",
        "colab_type": "code",
        "colab": {}
      },
      "source": [
        ""
      ],
      "execution_count": 0,
      "outputs": []
    },
    {
      "cell_type": "code",
      "metadata": {
        "id": "6kYXj-aLPOX9",
        "colab_type": "code",
        "colab": {}
      },
      "source": [
        ""
      ],
      "execution_count": 0,
      "outputs": []
    },
    {
      "cell_type": "code",
      "metadata": {
        "id": "jxf1XGkOPOYJ",
        "colab_type": "code",
        "colab": {}
      },
      "source": [
        ""
      ],
      "execution_count": 0,
      "outputs": []
    },
    {
      "cell_type": "code",
      "metadata": {
        "id": "_jdZz6bZPOZ-",
        "colab_type": "code",
        "colab": {}
      },
      "source": [
        ""
      ],
      "execution_count": 0,
      "outputs": []
    },
    {
      "cell_type": "code",
      "metadata": {
        "id": "ElsstSXsPOaT",
        "colab_type": "code",
        "colab": {}
      },
      "source": [
        ""
      ],
      "execution_count": 0,
      "outputs": []
    },
    {
      "cell_type": "code",
      "metadata": {
        "id": "h09cJPdrPOac",
        "colab_type": "code",
        "colab": {}
      },
      "source": [
        ""
      ],
      "execution_count": 0,
      "outputs": []
    },
    {
      "cell_type": "code",
      "metadata": {
        "id": "IayLwvboPOcN",
        "colab_type": "code",
        "colab": {}
      },
      "source": [
        ""
      ],
      "execution_count": 0,
      "outputs": []
    },
    {
      "cell_type": "code",
      "metadata": {
        "id": "healK6OpPOcc",
        "colab_type": "code",
        "colab": {}
      },
      "source": [
        ""
      ],
      "execution_count": 0,
      "outputs": []
    },
    {
      "cell_type": "code",
      "metadata": {
        "id": "TfM1_27tPOco",
        "colab_type": "code",
        "colab": {}
      },
      "source": [
        ""
      ],
      "execution_count": 0,
      "outputs": []
    },
    {
      "cell_type": "code",
      "metadata": {
        "id": "SOZBF8EBPOcw",
        "colab_type": "code",
        "colab": {}
      },
      "source": [
        ""
      ],
      "execution_count": 0,
      "outputs": []
    },
    {
      "cell_type": "code",
      "metadata": {
        "id": "dRwFLSDFPOdJ",
        "colab_type": "code",
        "colab": {}
      },
      "source": [
        ""
      ],
      "execution_count": 0,
      "outputs": []
    },
    {
      "cell_type": "code",
      "metadata": {
        "id": "Q_gpExbsPOdY",
        "colab_type": "code",
        "colab": {}
      },
      "source": [
        ""
      ],
      "execution_count": 0,
      "outputs": []
    },
    {
      "cell_type": "code",
      "metadata": {
        "id": "IQ4N5gWkPOdk",
        "colab_type": "code",
        "colab": {}
      },
      "source": [
        ""
      ],
      "execution_count": 0,
      "outputs": []
    },
    {
      "cell_type": "code",
      "metadata": {
        "id": "djCOLsL-POeN",
        "colab_type": "code",
        "colab": {}
      },
      "source": [
        ""
      ],
      "execution_count": 0,
      "outputs": []
    },
    {
      "cell_type": "code",
      "metadata": {
        "id": "BOeLUMdYPOf1",
        "colab_type": "code",
        "colab": {}
      },
      "source": [
        ""
      ],
      "execution_count": 0,
      "outputs": []
    },
    {
      "cell_type": "code",
      "metadata": {
        "id": "vehZJ7g6POgA",
        "colab_type": "code",
        "colab": {}
      },
      "source": [
        ""
      ],
      "execution_count": 0,
      "outputs": []
    },
    {
      "cell_type": "code",
      "metadata": {
        "id": "cmxWqGmdPOgK",
        "colab_type": "code",
        "colab": {}
      },
      "source": [
        ""
      ],
      "execution_count": 0,
      "outputs": []
    },
    {
      "cell_type": "code",
      "metadata": {
        "id": "ASLZwOedPOgY",
        "colab_type": "code",
        "colab": {}
      },
      "source": [
        ""
      ],
      "execution_count": 0,
      "outputs": []
    },
    {
      "cell_type": "code",
      "metadata": {
        "id": "gTTNNeKsPOrR",
        "colab_type": "code",
        "colab": {}
      },
      "source": [
        ""
      ],
      "execution_count": 0,
      "outputs": []
    },
    {
      "cell_type": "code",
      "metadata": {
        "id": "4AJLj14QPOrY",
        "colab_type": "code",
        "colab": {}
      },
      "source": [
        ""
      ],
      "execution_count": 0,
      "outputs": []
    },
    {
      "cell_type": "code",
      "metadata": {
        "id": "81ratYBdPOrk",
        "colab_type": "code",
        "colab": {}
      },
      "source": [
        ""
      ],
      "execution_count": 0,
      "outputs": []
    },
    {
      "cell_type": "code",
      "metadata": {
        "id": "tic1AQ1KPOru",
        "colab_type": "code",
        "colab": {}
      },
      "source": [
        ""
      ],
      "execution_count": 0,
      "outputs": []
    },
    {
      "cell_type": "code",
      "metadata": {
        "id": "HNP3S_GWPOsL",
        "colab_type": "code",
        "colab": {}
      },
      "source": [
        ""
      ],
      "execution_count": 0,
      "outputs": []
    },
    {
      "cell_type": "code",
      "metadata": {
        "id": "HodFESU4POsd",
        "colab_type": "code",
        "colab": {}
      },
      "source": [
        ""
      ],
      "execution_count": 0,
      "outputs": []
    },
    {
      "cell_type": "code",
      "metadata": {
        "id": "Hdll0iFYPOsy",
        "colab_type": "code",
        "colab": {}
      },
      "source": [
        ""
      ],
      "execution_count": 0,
      "outputs": []
    },
    {
      "cell_type": "code",
      "metadata": {
        "id": "Hdp6nnrTPOtE",
        "colab_type": "code",
        "colab": {}
      },
      "source": [
        ""
      ],
      "execution_count": 0,
      "outputs": []
    },
    {
      "cell_type": "code",
      "metadata": {
        "id": "kfoK_u-dPOtM",
        "colab_type": "code",
        "colab": {}
      },
      "source": [
        ""
      ],
      "execution_count": 0,
      "outputs": []
    },
    {
      "cell_type": "code",
      "metadata": {
        "id": "nzzDnnOePOtS",
        "colab_type": "code",
        "colab": {}
      },
      "source": [
        ""
      ],
      "execution_count": 0,
      "outputs": []
    },
    {
      "cell_type": "code",
      "metadata": {
        "id": "aRHZ-qMBPOtY",
        "colab_type": "code",
        "colab": {}
      },
      "source": [
        ""
      ],
      "execution_count": 0,
      "outputs": []
    },
    {
      "cell_type": "code",
      "metadata": {
        "id": "BpcH9zdrPOue",
        "colab_type": "code",
        "colab": {}
      },
      "source": [
        ""
      ],
      "execution_count": 0,
      "outputs": []
    },
    {
      "cell_type": "code",
      "metadata": {
        "id": "UevoONA9POu5",
        "colab_type": "code",
        "colab": {}
      },
      "source": [
        ""
      ],
      "execution_count": 0,
      "outputs": []
    },
    {
      "cell_type": "code",
      "metadata": {
        "id": "xCEfK8ouPOvS",
        "colab_type": "code",
        "colab": {}
      },
      "source": [
        ""
      ],
      "execution_count": 0,
      "outputs": []
    },
    {
      "cell_type": "code",
      "metadata": {
        "id": "VvKER5IOPOvd",
        "colab_type": "code",
        "colab": {}
      },
      "source": [
        ""
      ],
      "execution_count": 0,
      "outputs": []
    },
    {
      "cell_type": "code",
      "metadata": {
        "id": "4MgW0fUKPOvx",
        "colab_type": "code",
        "colab": {}
      },
      "source": [
        ""
      ],
      "execution_count": 0,
      "outputs": []
    },
    {
      "cell_type": "code",
      "metadata": {
        "id": "1ZxMC79sPOwi",
        "colab_type": "code",
        "colab": {}
      },
      "source": [
        ""
      ],
      "execution_count": 0,
      "outputs": []
    },
    {
      "cell_type": "code",
      "metadata": {
        "id": "DnvnR3ZMPOwx",
        "colab_type": "code",
        "colab": {}
      },
      "source": [
        ""
      ],
      "execution_count": 0,
      "outputs": []
    },
    {
      "cell_type": "code",
      "metadata": {
        "id": "Xo6ILM9HPOxA",
        "colab_type": "code",
        "colab": {}
      },
      "source": [
        ""
      ],
      "execution_count": 0,
      "outputs": []
    },
    {
      "cell_type": "code",
      "metadata": {
        "id": "gg9uH6ybPOxU",
        "colab_type": "code",
        "colab": {}
      },
      "source": [
        ""
      ],
      "execution_count": 0,
      "outputs": []
    }
  ]
}