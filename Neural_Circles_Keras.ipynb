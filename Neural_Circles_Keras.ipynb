{
  "nbformat": 4,
  "nbformat_minor": 0,
  "metadata": {
    "kernelspec": {
      "display_name": "Python 3",
      "language": "python",
      "name": "python3"
    },
    "language_info": {
      "codemirror_mode": {
        "name": "ipython",
        "version": 3
      },
      "file_extension": ".py",
      "mimetype": "text/x-python",
      "name": "python",
      "nbconvert_exporter": "python",
      "pygments_lexer": "ipython3",
      "version": "3.7.3"
    },
    "colab": {
      "name": "Neural-Circles-Keras.ipynb",
      "provenance": [],
      "collapsed_sections": []
    }
  },
  "cells": [
    {
      "cell_type": "code",
      "metadata": {
        "id": "_jb97ovUPe_x",
        "colab_type": "code",
        "outputId": "c85914d6-2531-40cd-f4c6-96f4c7734a73",
        "colab": {}
      },
      "source": [
        "! pip3 install keras"
      ],
      "execution_count": 0,
      "outputs": [
        {
          "output_type": "stream",
          "text": [
            "Requirement already satisfied: keras in c:\\users\\rahul\\appdata\\local\\programs\\python\\python37\\lib\\site-packages (2.2.4)\n",
            "Requirement already satisfied: keras-applications>=1.0.6 in c:\\users\\rahul\\appdata\\local\\programs\\python\\python37\\lib\\site-packages (from keras) (1.0.8)\n",
            "Requirement already satisfied: scipy>=0.14 in c:\\users\\rahul\\appdata\\roaming\\python\\python37\\site-packages (from keras) (1.3.0)\n",
            "Requirement already satisfied: keras-preprocessing>=1.0.5 in c:\\users\\rahul\\appdata\\local\\programs\\python\\python37\\lib\\site-packages (from keras) (1.1.0)\n",
            "Requirement already satisfied: pyyaml in c:\\users\\rahul\\appdata\\local\\programs\\python\\python37\\lib\\site-packages (from keras) (5.1.1)\n",
            "Requirement already satisfied: six>=1.9.0 in c:\\users\\rahul\\appdata\\local\\programs\\python\\python37\\lib\\site-packages (from keras) (1.12.0)\n",
            "Requirement already satisfied: numpy>=1.9.1 in c:\\users\\rahul\\appdata\\local\\programs\\python\\python37\\lib\\site-packages (from keras) (1.16.4)\n",
            "Requirement already satisfied: h5py in c:\\users\\rahul\\appdata\\local\\programs\\python\\python37\\lib\\site-packages (from keras) (2.9.0)\n"
          ],
          "name": "stdout"
        }
      ]
    },
    {
      "cell_type": "code",
      "metadata": {
        "id": "X-io7QaiPe__",
        "colab_type": "code",
        "colab": {}
      },
      "source": [
        "import numpy as np\n",
        "import matplotlib.pyplot as plt\n",
        "%matplotlib inline"
      ],
      "execution_count": 0,
      "outputs": []
    },
    {
      "cell_type": "code",
      "metadata": {
        "id": "RbAxgzEIPfAM",
        "colab_type": "code",
        "outputId": "99e1be5d-8f0e-4a0a-d247-f3e15dcfb75d",
        "colab": {}
      },
      "source": [
        "from keras.layers import Dense,Activation"
      ],
      "execution_count": 0,
      "outputs": [
        {
          "output_type": "stream",
          "text": [
            "Using TensorFlow backend.\n"
          ],
          "name": "stderr"
        }
      ]
    },
    {
      "cell_type": "code",
      "metadata": {
        "id": "hrIPbaMjPfAZ",
        "colab_type": "code",
        "colab": {}
      },
      "source": [
        "from keras.models import Sequential"
      ],
      "execution_count": 0,
      "outputs": []
    },
    {
      "cell_type": "code",
      "metadata": {
        "id": "E_wSqHk0PfAt",
        "colab_type": "code",
        "colab": {}
      },
      "source": [
        "from keras.utils import  np_utils"
      ],
      "execution_count": 0,
      "outputs": []
    },
    {
      "cell_type": "code",
      "metadata": {
        "id": "qKFWXvRTPfA5",
        "colab_type": "code",
        "colab": {}
      },
      "source": [
        "from sklearn.datasets import make_circles"
      ],
      "execution_count": 0,
      "outputs": []
    },
    {
      "cell_type": "code",
      "metadata": {
        "id": "L082GMAePfBD",
        "colab_type": "code",
        "outputId": "0052ad39-b6f1-48b6-feb8-6585a450a75b",
        "colab": {}
      },
      "source": [
        "X,y=make_circles(n_samples=2000,factor=0.4)\n",
        "print(X.shape,y.shape)\n",
        "plt.scatter(X[:,0],X[:,1],c=y)\n",
        "plt.show()"
      ],
      "execution_count": 0,
      "outputs": [
        {
          "output_type": "stream",
          "text": [
            "(2000, 2) (2000,)\n"
          ],
          "name": "stdout"
        },
        {
          "output_type": "display_data",
          "data": {
            "image/png": "[encoded data removed]",
            "text/plain": [
              "<Figure size 432x288 with 1 Axes>"
            ]
          },
          "metadata": {
            "tags": [],
            "needs_background": "light"
          }
        }
      ]
    },
    {
      "cell_type": "code",
      "metadata": {
        "id": "bhGecTJqPfBR",
        "colab_type": "code",
        "outputId": "29bd426c-405f-4d9c-ccb1-a9cefc01c0ff",
        "colab": {}
      },
      "source": [
        "np.unique(y,return_counts=True)"
      ],
      "execution_count": 0,
      "outputs": [
        {
          "output_type": "execute_result",
          "data": {
            "text/plain": [
              "(array([0, 1], dtype=int64), array([1000, 1000], dtype=int64))"
            ]
          },
          "metadata": {
            "tags": []
          },
          "execution_count": 7
        }
      ]
    },
    {
      "cell_type": "code",
      "metadata": {
        "id": "xiHP-8rQPfBj",
        "colab_type": "code",
        "outputId": "26e39786-1f5c-4e40-cb44-1d688f2eab39",
        "colab": {}
      },
      "source": [
        "Y=np_utils.to_categorical(y)\n",
        "Y.shape"
      ],
      "execution_count": 0,
      "outputs": [
        {
          "output_type": "execute_result",
          "data": {
            "text/plain": [
              "(2000, 2)"
            ]
          },
          "metadata": {
            "tags": []
          },
          "execution_count": 8
        }
      ]
    },
    {
      "cell_type": "code",
      "metadata": {
        "id": "ntHRiDdDPfBz",
        "colab_type": "code",
        "outputId": "a1464338-fa35-4700-9e5e-c0c2acda842d",
        "colab": {}
      },
      "source": [
        "y[:5]"
      ],
      "execution_count": 0,
      "outputs": [
        {
          "output_type": "execute_result",
          "data": {
            "text/plain": [
              "array([0, 0, 1, 0, 1], dtype=int64)"
            ]
          },
          "metadata": {
            "tags": []
          },
          "execution_count": 19
        }
      ]
    },
    {
      "cell_type": "code",
      "metadata": {
        "id": "etkKlePDPfCA",
        "colab_type": "code",
        "outputId": "bc6f1fd1-520f-4615-bc58-f01c00d2513a",
        "colab": {}
      },
      "source": [
        "Y[:5]"
      ],
      "execution_count": 0,
      "outputs": [
        {
          "output_type": "execute_result",
          "data": {
            "text/plain": [
              "array([[1., 0.],\n",
              "       [1., 0.],\n",
              "       [0., 1.],\n",
              "       [1., 0.],\n",
              "       [0., 1.]], dtype=float32)"
            ]
          },
          "metadata": {
            "tags": []
          },
          "execution_count": 9
        }
      ]
    },
    {
      "cell_type": "code",
      "metadata": {
        "id": "2bqST16oPfCK",
        "colab_type": "code",
        "colab": {}
      },
      "source": [
        "from sklearn.model_selection import train_test_split"
      ],
      "execution_count": 0,
      "outputs": []
    },
    {
      "cell_type": "code",
      "metadata": {
        "id": "gcfVQwscPfCd",
        "colab_type": "code",
        "outputId": "e7ef74c9-7367-4c47-d9a7-85bdfe9cd7e1",
        "colab": {}
      },
      "source": [
        "X_train,X_test,y_train,y_test=train_test_split(X,Y)\n",
        "print(X_train.shape,X_test.shape)\n",
        "print(y_train.shape,y_test.shape)"
      ],
      "execution_count": 0,
      "outputs": [
        {
          "output_type": "stream",
          "text": [
            "(1500, 2) (500, 2)\n",
            "(1500, 2) (500, 2)\n"
          ],
          "name": "stdout"
        }
      ]
    },
    {
      "cell_type": "code",
      "metadata": {
        "id": "rUO88Fw-PfEk",
        "colab_type": "code",
        "outputId": "73ad9c8b-dae1-413b-8b3f-930949f65820",
        "colab": {}
      },
      "source": [
        "model=Sequential()\n",
        "model.add(Dense(5, input_shape=(2,) ))\n",
        "model.add(Activation('relu'))\n",
        "\n",
        "model.add(Dense(2))\n",
        "model.add(Activation('softmax'))\n",
        "model.summary()"
      ],
      "execution_count": 0,
      "outputs": [
        {
          "output_type": "stream",
          "text": [
            "_________________________________________________________________\n",
            "Layer (type)                 Output Shape              Param #   \n",
            "=================================================================\n",
            "dense_3 (Dense)              (None, 5)                 15        \n",
            "_________________________________________________________________\n",
            "activation_3 (Activation)    (None, 5)                 0         \n",
            "_________________________________________________________________\n",
            "dense_4 (Dense)              (None, 2)                 12        \n",
            "_________________________________________________________________\n",
            "activation_4 (Activation)    (None, 2)                 0         \n",
            "=================================================================\n",
            "Total params: 27\n",
            "Trainable params: 27\n",
            "Non-trainable params: 0\n",
            "_________________________________________________________________\n"
          ],
          "name": "stdout"
        }
      ]
    },
    {
      "cell_type": "code",
      "metadata": {
        "id": "Z8kbo-CjPfEt",
        "colab_type": "code",
        "colab": {}
      },
      "source": [
        "model.compile(optimizer='adam',\n",
        "              loss='binary_crossentropy',\n",
        "             metrics=['accuracy'])"
      ],
      "execution_count": 0,
      "outputs": []
    },
    {
      "cell_type": "code",
      "metadata": {
        "id": "UYCKGpZKPfE2",
        "colab_type": "code",
        "outputId": "8a22077f-2ac9-4467-d8e2-235f87ad0118",
        "colab": {}
      },
      "source": [
        "model.fit(X_train,y_train,batch_size=16,nb_epoch=20,verbose=2,validation_data=(X_test,y_test))\n"
      ],
      "execution_count": 0,
      "outputs": [
        {
          "output_type": "stream",
          "text": [
            "C:\\Users\\RAHUL\\AppData\\Local\\Programs\\Python\\Python37\\lib\\site-packages\\ipykernel_launcher.py:1: UserWarning: The `nb_epoch` argument in `fit` has been renamed `epochs`.\n",
            "  \"\"\"Entry point for launching an IPython kernel.\n",
            "W0628 14:24:58.250021  2668 deprecation_wrapper.py:119] From C:\\Users\\RAHUL\\AppData\\Local\\Programs\\Python\\Python37\\lib\\site-packages\\keras\\backend\\tensorflow_backend.py:986: The name tf.assign_add is deprecated. Please use tf.compat.v1.assign_add instead.\n",
            "\n"
          ],
          "name": "stderr"
        },
        {
          "output_type": "stream",
          "text": [
            "Train on 1500 samples, validate on 500 samples\n",
            "Epoch 1/20\n",
            " - 5s - loss: 0.8475 - acc: 0.4957 - val_loss: 0.8078 - val_acc: 0.4580\n",
            "Epoch 2/20\n",
            " - 0s - loss: 0.7821 - acc: 0.4653 - val_loss: 0.7560 - val_acc: 0.4460\n",
            "Epoch 3/20\n",
            " - 0s - loss: 0.7425 - acc: 0.4347 - val_loss: 0.7205 - val_acc: 0.4240\n",
            "Epoch 4/20\n",
            " - 0s - loss: 0.7122 - acc: 0.4320 - val_loss: 0.6923 - val_acc: 0.4120\n",
            "Epoch 5/20\n",
            " - 0s - loss: 0.6830 - acc: 0.4227 - val_loss: 0.6616 - val_acc: 0.5540\n",
            "Epoch 6/20\n",
            " - 0s - loss: 0.6535 - acc: 0.5840 - val_loss: 0.6364 - val_acc: 0.5960\n",
            "Epoch 7/20\n",
            " - 0s - loss: 0.6305 - acc: 0.5980 - val_loss: 0.6192 - val_acc: 0.6040\n",
            "Epoch 8/20\n",
            " - 0s - loss: 0.6133 - acc: 0.6260 - val_loss: 0.6044 - val_acc: 0.6200\n",
            "Epoch 9/20\n",
            " - 0s - loss: 0.5964 - acc: 0.6753 - val_loss: 0.5867 - val_acc: 0.7460\n",
            "Epoch 10/20\n",
            " - 0s - loss: 0.5778 - acc: 0.8133 - val_loss: 0.5677 - val_acc: 0.8200\n",
            "Epoch 11/20\n",
            " - 0s - loss: 0.5581 - acc: 0.8713 - val_loss: 0.5482 - val_acc: 0.8940\n",
            "Epoch 12/20\n",
            " - 0s - loss: 0.5371 - acc: 0.9033 - val_loss: 0.5278 - val_acc: 0.9040\n",
            "Epoch 13/20\n",
            " - 0s - loss: 0.5159 - acc: 0.9113 - val_loss: 0.5068 - val_acc: 0.9140\n",
            "Epoch 14/20\n",
            " - 0s - loss: 0.4942 - acc: 0.9193 - val_loss: 0.4853 - val_acc: 0.9200\n",
            "Epoch 15/20\n",
            " - 0s - loss: 0.4721 - acc: 0.9307 - val_loss: 0.4632 - val_acc: 0.9300\n",
            "Epoch 16/20\n",
            " - 0s - loss: 0.4500 - acc: 0.9353 - val_loss: 0.4406 - val_acc: 0.9320\n",
            "Epoch 17/20\n",
            " - 0s - loss: 0.4277 - acc: 0.9407 - val_loss: 0.4175 - val_acc: 0.9380\n",
            "Epoch 18/20\n",
            " - 0s - loss: 0.4052 - acc: 0.9447 - val_loss: 0.3950 - val_acc: 0.9440\n",
            "Epoch 19/20\n",
            " - 0s - loss: 0.3826 - acc: 0.9487 - val_loss: 0.3713 - val_acc: 0.9480\n",
            "Epoch 20/20\n",
            " - 0s - loss: 0.3604 - acc: 0.9513 - val_loss: 0.3483 - val_acc: 0.9560\n"
          ],
          "name": "stdout"
        },
        {
          "output_type": "execute_result",
          "data": {
            "text/plain": [
              "<keras.callbacks.History at 0xa667ee17b8>"
            ]
          },
          "metadata": {
            "tags": []
          },
          "execution_count": 18
        }
      ]
    },
    {
      "cell_type": "code",
      "metadata": {
        "id": "xDQIYr5nPfE-",
        "colab_type": "code",
        "colab": {}
      },
      "source": [
        ""
      ],
      "execution_count": 0,
      "outputs": []
    }
  ]
}