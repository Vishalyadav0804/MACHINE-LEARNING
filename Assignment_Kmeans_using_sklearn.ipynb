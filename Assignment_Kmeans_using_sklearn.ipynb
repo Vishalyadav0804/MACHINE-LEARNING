{
  "nbformat": 4,
  "nbformat_minor": 0,
  "metadata": {
    "kernelspec": {
      "display_name": "Python 3",
      "language": "python",
      "name": "python3"
    },
    "language_info": {
      "codemirror_mode": {
        "name": "ipython",
        "version": 3
      },
      "file_extension": ".py",
      "mimetype": "text/x-python",
      "name": "python",
      "nbconvert_exporter": "python",
      "pygments_lexer": "ipython3",
      "version": "3.7.3"
    },
    "colab": {
      "name": "Assignment-Kmeans using sklearn.ipynb",
      "provenance": [],
      "collapsed_sections": []
    }
  },
  "cells": [
    {
      "cell_type": "code",
      "metadata": {
        "id": "SY0JFJQZMrNE",
        "colab_type": "code",
        "colab": {}
      },
      "source": [
        "import numpy as np\n",
        "import matplotlib.pyplot as plt\n",
        "%matplotlib inline"
      ],
      "execution_count": 0,
      "outputs": []
    },
    {
      "cell_type": "code",
      "metadata": {
        "id": "CW5NZs-JMrNm",
        "colab_type": "code",
        "outputId": "ffacb9f6-bf5d-44d2-849d-ef4397a74d1b",
        "colab": {}
      },
      "source": [
        "m1,cov1=[15,5],[[1,2],[2,1]]\n",
        "m2,cov2=[27,8],[[2,-1],[-1,2]]\n",
        "m3,cov3=[19,9],[[0,1],[-1,0]]\n",
        "data1=np.random.multivariate_normal(m1,cov1,250)\n",
        "data2=np.random.multivariate_normal(m2,cov2,150)\n",
        "data3=np.random.multivariate_normal(m3,cov3,100)\n",
        "X=np.vstack((data1,np.vstack((data2,data3))))\n",
        "np.random.shuffle(X)\n",
        "X.shape\n"
      ],
      "execution_count": 0,
      "outputs": [
        {
          "output_type": "stream",
          "text": [
            "C:\\Users\\RAHUL\\AppData\\Local\\Programs\\Python\\Python37\\lib\\site-packages\\ipykernel_launcher.py:4: RuntimeWarning: covariance is not symmetric positive-semidefinite.\n",
            "  after removing the cwd from sys.path.\n",
            "C:\\Users\\RAHUL\\AppData\\Local\\Programs\\Python\\Python37\\lib\\site-packages\\ipykernel_launcher.py:6: RuntimeWarning: covariance is not symmetric positive-semidefinite.\n",
            "  \n"
          ],
          "name": "stderr"
        },
        {
          "output_type": "execute_result",
          "data": {
            "text/plain": [
              "(500, 2)"
            ]
          },
          "metadata": {
            "tags": []
          },
          "execution_count": 3
        }
      ]
    },
    {
      "cell_type": "code",
      "metadata": {
        "id": "-90j0QlkMrNy",
        "colab_type": "code",
        "outputId": "017d91f0-f661-41db-ab97-a23d9b4f4ca0",
        "colab": {}
      },
      "source": [
        "print(data1)"
      ],
      "execution_count": 0,
      "outputs": [
        {
          "output_type": "stream",
          "text": [
            "[[12.73675997  4.8219501 ]\n",
            " [14.64593233  3.15582381]\n",
            " [13.31894935  3.3845575 ]\n",
            " [15.22689238  6.44485233]\n",
            " [13.89968308  3.65846571]\n",
            " [14.61742671  5.70620466]\n",
            " [13.29014998  4.85539511]\n",
            " [17.17115874  6.75480933]\n",
            " [16.43509336  5.06036414]\n",
            " [14.36999831  4.7769438 ]\n",
            " [13.16311277  3.93599504]\n",
            " [14.84669897  5.50036994]\n",
            " [15.64755706  5.17141027]\n",
            " [15.50755376  4.79410429]\n",
            " [15.6768972   5.91454255]\n",
            " [15.57227565  6.24957241]\n",
            " [15.02355848  4.25277778]\n",
            " [15.9613987   5.78567987]\n",
            " [15.57689973  4.17819818]\n",
            " [14.60392725  4.93097125]\n",
            " [16.42714805  6.13574903]\n",
            " [13.09047306  2.66729397]\n",
            " [14.4464104   2.12987165]\n",
            " [14.61780839  6.48605552]\n",
            " [15.01987826  5.93057685]\n",
            " [15.74523682  6.18046729]\n",
            " [14.15783947  5.66085537]\n",
            " [14.61081227  6.33914932]\n",
            " [15.07966387  4.45975878]\n",
            " [14.11766716  1.0040929 ]\n",
            " [14.62262879  4.4925788 ]\n",
            " [18.01386473  5.96301344]\n",
            " [15.00873011  3.02140981]\n",
            " [16.23795991  4.45149796]\n",
            " [14.79862983  5.49733099]\n",
            " [13.33742257  4.11069407]\n",
            " [15.52466368  4.74393418]\n",
            " [15.19937686  6.04639749]\n",
            " [13.78922248  5.86775186]\n",
            " [16.32932203  3.27110762]\n",
            " [15.63258667  3.15449011]\n",
            " [15.70175032  5.27584132]\n",
            " [12.29323037  4.82237781]\n",
            " [15.49887125  6.66241038]\n",
            " [16.21577005  3.98514331]\n",
            " [15.86104153  5.55610504]\n",
            " [14.73695229  4.13505889]\n",
            " [13.95814147  5.23613987]\n",
            " [17.11753591  3.85388525]\n",
            " [14.59217603  5.40479354]\n",
            " [14.35981791  1.66878112]\n",
            " [14.47922351  4.60511684]\n",
            " [14.05214495  4.39030584]\n",
            " [11.64425829  4.17604587]\n",
            " [14.21505243  5.66638645]\n",
            " [15.43707046  5.9314092 ]\n",
            " [11.33544598  4.0030036 ]\n",
            " [13.10777292  5.24935421]\n",
            " [14.49094165  4.63525255]\n",
            " [12.29619822  5.33682515]\n",
            " [17.42905644  2.40193345]\n",
            " [14.85857523  3.37349728]\n",
            " [13.6898157   5.45787748]\n",
            " [12.85072751  5.05982572]\n",
            " [14.33442636  4.96123187]\n",
            " [12.77920513  3.64863214]\n",
            " [16.20803979  5.42934482]\n",
            " [13.9024679   5.07302476]\n",
            " [14.68077696  5.42398967]\n",
            " [14.36296882  2.86484485]\n",
            " [16.30349936  4.37916363]\n",
            " [11.32187504  2.2715987 ]\n",
            " [14.75606349  3.20632086]\n",
            " [16.90822421  7.88931476]\n",
            " [14.47177257  3.91366326]\n",
            " [17.10958522  6.50936667]\n",
            " [14.66818306  7.92320076]\n",
            " [15.57692937  3.90490038]\n",
            " [16.6699761   4.97700882]\n",
            " [12.83451931  2.54982112]\n",
            " [16.0889942   4.65862559]\n",
            " [14.89890042  6.80408302]\n",
            " [15.75902947  6.20478965]\n",
            " [15.98747075  5.98949499]\n",
            " [15.66214141  4.78319141]\n",
            " [17.33182804  7.94252361]\n",
            " [16.22197334  7.00850968]\n",
            " [15.88827692  4.85694865]\n",
            " [16.13007343  4.32614316]\n",
            " [15.5018974   4.59857484]\n",
            " [13.18333539  4.41567047]\n",
            " [13.68967345  5.12516576]\n",
            " [17.53186676  7.26894634]\n",
            " [13.57047619  2.78074119]\n",
            " [15.94025463  4.06493187]\n",
            " [15.20175325  5.22918274]\n",
            " [13.21074474  5.52359392]\n",
            " [15.68561683  4.77571335]\n",
            " [14.03636329  4.1425764 ]\n",
            " [14.59121618  3.7523602 ]\n",
            " [14.77900725  5.55740978]\n",
            " [17.39728529  7.58992535]\n",
            " [12.81242381  5.51601907]\n",
            " [15.41937472  3.79829257]\n",
            " [15.78247059  6.93049351]\n",
            " [14.33164824  2.97412041]\n",
            " [15.82781618  3.42021125]\n",
            " [16.59697555  5.57902298]\n",
            " [15.71435325  5.87403907]\n",
            " [12.59829747  4.66427289]\n",
            " [12.66710251  4.10294911]\n",
            " [12.16433147  4.33009936]\n",
            " [13.7022231   3.91475838]\n",
            " [17.0491025   4.21042951]\n",
            " [13.80352709  7.54162943]\n",
            " [14.51641839  4.46928147]\n",
            " [15.50793267  5.31157736]\n",
            " [13.86511874  4.49866897]\n",
            " [12.88666164  3.07670794]\n",
            " [13.57566657  3.1378257 ]\n",
            " [11.24167011  3.41676346]\n",
            " [15.39357234  6.76206533]\n",
            " [14.53486184  6.1248236 ]\n",
            " [11.97945166  2.36174848]\n",
            " [14.69648737  2.94304926]\n",
            " [14.66285905  5.47381451]\n",
            " [13.39561312  5.7234763 ]\n",
            " [13.02287066  3.21425551]\n",
            " [17.26644041  5.35805426]\n",
            " [17.47172918  5.48142484]\n",
            " [12.32144267  4.48622617]\n",
            " [18.41897375  9.82299464]\n",
            " [14.54875661  5.8206083 ]\n",
            " [15.39178689  6.36272014]\n",
            " [14.86804894  5.24518013]\n",
            " [13.74395575  6.12056667]\n",
            " [14.39337816  3.97910576]\n",
            " [14.86985246  4.27631624]\n",
            " [16.16837872  6.7157804 ]\n",
            " [15.46473904  4.35914562]\n",
            " [18.78214088  7.72759884]\n",
            " [12.18991512  1.93827306]\n",
            " [19.48909966  6.72622237]\n",
            " [15.80075161  3.66736476]\n",
            " [13.75453926  6.26892029]\n",
            " [16.35359916  5.12255012]\n",
            " [13.59359134  3.34987798]\n",
            " [17.23279986  6.97111652]\n",
            " [13.88642023  2.94680603]\n",
            " [12.64765771  3.9768768 ]\n",
            " [15.95538319  3.27585128]\n",
            " [14.64536379  3.78479593]\n",
            " [14.88721673  5.43300163]\n",
            " [11.30873832  4.23210103]\n",
            " [16.55800486  5.56609465]\n",
            " [14.60037179  5.83149071]\n",
            " [13.1546171   4.67979679]\n",
            " [15.83346789  5.56195426]\n",
            " [14.88496348  4.11000836]\n",
            " [17.24832688  6.546029  ]\n",
            " [13.04573389  4.67585823]\n",
            " [15.68638471  7.8103033 ]\n",
            " [15.94920538  4.30772082]\n",
            " [13.29901133  5.59539487]\n",
            " [13.79409256  1.79470041]\n",
            " [15.39605139  5.31696272]\n",
            " [15.69075589  7.05755551]\n",
            " [16.74270801  4.55232988]\n",
            " [14.8147214   4.91000226]\n",
            " [13.96170725  4.71903644]\n",
            " [15.76941018  5.21440663]\n",
            " [15.75446183  6.94867906]\n",
            " [13.02366982  6.25163608]\n",
            " [17.71615852  4.86561375]\n",
            " [14.55011716  4.18782354]\n",
            " [11.99057932  4.66909399]\n",
            " [14.77760167  1.95339086]\n",
            " [14.27432715  6.15225671]\n",
            " [16.80467339  7.87251938]\n",
            " [16.40348827  5.47881469]\n",
            " [18.05757267  5.46569907]\n",
            " [16.82008492  6.64468968]\n",
            " [13.10489299  2.50270634]\n",
            " [13.73780016  4.1275676 ]\n",
            " [14.75377819  3.98920584]\n",
            " [14.23721325  6.10639238]\n",
            " [13.70982328  6.62834835]\n",
            " [12.76622001  3.89050955]\n",
            " [14.40478865  3.87915738]\n",
            " [14.02565892  3.97102341]\n",
            " [13.68889591  4.68076771]\n",
            " [12.70804481  2.6024055 ]\n",
            " [14.60553103  8.03060861]\n",
            " [13.56200879  4.73495277]\n",
            " [15.61205371  4.50844617]\n",
            " [14.42180271  4.83093876]\n",
            " [14.21913838  3.36288719]\n",
            " [19.6243494   9.18452712]\n",
            " [13.49586835  2.97259766]\n",
            " [13.03211157  3.19452137]\n",
            " [13.53279752  2.5646582 ]\n",
            " [13.7098798   4.37100231]\n",
            " [15.77165453  3.62953922]\n",
            " [13.31886035  5.11189089]\n",
            " [15.86212478  6.00678225]\n",
            " [13.40833086  2.72177653]\n",
            " [14.11406259  2.29934544]\n",
            " [14.33581931  5.91203479]\n",
            " [15.27540585  6.64807105]\n",
            " [13.40489563  4.67980275]\n",
            " [15.68928569  2.95639814]\n",
            " [15.94249193  4.75340715]\n",
            " [13.60913172  5.6133057 ]\n",
            " [15.87647876  4.66353875]\n",
            " [15.30079873  5.01791725]\n",
            " [15.70770593  4.60992622]\n",
            " [16.0915628   4.05068321]\n",
            " [11.5564187   3.10229439]\n",
            " [15.33900873  2.76993878]\n",
            " [16.8914884   6.30708031]\n",
            " [13.60952047  4.75477297]\n",
            " [14.75558162  6.52089032]\n",
            " [13.69052134  5.48055633]\n",
            " [15.33624801  7.01878744]\n",
            " [15.49041543  5.70897247]\n",
            " [15.47646342  4.08081236]\n",
            " [15.71311767  6.8444018 ]\n",
            " [14.82213947  2.80526095]\n",
            " [14.23066686  6.13122932]\n",
            " [13.99626899  4.19670733]\n",
            " [13.70770075  5.18108355]\n",
            " [13.77295925  1.96879525]\n",
            " [13.42223842  4.61127871]\n",
            " [13.89995377  4.55603628]\n",
            " [14.0531375   4.60714043]\n",
            " [14.54833763  6.07881781]\n",
            " [13.62673489  4.21569286]\n",
            " [15.66746579  5.96506295]\n",
            " [15.89706421  6.60208143]\n",
            " [15.60412236  5.60329518]\n",
            " [12.92933528  5.6228737 ]\n",
            " [14.09833705  5.40534014]\n",
            " [14.65067999  5.14838587]\n",
            " [15.39237868  5.49228089]\n",
            " [14.07661825  3.27943122]\n",
            " [13.49990208  5.27232041]\n",
            " [16.16539067  6.96815786]\n",
            " [12.83722083  5.13439074]\n",
            " [18.63172687  7.89154293]\n",
            " [13.11823282  3.1549157 ]]\n"
          ],
          "name": "stdout"
        }
      ]
    },
    {
      "cell_type": "code",
      "metadata": {
        "id": "4D3A_JVBMrOB",
        "colab_type": "code",
        "outputId": "cf8fd519-3d91-4fec-9af2-4a7693199619",
        "colab": {}
      },
      "source": [
        "plt.scatter(X[:,0],X[:,-1])\n",
        "plt.show()"
      ],
      "execution_count": 0,
      "outputs": [
        {
          "output_type": "display_data",
          "data": {
            "image/png": "[encoded data removed]",
            "text/plain": [
              "<Figure size 432x288 with 1 Axes>"
            ]
          },
          "metadata": {
            "tags": [],
            "needs_background": "light"
          }
        }
      ]
    },
    {
      "cell_type": "code",
      "metadata": {
        "id": "TuwKH57VMrOM",
        "colab_type": "code",
        "colab": {}
      },
      "source": [
        "from sklearn.cluster import KMeans"
      ],
      "execution_count": 0,
      "outputs": []
    },
    {
      "cell_type": "code",
      "metadata": {
        "id": "CS-1mKY_MrOX",
        "colab_type": "code",
        "colab": {}
      },
      "source": [
        "kmeans = KMeans(n_clusters=3, random_state=0).fit(X)"
      ],
      "execution_count": 0,
      "outputs": []
    },
    {
      "cell_type": "code",
      "metadata": {
        "id": "Tfr5VX3QMrOh",
        "colab_type": "code",
        "outputId": "1425b051-07b7-4cb0-f0a0-146e31680999",
        "colab": {}
      },
      "source": [
        "kmeans.predict(X)"
      ],
      "execution_count": 0,
      "outputs": [
        {
          "output_type": "execute_result",
          "data": {
            "text/plain": [
              "array([1, 0, 1, 2, 0, 1, 0, 2, 1, 1, 2, 0, 0, 1, 2, 1, 2, 0, 2, 2, 0, 0,\n",
              "       2, 1, 2, 2, 2, 0, 2, 2, 0, 2, 2, 1, 2, 2, 1, 2, 2, 1, 0, 0, 2, 2,\n",
              "       0, 0, 0, 1, 2, 0, 2, 0, 1, 0, 2, 2, 0, 2, 0, 2, 1, 2, 0, 2, 1, 1,\n",
              "       1, 2, 0, 2, 2, 2, 0, 2, 1, 1, 1, 2, 2, 2, 2, 2, 2, 0, 2, 2, 2, 0,\n",
              "       1, 1, 0, 2, 1, 1, 2, 0, 2, 2, 2, 0, 0, 2, 1, 2, 1, 1, 2, 2, 1, 2,\n",
              "       2, 0, 1, 2, 2, 1, 0, 2, 0, 1, 2, 2, 2, 0, 0, 2, 0, 1, 2, 1, 0, 0,\n",
              "       1, 2, 1, 1, 2, 2, 1, 2, 0, 2, 2, 2, 2, 2, 1, 1, 2, 1, 2, 2, 0, 0,\n",
              "       2, 1, 0, 1, 1, 2, 2, 0, 1, 2, 2, 0, 0, 2, 2, 1, 1, 2, 1, 2, 1, 2,\n",
              "       2, 1, 0, 2, 2, 1, 2, 2, 0, 0, 1, 2, 1, 0, 1, 2, 0, 1, 1, 1, 1, 0,\n",
              "       0, 2, 1, 0, 2, 2, 0, 2, 2, 1, 1, 1, 0, 1, 2, 1, 0, 0, 1, 1, 1, 1,\n",
              "       1, 1, 2, 1, 0, 1, 2, 2, 0, 1, 1, 2, 1, 2, 2, 2, 2, 2, 2, 2, 0, 2,\n",
              "       1, 2, 1, 2, 2, 2, 1, 1, 0, 1, 0, 0, 0, 1, 0, 2, 1, 2, 2, 1, 0, 1,\n",
              "       0, 1, 1, 1, 0, 1, 0, 0, 0, 2, 2, 2, 0, 0, 2, 1, 0, 1, 2, 1, 2, 2,\n",
              "       1, 2, 0, 2, 0, 1, 2, 0, 2, 0, 2, 2, 1, 0, 0, 2, 1, 2, 2, 1, 2, 0,\n",
              "       1, 2, 0, 1, 2, 0, 0, 1, 0, 1, 2, 2, 2, 2, 0, 2, 1, 1, 0, 1, 2, 2,\n",
              "       2, 0, 2, 2, 1, 2, 2, 2, 2, 2, 2, 0, 2, 1, 2, 2, 2, 1, 0, 2, 2, 1,\n",
              "       2, 2, 2, 2, 2, 0, 2, 2, 0, 2, 2, 0, 1, 0, 2, 0, 1, 1, 2, 0, 2, 2,\n",
              "       2, 2, 2, 2, 0, 0, 1, 2, 2, 1, 2, 2, 1, 2, 1, 0, 0, 2, 2, 2, 0, 2,\n",
              "       1, 1, 1, 0, 2, 2, 2, 1, 2, 2, 1, 2, 0, 2, 2, 1, 1, 2, 2, 2, 0, 1,\n",
              "       2, 2, 1, 1, 2, 2, 2, 2, 0, 1, 0, 1, 2, 1, 2, 1, 2, 0, 2, 2, 2, 1,\n",
              "       1, 1, 1, 2, 1, 0, 0, 2, 2, 1, 0, 1, 0, 1, 2, 0, 2, 2, 1, 2, 2, 2,\n",
              "       0, 1, 2, 1, 1, 2, 1, 0, 0, 0, 0, 1, 2, 2, 1, 2, 1, 1, 2, 2, 2, 0,\n",
              "       2, 1, 2, 1, 2, 2, 2, 2, 1, 2, 0, 1, 2, 1, 2, 1])"
            ]
          },
          "metadata": {
            "tags": []
          },
          "execution_count": 10
        }
      ]
    },
    {
      "cell_type": "code",
      "metadata": {
        "id": "F2wnjft6MrOu",
        "colab_type": "code",
        "colab": {}
      },
      "source": [
        "centroids=kmeans.cluster_centers_"
      ],
      "execution_count": 0,
      "outputs": []
    },
    {
      "cell_type": "code",
      "metadata": {
        "id": "gPp0QZxDMrPH",
        "colab_type": "code",
        "outputId": "5097cdf5-2b21-4155-84e5-abb3f83a55e8",
        "colab": {}
      },
      "source": [
        "plt.scatter(X[:,0],X[:,-1])\n",
        "plt.plot(centroids[:,0],centroids[:,-1],'r*',markersize=20)\n",
        "plt.show()"
      ],
      "execution_count": 0,
      "outputs": [
        {
          "output_type": "display_data",
          "data": {
            "image/png": "[encoded data removed]",
            "text/plain": [
              "<Figure size 432x288 with 1 Axes>"
            ]
          },
          "metadata": {
            "tags": [],
            "needs_background": "light"
          }
        }
      ]
    },
    {
      "cell_type": "code",
      "metadata": {
        "id": "-q8-J7GcMrPP",
        "colab_type": "code",
        "colab": {}
      },
      "source": [
        ""
      ],
      "execution_count": 0,
      "outputs": []
    }
  ]
}