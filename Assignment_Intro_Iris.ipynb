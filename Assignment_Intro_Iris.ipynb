{
  "nbformat": 4,
  "nbformat_minor": 0,
  "metadata": {
    "kernelspec": {
      "display_name": "Python 3",
      "language": "python",
      "name": "python3"
    },
    "language_info": {
      "codemirror_mode": {
        "name": "ipython",
        "version": 3
      },
      "file_extension": ".py",
      "mimetype": "text/x-python",
      "name": "python",
      "nbconvert_exporter": "python",
      "pygments_lexer": "ipython3",
      "version": "3.7.3"
    },
    "colab": {
      "name": "Assignment- Intro Iris.ipynb",
      "provenance": [],
      "collapsed_sections": []
    }
  },
  "cells": [
    {
      "cell_type": "markdown",
      "metadata": {
        "id": "eonCVFY5Mf1k",
        "colab_type": "text"
      },
      "source": [
        "# Iris-Assignment"
      ]
    },
    {
      "cell_type": "code",
      "metadata": {
        "id": "e6682sM3Mf1w",
        "colab_type": "code",
        "colab": {}
      },
      "source": [
        "import numpy as np\n",
        "import matplotlib.pyplot as plt\n",
        "%matplotlib inline"
      ],
      "execution_count": 0,
      "outputs": []
    },
    {
      "cell_type": "code",
      "metadata": {
        "id": "wTcsCmQ-Mf2J",
        "colab_type": "code",
        "colab": {}
      },
      "source": [
        "from sklearn.datasets import load_iris\n",
        "dataset=load_iris()"
      ],
      "execution_count": 0,
      "outputs": []
    },
    {
      "cell_type": "code",
      "metadata": {
        "id": "D93-gsV2Mf2l",
        "colab_type": "code",
        "outputId": "7ef88602-7775-42c2-9726-fc543c56e7df",
        "colab": {}
      },
      "source": [
        "print(dataset.keys())"
      ],
      "execution_count": 0,
      "outputs": [
        {
          "output_type": "stream",
          "text": [
            "dict_keys(['data', 'target', 'target_names', 'DESCR', 'feature_names', 'filename'])\n"
          ],
          "name": "stdout"
        }
      ]
    },
    {
      "cell_type": "code",
      "metadata": {
        "id": "jxEj8IHHMf3H",
        "colab_type": "code",
        "outputId": "992480e8-a5f6-4449-9951-e2b71c6bb123",
        "colab": {}
      },
      "source": [
        "print(dataset['target_names'])"
      ],
      "execution_count": 0,
      "outputs": [
        {
          "output_type": "stream",
          "text": [
            "['setosa' 'versicolor' 'virginica']\n"
          ],
          "name": "stdout"
        }
      ]
    },
    {
      "cell_type": "code",
      "metadata": {
        "id": "rNJcxpH4Mf3g",
        "colab_type": "code",
        "outputId": "55671be1-fd69-4173-ca17-a53833f8ec9c",
        "colab": {}
      },
      "source": [
        "print(dataset['data'].shape)"
      ],
      "execution_count": 0,
      "outputs": [
        {
          "output_type": "stream",
          "text": [
            "(150, 4)\n"
          ],
          "name": "stdout"
        }
      ]
    },
    {
      "cell_type": "code",
      "metadata": {
        "id": "YYRG_9QUMf3x",
        "colab_type": "code",
        "outputId": "37a72f35-e371-4732-ae0b-f980bbce528e",
        "colab": {}
      },
      "source": [
        "print(dataset['target'].shape)"
      ],
      "execution_count": 0,
      "outputs": [
        {
          "output_type": "stream",
          "text": [
            "(150,)\n"
          ],
          "name": "stdout"
        }
      ]
    },
    {
      "cell_type": "code",
      "metadata": {
        "id": "5hoNCUUgMf38",
        "colab_type": "code",
        "colab": {}
      },
      "source": [
        "from sklearn.model_selection import train_test_split\n",
        "X=dataset.data\n",
        "y=dataset.target\n",
        "X_train,X_test,y_train,y_test=train_test_split(X,y)"
      ],
      "execution_count": 0,
      "outputs": []
    },
    {
      "cell_type": "code",
      "metadata": {
        "id": "isUlc7SNMf4N",
        "colab_type": "code",
        "outputId": "c6d2916a-4c5b-432a-a62d-9cbd3c2fda06",
        "colab": {}
      },
      "source": [
        "print(X_train.shape,y_train.shape)\n",
        "print(X_test.shape,y_test.shape)"
      ],
      "execution_count": 0,
      "outputs": [
        {
          "output_type": "stream",
          "text": [
            "(112, 4) (112,)\n",
            "(38, 4) (38,)\n"
          ],
          "name": "stdout"
        }
      ]
    },
    {
      "cell_type": "code",
      "metadata": {
        "id": "GyRdO3dzMf4i",
        "colab_type": "code",
        "colab": {}
      },
      "source": [
        "from sklearn.neighbors import KNeighborsClassifier\n",
        "knn = KNeighborsClassifier(n_neighbors=9)"
      ],
      "execution_count": 0,
      "outputs": []
    },
    {
      "cell_type": "code",
      "metadata": {
        "id": "9XuZvOM9Mf4q",
        "colab_type": "code",
        "outputId": "6e483813-b7c7-4552-80c5-a481e20346ed",
        "colab": {}
      },
      "source": [
        "knn.fit(X_train, y_train)"
      ],
      "execution_count": 0,
      "outputs": [
        {
          "output_type": "execute_result",
          "data": {
            "text/plain": [
              "KNeighborsClassifier(algorithm='auto', leaf_size=30, metric='minkowski',\n",
              "                     metric_params=None, n_jobs=None, n_neighbors=9, p=2,\n",
              "                     weights='uniform')"
            ]
          },
          "metadata": {
            "tags": []
          },
          "execution_count": 11
        }
      ]
    },
    {
      "cell_type": "code",
      "metadata": {
        "id": "rOyA8tdHMf44",
        "colab_type": "code",
        "outputId": "790b0a58-6562-4f42-c3a8-4f826f31f64b",
        "colab": {}
      },
      "source": [
        "knn.score(X_test,y_test)*100"
      ],
      "execution_count": 0,
      "outputs": [
        {
          "output_type": "execute_result",
          "data": {
            "text/plain": [
              "97.36842105263158"
            ]
          },
          "metadata": {
            "tags": []
          },
          "execution_count": 12
        }
      ]
    },
    {
      "cell_type": "code",
      "metadata": {
        "id": "xXPWthbaMf5G",
        "colab_type": "code",
        "outputId": "05ed18b7-2116-429b-9d05-5b586c5bf28e",
        "colab": {}
      },
      "source": [
        "prediction=knn.predict(X_test)\n",
        "print(dataset.target_names[prediction])"
      ],
      "execution_count": 0,
      "outputs": [
        {
          "output_type": "stream",
          "text": [
            "['virginica' 'versicolor' 'virginica' 'setosa' 'setosa' 'virginica'\n",
            " 'virginica' 'virginica' 'versicolor' 'virginica' 'versicolor'\n",
            " 'versicolor' 'versicolor' 'virginica' 'versicolor' 'virginica'\n",
            " 'virginica' 'versicolor' 'virginica' 'setosa' 'versicolor' 'versicolor'\n",
            " 'setosa' 'virginica' 'versicolor' 'versicolor' 'virginica' 'versicolor'\n",
            " 'versicolor' 'virginica' 'virginica' 'versicolor' 'virginica' 'virginica'\n",
            " 'virginica' 'versicolor' 'versicolor' 'setosa']\n"
          ],
          "name": "stdout"
        }
      ]
    },
    {
      "cell_type": "code",
      "metadata": {
        "id": "pBQShVyoMf5S",
        "colab_type": "code",
        "colab": {}
      },
      "source": [
        ""
      ],
      "execution_count": 0,
      "outputs": []
    }
  ]
}