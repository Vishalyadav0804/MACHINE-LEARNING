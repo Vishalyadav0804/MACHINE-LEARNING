{
 "cells": [
  {
   "cell_type": "code",
   "execution_count": 1,
   "metadata": {},
   "outputs": [],
   "source": [
    "import numpy as np\n",
    "import matplotlib.pyplot as plt\n",
    "%matplotlib inline"
   ]
  },
  {
   "cell_type": "code",
   "execution_count": 2,
   "metadata": {},
   "outputs": [
    {
     "name": "stderr",
     "output_type": "stream",
     "text": [
      "Using TensorFlow backend.\n"
     ]
    }
   ],
   "source": [
    "from keras.datasets import mnist\n",
    "from keras.layers import Dense,Conv2D,Flatten,Activation,MaxPool2D,Dropout"
   ]
  },
  {
   "cell_type": "code",
   "execution_count": 3,
   "metadata": {},
   "outputs": [],
   "source": [
    "from keras.models import Sequential\n",
    "from keras.utils import np_utils"
   ]
  },
  {
   "cell_type": "code",
   "execution_count": 5,
   "metadata": {},
   "outputs": [
    {
     "name": "stdout",
     "output_type": "stream",
     "text": [
      "(60000, 28, 28) (60000,)\n",
      "(10000, 28, 28) (10000,)\n"
     ]
    }
   ],
   "source": [
    "(x_train,y_train),(x_test,y_test)=mnist.load_data()\n",
    "print(x_train.shape,y_train.shape)\n",
    "print(x_test.shape,y_test.shape)"
   ]
  },
  {
   "cell_type": "code",
   "execution_count": 16,
   "metadata": {},
   "outputs": [],
   "source": [
    "x1_train=[]\n",
    "x1_test=[]\n",
    "y1_train=[]\n",
    "y1_test=[]\n",
    "\n",
    "x2_train=[]\n",
    "x2_test=[]\n",
    "y2_train=[]\n",
    "y2_test=[]\n",
    "\n",
    "num_examples=20000\n",
    "for i in range(num_examples):\n",
    "    if y_train[i]<5:\n",
    "        x1_train.append(x_train[i]/255)\n",
    "        y1_train.append(y_train[i])\n",
    "    else:\n",
    "        x2_train.append(x_train[i]/255)\n",
    "        y2_train.append(y_train[i])\n",
    "   \n",
    "num_test_examples=y_test.shape[0]\n",
    "for i in range(num_test_examples):\n",
    "    if y_test[i]<5:\n",
    "        x1_test.append(x_test[i]/255)\n",
    "        y1_test.append(y_test[i])\n",
    "    else:\n",
    "        x2_test.append(x_test[i]/255)\n",
    "        y2_test.append(y_test[i])"
   ]
  },
  {
   "cell_type": "code",
   "execution_count": 17,
   "metadata": {},
   "outputs": [],
   "source": [
    "X1_train=np.asarray(x1_train).reshape(-1,28,28,1)\n",
    "X1_test=np.asarray(x1_test).reshape(-1,28,28,1)\n",
    "\n",
    "X2_train=np.asarray(x2_train).reshape(-1,28,28,1)\n",
    "X2_test=np.asarray(x2_test).reshape(-1,28,28,1)\n",
    "\n",
    "Y1_train=np_utils.to_categorical(np.asarray(y1_train))  #num_classes=10\n",
    "Y1_test=np_utils.to_categorical(np.asarray(y1_test))\n",
    "\n",
    "Y2_train=np_utils.to_categorical(np.asarray(y2_train))\n",
    "Y2_test=np_utils.to_categorical(np.asarray(y2_test))"
   ]
  },
  {
   "cell_type": "code",
   "execution_count": 18,
   "metadata": {},
   "outputs": [
    {
     "name": "stdout",
     "output_type": "stream",
     "text": [
      "(10225, 28, 28, 1) (5139, 28, 28, 1)\n",
      "(10225, 5) (5139, 5)\n",
      "(9775, 28, 28, 1) (4861, 28, 28, 1)\n",
      "(9775, 10) (4861, 10)\n"
     ]
    }
   ],
   "source": [
    "print(X1_train.shape,X1_test.shape)\n",
    "print(Y1_train.shape,Y1_test.shape)\n",
    "\n",
    "print(X2_train.shape,X2_test.shape)\n",
    "print(Y2_train.shape,Y2_test.shape)"
   ]
  },
  {
   "cell_type": "code",
   "execution_count": 20,
   "metadata": {},
   "outputs": [
    {
     "name": "stdout",
     "output_type": "stream",
     "text": [
      "_________________________________________________________________\n",
      "Layer (type)                 Output Shape              Param #   \n",
      "=================================================================\n",
      "conv2d_4 (Conv2D)            (None, 24, 24, 32)        832       \n",
      "_________________________________________________________________\n",
      "conv2d_5 (Conv2D)            (None, 20, 20, 16)        12816     \n",
      "_________________________________________________________________\n",
      "max_pooling2d_2 (MaxPooling2 (None, 10, 10, 16)        0         \n",
      "_________________________________________________________________\n",
      "conv2d_6 (Conv2D)            (None, 8, 8, 8)           1160      \n",
      "_________________________________________________________________\n",
      "flatten_2 (Flatten)          (None, 512)               0         \n",
      "_________________________________________________________________\n",
      "dropout_2 (Dropout)          (None, 512)               0         \n",
      "_________________________________________________________________\n",
      "dense_3 (Dense)              (None, 128)               65664     \n",
      "_________________________________________________________________\n",
      "activation_3 (Activation)    (None, 128)               0         \n",
      "_________________________________________________________________\n",
      "dense_4 (Dense)              (None, 5)                 645       \n",
      "_________________________________________________________________\n",
      "activation_4 (Activation)    (None, 5)                 0         \n",
      "=================================================================\n",
      "Total params: 81,117\n",
      "Trainable params: 81,117\n",
      "Non-trainable params: 0\n",
      "_________________________________________________________________\n"
     ]
    },
    {
     "name": "stderr",
     "output_type": "stream",
     "text": [
      "C:\\Users\\RAHUL\\AppData\\Local\\Programs\\Python\\Python37\\lib\\site-packages\\ipykernel_launcher.py:2: UserWarning: Update your `Conv2D` call to the Keras 2 API: `Conv2D(32, (5, 5), input_shape=(28, 28, 1..., activation=\"relu\")`\n",
      "  \n",
      "C:\\Users\\RAHUL\\AppData\\Local\\Programs\\Python\\Python37\\lib\\site-packages\\ipykernel_launcher.py:3: UserWarning: Update your `Conv2D` call to the Keras 2 API: `Conv2D(16, (5, 5), activation=\"relu\")`\n",
      "  This is separate from the ipykernel package so we can avoid doing imports until\n"
     ]
    }
   ],
   "source": [
    "model=Sequential()\n",
    "model.add(Conv2D(32,5,5, input_shape=(28,28,1),activation='relu'))\n",
    "#(24,24,32)\n",
    "model.add(Conv2D(16,5,5, activation='relu'))\n",
    "#(20,20,16)\n",
    "model.add(MaxPool2D(pool_size=(2,2)))\n",
    "#(10,10,6)\n",
    "model.add(Conv2D(8,3,activation='relu'))\n",
    "#(8,8,8)\n",
    "\n",
    "model.add(Flatten())\n",
    "#(512)\n",
    "model.add(Dropout(0.4))\n",
    "\n",
    "model.add(Dense(128))\n",
    "model.add(Activation('relu'))\n",
    "\n",
    "model.add(Dense(5))\n",
    "model.add(Activation('softmax'))\n",
    "\n",
    "model.summary()"
   ]
  },
  {
   "cell_type": "code",
   "execution_count": 25,
   "metadata": {},
   "outputs": [],
   "source": [
    "model.compile(loss='categorical_crossentropy',optimizer='adam',\n",
    "             metrics=['accuracy'])"
   ]
  },
  {
   "cell_type": "code",
   "execution_count": 26,
   "metadata": {},
   "outputs": [
    {
     "name": "stdout",
     "output_type": "stream",
     "text": [
      "0:00:03.001850\n"
     ]
    }
   ],
   "source": [
    "import time\n",
    "import datetime\n",
    "\n",
    "start=datetime.datetime.now()\n",
    "time.sleep(3)\n",
    "end=datetime.datetime.now()\n",
    "print(end-start)"
   ]
  },
  {
   "cell_type": "code",
   "execution_count": 27,
   "metadata": {},
   "outputs": [
    {
     "name": "stderr",
     "output_type": "stream",
     "text": [
      "C:\\Users\\RAHUL\\AppData\\Local\\Programs\\Python\\Python37\\lib\\site-packages\\ipykernel_launcher.py:7: UserWarning: The `nb_epoch` argument in `fit` has been renamed `epochs`.\n",
      "  import sys\n"
     ]
    },
    {
     "name": "stdout",
     "output_type": "stream",
     "text": [
      "Train on 10225 samples, validate on 5139 samples\n",
      "Epoch 1/10\n",
      " - 30s - loss: 0.2781 - acc: 0.9120 - val_loss: 0.0431 - val_acc: 0.9877\n",
      "Epoch 2/10\n",
      " - 27s - loss: 0.0690 - acc: 0.9785 - val_loss: 0.0294 - val_acc: 0.9918\n",
      "Epoch 3/10\n",
      " - 28s - loss: 0.0509 - acc: 0.9843 - val_loss: 0.0204 - val_acc: 0.9920\n",
      "Epoch 4/10\n",
      " - 27s - loss: 0.0416 - acc: 0.9870 - val_loss: 0.0167 - val_acc: 0.9934\n",
      "Epoch 5/10\n",
      " - 28s - loss: 0.0282 - acc: 0.9903 - val_loss: 0.0135 - val_acc: 0.9961\n",
      "Epoch 6/10\n",
      " - 27s - loss: 0.0275 - acc: 0.9917 - val_loss: 0.0138 - val_acc: 0.9955\n",
      "Epoch 7/10\n",
      " - 28s - loss: 0.0234 - acc: 0.9916 - val_loss: 0.0124 - val_acc: 0.9963\n",
      "Epoch 8/10\n",
      " - 27s - loss: 0.0213 - acc: 0.9930 - val_loss: 0.0147 - val_acc: 0.9949\n",
      "Epoch 9/10\n",
      " - 27s - loss: 0.0184 - acc: 0.9930 - val_loss: 0.0107 - val_acc: 0.9963\n",
      "Epoch 10/10\n",
      " - 28s - loss: 0.0163 - acc: 0.9943 - val_loss: 0.0107 - val_acc: 0.9959\n",
      "0:04:39.418049\n"
     ]
    }
   ],
   "source": [
    "start=datetime.datetime.now()\n",
    "model.fit(X1_train,Y1_train,\n",
    "          nb_epoch=10,\n",
    "          shuffle=True,\n",
    "          batch_size=100,\n",
    "          verbose=2,\n",
    "          validation_data=(X1_test,Y1_test))\n",
    "end=datetime.datetime.now()\n",
    "print(end-start)"
   ]
  },
  {
   "cell_type": "code",
   "execution_count": 28,
   "metadata": {},
   "outputs": [
    {
     "name": "stdout",
     "output_type": "stream",
     "text": [
      "False\n",
      "False\n",
      "False\n",
      "False\n",
      "False\n",
      "False\n",
      "True\n",
      "True\n",
      "True\n",
      "True\n"
     ]
    }
   ],
   "source": [
    "for layer in model.layers[:6]:\n",
    "    layer.trainable=False\n",
    "\n",
    "for layer in model.layers:\n",
    "    print(layer.trainable)"
   ]
  },
  {
   "cell_type": "code",
   "execution_count": 30,
   "metadata": {},
   "outputs": [
    {
     "name": "stdout",
     "output_type": "stream",
     "text": [
      "_________________________________________________________________\n",
      "Layer (type)                 Output Shape              Param #   \n",
      "=================================================================\n",
      "conv2d_4 (Conv2D)            (None, 24, 24, 32)        832       \n",
      "_________________________________________________________________\n",
      "conv2d_5 (Conv2D)            (None, 20, 20, 16)        12816     \n",
      "_________________________________________________________________\n",
      "max_pooling2d_2 (MaxPooling2 (None, 10, 10, 16)        0         \n",
      "_________________________________________________________________\n",
      "conv2d_6 (Conv2D)            (None, 8, 8, 8)           1160      \n",
      "_________________________________________________________________\n",
      "flatten_2 (Flatten)          (None, 512)               0         \n",
      "_________________________________________________________________\n",
      "dropout_2 (Dropout)          (None, 512)               0         \n",
      "_________________________________________________________________\n",
      "dense_7 (Dense)              (None, 128)               65664     \n",
      "_________________________________________________________________\n",
      "activation_7 (Activation)    (None, 128)               0         \n",
      "_________________________________________________________________\n",
      "dense_8 (Dense)              (None, 10)                1290      \n",
      "_________________________________________________________________\n",
      "activation_8 (Activation)    (None, 10)                0         \n",
      "=================================================================\n",
      "Total params: 81,762\n",
      "Trainable params: 66,954\n",
      "Non-trainable params: 14,808\n",
      "_________________________________________________________________\n"
     ]
    }
   ],
   "source": [
    "transfer_model=Sequential(model.layers[:6])\n",
    "\n",
    "transfer_model.add(Dense(128))\n",
    "transfer_model.add(Activation('relu'))\n",
    "transfer_model.add(Dense(10))\n",
    "transfer_model.add(Activation('softmax'))\n",
    "\n",
    "transfer_model.summary()"
   ]
  },
  {
   "cell_type": "code",
   "execution_count": 34,
   "metadata": {},
   "outputs": [],
   "source": [
    "transfer_model.compile(loss='categorical_crossentropy',\n",
    "                      optimizer='adam',\n",
    "                      metrics=['accuracy'])"
   ]
  },
  {
   "cell_type": "code",
   "execution_count": 35,
   "metadata": {},
   "outputs": [
    {
     "name": "stderr",
     "output_type": "stream",
     "text": [
      "C:\\Users\\RAHUL\\AppData\\Local\\Programs\\Python\\Python37\\lib\\site-packages\\ipykernel_launcher.py:7: UserWarning: The `nb_epoch` argument in `fit` has been renamed `epochs`.\n",
      "  import sys\n"
     ]
    },
    {
     "name": "stdout",
     "output_type": "stream",
     "text": [
      "Train on 9775 samples, validate on 4861 samples\n",
      "Epoch 1/10\n",
      " - 8s - loss: 0.3183 - acc: 0.8993 - val_loss: 0.0825 - val_acc: 0.9739\n",
      "Epoch 2/10\n",
      " - 7s - loss: 0.1026 - acc: 0.9684 - val_loss: 0.0605 - val_acc: 0.9809\n",
      "Epoch 3/10\n",
      " - 7s - loss: 0.0853 - acc: 0.9713 - val_loss: 0.0676 - val_acc: 0.9784\n",
      "Epoch 4/10\n",
      " - 8s - loss: 0.0786 - acc: 0.9732 - val_loss: 0.0494 - val_acc: 0.9821\n",
      "Epoch 5/10\n",
      " - 8s - loss: 0.0691 - acc: 0.9785 - val_loss: 0.0426 - val_acc: 0.9862\n",
      "Epoch 6/10\n",
      " - 8s - loss: 0.0604 - acc: 0.9796 - val_loss: 0.0403 - val_acc: 0.9885\n",
      "Epoch 7/10\n",
      " - 7s - loss: 0.0565 - acc: 0.9816 - val_loss: 0.0358 - val_acc: 0.9879\n",
      "Epoch 8/10\n",
      " - 7s - loss: 0.0558 - acc: 0.9814 - val_loss: 0.0400 - val_acc: 0.9870\n",
      "Epoch 9/10\n",
      " - 7s - loss: 0.0491 - acc: 0.9833 - val_loss: 0.0380 - val_acc: 0.9877\n",
      "Epoch 10/10\n",
      " - 7s - loss: 0.0448 - acc: 0.9857 - val_loss: 0.0375 - val_acc: 0.9862\n",
      "0:01:13.324548\n"
     ]
    }
   ],
   "source": [
    "start=datetime.datetime.now()\n",
    "transfer_model.fit(X2_train,Y2_train,\n",
    "          nb_epoch=10,\n",
    "          shuffle=True,\n",
    "          batch_size=100,\n",
    "          verbose=2,\n",
    "          validation_data=(X2_test,Y2_test))\n",
    "end=datetime.datetime.now()\n",
    "print(end-start)"
   ]
  },
  {
   "cell_type": "code",
   "execution_count": null,
   "metadata": {},
   "outputs": [],
   "source": []
  }
 ],
 "metadata": {
  "kernelspec": {
   "display_name": "Python 3",
   "language": "python",
   "name": "python3"
  },
  "language_info": {
   "codemirror_mode": {
    "name": "ipython",
    "version": 3
   },
   "file_extension": ".py",
   "mimetype": "text/x-python",
   "name": "python",
   "nbconvert_exporter": "python",
   "pygments_lexer": "ipython3",
   "version": "3.7.3"
  }
 },
 "nbformat": 4,
 "nbformat_minor": 2
}
