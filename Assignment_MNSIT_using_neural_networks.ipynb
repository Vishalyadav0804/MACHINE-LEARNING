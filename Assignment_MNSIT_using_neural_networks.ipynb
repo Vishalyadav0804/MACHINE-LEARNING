{
  "nbformat": 4,
  "nbformat_minor": 0,
  "metadata": {
    "kernelspec": {
      "display_name": "Python 3",
      "language": "python",
      "name": "python3"
    },
    "language_info": {
      "codemirror_mode": {
        "name": "ipython",
        "version": 3
      },
      "file_extension": ".py",
      "mimetype": "text/x-python",
      "name": "python",
      "nbconvert_exporter": "python",
      "pygments_lexer": "ipython3",
      "version": "3.7.3"
    },
    "colab": {
      "name": "Assignment-MNSIT using neural networks.ipynb",
      "provenance": [],
      "collapsed_sections": []
    }
  },
  "cells": [
    {
      "cell_type": "code",
      "metadata": {
        "id": "vqabFALkMuum",
        "colab_type": "code",
        "colab": {}
      },
      "source": [
        "import numpy as np\n",
        "import matplotlib.pyplot as plt\n",
        "%matplotlib inline"
      ],
      "execution_count": 0,
      "outputs": []
    },
    {
      "cell_type": "code",
      "metadata": {
        "id": "JJtWLkHUMuu9",
        "colab_type": "code",
        "outputId": "8ae5e492-3358-430f-e44b-bb96352edabf",
        "colab": {}
      },
      "source": [
        "from keras.datasets import mnist"
      ],
      "execution_count": 0,
      "outputs": [
        {
          "output_type": "stream",
          "text": [
            "Using TensorFlow backend.\n"
          ],
          "name": "stderr"
        }
      ]
    },
    {
      "cell_type": "code",
      "metadata": {
        "id": "K4WyorvQMuvW",
        "colab_type": "code",
        "colab": {}
      },
      "source": [
        "from keras.layers import Dense,Activation\n",
        "from keras.models import Sequential\n",
        "from keras.utils import  np_utils"
      ],
      "execution_count": 0,
      "outputs": []
    },
    {
      "cell_type": "code",
      "metadata": {
        "id": "hcP5Cd_gMuvo",
        "colab_type": "code",
        "colab": {}
      },
      "source": [
        "(x_train, y_train), (x_test, y_test) = mnist.load_data()"
      ],
      "execution_count": 0,
      "outputs": []
    },
    {
      "cell_type": "code",
      "metadata": {
        "id": "b6haI-ZbMuv2",
        "colab_type": "code",
        "outputId": "48488936-4bae-46a0-a787-e2399df3bfa8",
        "colab": {}
      },
      "source": [
        "print(x_train.shape,y_train.shape)\n",
        "print(x_test.shape,y_test.shape)"
      ],
      "execution_count": 0,
      "outputs": [
        {
          "output_type": "stream",
          "text": [
            "(60000, 28, 28) (60000,)\n",
            "(10000, 28, 28) (10000,)\n"
          ],
          "name": "stdout"
        }
      ]
    },
    {
      "cell_type": "code",
      "metadata": {
        "id": "4AjAix_UMuwB",
        "colab_type": "code",
        "outputId": "ccb180d3-c27a-4d91-bc8e-df60a9fe7a59",
        "colab": {}
      },
      "source": [
        "np.unique(y_train)"
      ],
      "execution_count": 0,
      "outputs": [
        {
          "output_type": "execute_result",
          "data": {
            "text/plain": [
              "array([0, 1, 2, 3, 4, 5, 6, 7, 8, 9], dtype=uint8)"
            ]
          },
          "metadata": {
            "tags": []
          },
          "execution_count": 6
        }
      ]
    },
    {
      "cell_type": "code",
      "metadata": {
        "id": "N_spIejrMuwO",
        "colab_type": "code",
        "outputId": "962cc6e0-964d-4000-8774-bbccc304f18c",
        "colab": {}
      },
      "source": [
        "plt.imshow(x_train[6],cmap='gray')\n",
        "plt.show()"
      ],
      "execution_count": 0,
      "outputs": [
        {
          "output_type": "display_data",
          "data": {
            "image/png": "[encoded data removed]",
            "text/plain": [
              "<Figure size 432x288 with 1 Axes>"
            ]
          },
          "metadata": {
            "tags": [],
            "needs_background": "light"
          }
        }
      ]
    },
    {
      "cell_type": "code",
      "metadata": {
        "id": "xTw4OWB_Muwa",
        "colab_type": "code",
        "outputId": "21196d68-b100-48f7-ca77-62d6f0f53c19",
        "colab": {}
      },
      "source": [
        "X_train=x_train.reshape(-1,784) \n",
        "X_test=x_test.reshape(-1,784)\n",
        "print(X_train.shape,X_test.shape)"
      ],
      "execution_count": 0,
      "outputs": [
        {
          "output_type": "stream",
          "text": [
            "(60000, 784) (10000, 784)\n"
          ],
          "name": "stdout"
        }
      ]
    },
    {
      "cell_type": "code",
      "metadata": {
        "id": "gF32ghSRMuwn",
        "colab_type": "code",
        "outputId": "f2e57746-2e4b-4a74-b983-90d98e23c0ba",
        "colab": {}
      },
      "source": [
        "Y_train=np_utils.to_categorical(y_train)\n",
        "Y_test=np_utils.to_categorical(y_test)\n",
        "print(Y_train.shape,Y_test.shape)"
      ],
      "execution_count": 0,
      "outputs": [
        {
          "output_type": "stream",
          "text": [
            "(60000, 10) (10000, 10)\n"
          ],
          "name": "stdout"
        }
      ]
    },
    {
      "cell_type": "code",
      "metadata": {
        "id": "_wetO5gdMuwx",
        "colab_type": "code",
        "outputId": "2eaa2434-8c09-44bf-b347-3ac4399d0461",
        "colab": {}
      },
      "source": [
        "model=Sequential()\n",
        "model.add(Dense(20, input_shape=(784,)))\n",
        "model.add(Activation('relu'))\n",
        "\n",
        "model.add(Dense(20))\n",
        "model.add(Activation('relu'))\n",
        "\n",
        "model.add(Dense(20))\n",
        "model.add(Activation('relu'))\n",
        "\n",
        "model.add(Dense(10))\n",
        "model.add(Activation('softmax'))\n",
        "model.summary()"
      ],
      "execution_count": 0,
      "outputs": [
        {
          "output_type": "stream",
          "text": [
            "WARNING: Logging before flag parsing goes to stderr.\n",
            "W0702 21:08:37.375793  6992 deprecation_wrapper.py:119] From C:\\Users\\RAHUL\\AppData\\Local\\Programs\\Python\\Python37\\lib\\site-packages\\keras\\backend\\tensorflow_backend.py:74: The name tf.get_default_graph is deprecated. Please use tf.compat.v1.get_default_graph instead.\n",
            "\n",
            "W0702 21:08:37.432080  6992 deprecation_wrapper.py:119] From C:\\Users\\RAHUL\\AppData\\Local\\Programs\\Python\\Python37\\lib\\site-packages\\keras\\backend\\tensorflow_backend.py:517: The name tf.placeholder is deprecated. Please use tf.compat.v1.placeholder instead.\n",
            "\n",
            "W0702 21:08:37.436080  6992 deprecation_wrapper.py:119] From C:\\Users\\RAHUL\\AppData\\Local\\Programs\\Python\\Python37\\lib\\site-packages\\keras\\backend\\tensorflow_backend.py:4138: The name tf.random_uniform is deprecated. Please use tf.random.uniform instead.\n",
            "\n"
          ],
          "name": "stderr"
        },
        {
          "output_type": "stream",
          "text": [
            "_________________________________________________________________\n",
            "Layer (type)                 Output Shape              Param #   \n",
            "=================================================================\n",
            "dense_1 (Dense)              (None, 20)                15700     \n",
            "_________________________________________________________________\n",
            "activation_1 (Activation)    (None, 20)                0         \n",
            "_________________________________________________________________\n",
            "dense_2 (Dense)              (None, 20)                420       \n",
            "_________________________________________________________________\n",
            "activation_2 (Activation)    (None, 20)                0         \n",
            "_________________________________________________________________\n",
            "dense_3 (Dense)              (None, 20)                420       \n",
            "_________________________________________________________________\n",
            "activation_3 (Activation)    (None, 20)                0         \n",
            "_________________________________________________________________\n",
            "dense_4 (Dense)              (None, 10)                210       \n",
            "_________________________________________________________________\n",
            "activation_4 (Activation)    (None, 10)                0         \n",
            "=================================================================\n",
            "Total params: 16,750\n",
            "Trainable params: 16,750\n",
            "Non-trainable params: 0\n",
            "_________________________________________________________________\n"
          ],
          "name": "stdout"
        }
      ]
    },
    {
      "cell_type": "code",
      "metadata": {
        "id": "lTxuk9F2Muw6",
        "colab_type": "code",
        "outputId": "a4eebe0a-f4da-4994-e04e-972a8e6d54aa",
        "colab": {}
      },
      "source": [
        "model.compile(loss='categorical_crossentropy',\n",
        "             optimizer='adam',\n",
        "             metrics=['accuracy'])"
      ],
      "execution_count": 0,
      "outputs": [
        {
          "output_type": "stream",
          "text": [
            "W0702 21:08:37.688215  6992 deprecation_wrapper.py:119] From C:\\Users\\RAHUL\\AppData\\Local\\Programs\\Python\\Python37\\lib\\site-packages\\keras\\optimizers.py:790: The name tf.train.Optimizer is deprecated. Please use tf.compat.v1.train.Optimizer instead.\n",
            "\n",
            "W0702 21:08:37.764227  6992 deprecation_wrapper.py:119] From C:\\Users\\RAHUL\\AppData\\Local\\Programs\\Python\\Python37\\lib\\site-packages\\keras\\backend\\tensorflow_backend.py:3295: The name tf.log is deprecated. Please use tf.math.log instead.\n",
            "\n"
          ],
          "name": "stderr"
        }
      ]
    },
    {
      "cell_type": "code",
      "metadata": {
        "id": "htceuiLIMuxH",
        "colab_type": "code",
        "outputId": "25d1699a-7eb9-41f6-fb3b-f3c5f31048d0",
        "colab": {}
      },
      "source": [
        "model.fit(X_train,Y_train,\n",
        "          validation_data=(X_test,Y_test),\n",
        "          batch_size=50,\n",
        "          nb_epoch=12,\n",
        "          verbose=2)"
      ],
      "execution_count": 0,
      "outputs": [
        {
          "output_type": "stream",
          "text": [
            "C:\\Users\\RAHUL\\AppData\\Local\\Programs\\Python\\Python37\\lib\\site-packages\\ipykernel_launcher.py:5: UserWarning: The `nb_epoch` argument in `fit` has been renamed `epochs`.\n",
            "  \"\"\"\n",
            "W0702 21:08:38.046928  6992 deprecation.py:323] From C:\\Users\\RAHUL\\AppData\\Local\\Programs\\Python\\Python37\\lib\\site-packages\\tensorflow\\python\\ops\\math_grad.py:1250: add_dispatch_support.<locals>.wrapper (from tensorflow.python.ops.array_ops) is deprecated and will be removed in a future version.\n",
            "Instructions for updating:\n",
            "Use tf.where in 2.0, which has the same broadcast rule as np.where\n",
            "W0702 21:08:38.156256  6992 deprecation_wrapper.py:119] From C:\\Users\\RAHUL\\AppData\\Local\\Programs\\Python\\Python37\\lib\\site-packages\\keras\\backend\\tensorflow_backend.py:986: The name tf.assign_add is deprecated. Please use tf.compat.v1.assign_add instead.\n",
            "\n"
          ],
          "name": "stderr"
        },
        {
          "output_type": "stream",
          "text": [
            "Train on 60000 samples, validate on 10000 samples\n",
            "Epoch 1/12\n",
            " - 4s - loss: 1.4085 - acc: 0.6614 - val_loss: 0.5751 - val_acc: 0.8509\n",
            "Epoch 2/12\n",
            " - 3s - loss: 0.4963 - acc: 0.8700 - val_loss: 0.4181 - val_acc: 0.8928\n",
            "Epoch 3/12\n",
            " - 3s - loss: 0.3563 - acc: 0.9052 - val_loss: 0.3134 - val_acc: 0.9160\n",
            "Epoch 4/12\n",
            " - 3s - loss: 0.2938 - acc: 0.9199 - val_loss: 0.2996 - val_acc: 0.9206\n",
            "Epoch 5/12\n",
            " - 3s - loss: 0.2600 - acc: 0.9277 - val_loss: 0.2533 - val_acc: 0.9302\n",
            "Epoch 6/12\n",
            " - 3s - loss: 0.2346 - acc: 0.9345 - val_loss: 0.3196 - val_acc: 0.9178\n",
            "Epoch 7/12\n",
            " - 3s - loss: 0.2219 - acc: 0.9376 - val_loss: 0.2457 - val_acc: 0.9339\n",
            "Epoch 8/12\n",
            " - 3s - loss: 0.2124 - acc: 0.9392 - val_loss: 0.2459 - val_acc: 0.9329\n",
            "Epoch 9/12\n",
            " - 3s - loss: 0.2024 - acc: 0.9434 - val_loss: 0.2491 - val_acc: 0.9347\n",
            "Epoch 10/12\n",
            " - 3s - loss: 0.1928 - acc: 0.9449 - val_loss: 0.2273 - val_acc: 0.9423\n",
            "Epoch 11/12\n",
            " - 3s - loss: 0.1871 - acc: 0.9463 - val_loss: 0.2153 - val_acc: 0.9404\n",
            "Epoch 12/12\n",
            " - 3s - loss: 0.1783 - acc: 0.9488 - val_loss: 0.2505 - val_acc: 0.9356\n"
          ],
          "name": "stdout"
        },
        {
          "output_type": "execute_result",
          "data": {
            "text/plain": [
              "<keras.callbacks.History at 0x983819e080>"
            ]
          },
          "metadata": {
            "tags": []
          },
          "execution_count": 12
        }
      ]
    },
    {
      "cell_type": "code",
      "metadata": {
        "id": "0JOF3KFdMuxS",
        "colab_type": "code",
        "outputId": "1448210a-e66e-4954-e127-d10e9a0d60d5",
        "colab": {}
      },
      "source": [
        "model=Sequential()\n",
        "model.add(Dense(1000, input_shape=(784,)))\n",
        "model.add(Activation('relu'))\n",
        "\n",
        "model.add(Dense(1000))\n",
        "model.add(Activation('relu'))\n",
        "\n",
        "model.add(Dense(1000))\n",
        "model.add(Activation('relu'))\n",
        "\n",
        "model.add(Dense(10))\n",
        "model.add(Activation('softmax'))\n",
        "model.summary()"
      ],
      "execution_count": 0,
      "outputs": [
        {
          "output_type": "stream",
          "text": [
            "_________________________________________________________________\n",
            "Layer (type)                 Output Shape              Param #   \n",
            "=================================================================\n",
            "dense_5 (Dense)              (None, 1000)              785000    \n",
            "_________________________________________________________________\n",
            "activation_5 (Activation)    (None, 1000)              0         \n",
            "_________________________________________________________________\n",
            "dense_6 (Dense)              (None, 1000)              1001000   \n",
            "_________________________________________________________________\n",
            "activation_6 (Activation)    (None, 1000)              0         \n",
            "_________________________________________________________________\n",
            "dense_7 (Dense)              (None, 1000)              1001000   \n",
            "_________________________________________________________________\n",
            "activation_7 (Activation)    (None, 1000)              0         \n",
            "_________________________________________________________________\n",
            "dense_8 (Dense)              (None, 10)                10010     \n",
            "_________________________________________________________________\n",
            "activation_8 (Activation)    (None, 10)                0         \n",
            "=================================================================\n",
            "Total params: 2,797,010\n",
            "Trainable params: 2,797,010\n",
            "Non-trainable params: 0\n",
            "_________________________________________________________________\n"
          ],
          "name": "stdout"
        }
      ]
    },
    {
      "cell_type": "code",
      "metadata": {
        "id": "AhcDOPrGMuxg",
        "colab_type": "code",
        "colab": {}
      },
      "source": [
        "model.compile(loss='categorical_crossentropy',\n",
        "             optimizer='adam',\n",
        "             metrics=['accuracy'])"
      ],
      "execution_count": 0,
      "outputs": []
    },
    {
      "cell_type": "code",
      "metadata": {
        "id": "5sbTfPXHMuxv",
        "colab_type": "code",
        "outputId": "8e57bdba-d2f6-4d02-8ba9-207810740993",
        "colab": {}
      },
      "source": [
        "model.fit(X_train,Y_train,\n",
        "          validation_data=(X_test,Y_test),\n",
        "          batch_size=50,\n",
        "          nb_epoch=5,\n",
        "          verbose=2)"
      ],
      "execution_count": 0,
      "outputs": [
        {
          "output_type": "stream",
          "text": [
            "C:\\Users\\RAHUL\\AppData\\Local\\Programs\\Python\\Python37\\lib\\site-packages\\ipykernel_launcher.py:5: UserWarning: The `nb_epoch` argument in `fit` has been renamed `epochs`.\n",
            "  \"\"\"\n"
          ],
          "name": "stderr"
        },
        {
          "output_type": "stream",
          "text": [
            "Train on 60000 samples, validate on 10000 samples\n",
            "Epoch 1/5\n",
            " - 139s - loss: 14.5155 - acc: 0.0994 - val_loss: 14.4918 - val_acc: 0.1009\n",
            "Epoch 2/5\n",
            " - 140s - loss: 14.5200 - acc: 0.0991 - val_loss: 14.4918 - val_acc: 0.1009\n",
            "Epoch 3/5\n",
            " - 137s - loss: 14.5200 - acc: 0.0991 - val_loss: 14.4918 - val_acc: 0.1009\n",
            "Epoch 4/5\n",
            " - 129s - loss: 14.5200 - acc: 0.0991 - val_loss: 14.4918 - val_acc: 0.1009\n",
            "Epoch 5/5\n",
            " - 130s - loss: 14.5200 - acc: 0.0991 - val_loss: 14.4918 - val_acc: 0.1009\n"
          ],
          "name": "stdout"
        },
        {
          "output_type": "execute_result",
          "data": {
            "text/plain": [
              "<keras.callbacks.History at 0x983aa97978>"
            ]
          },
          "metadata": {
            "tags": []
          },
          "execution_count": 15
        }
      ]
    },
    {
      "cell_type": "code",
      "metadata": {
        "id": "-jR7AhEgMux4",
        "colab_type": "code",
        "outputId": "6ae9eff1-1051-4780-a130-a695e4cc7d74",
        "colab": {}
      },
      "source": [
        "model=Sequential()\n",
        "model.add(Dense(20, input_shape=(784,)))\n",
        "model.add(Activation('relu'))\n",
        "\n",
        "model.add(Dense(20))\n",
        "model.add(Activation('relu'))\n",
        "\n",
        "model.add(Dense(20))\n",
        "model.add(Activation('relu'))\n",
        "\n",
        "model.add(Dense(20))\n",
        "model.add(Activation('relu'))\n",
        "\n",
        "model.add(Dense(20))\n",
        "model.add(Activation('relu'))\n",
        "\n",
        "model.add(Dense(20))\n",
        "model.add(Activation('relu'))\n",
        "\n",
        "model.add(Dense(20))\n",
        "model.add(Activation('relu'))\n",
        "\n",
        "model.add(Dense(20))\n",
        "model.add(Activation('relu'))\n",
        "\n",
        "model.add(Dense(20))\n",
        "model.add(Activation('relu'))\n",
        "\n",
        "model.add(Dense(10))\n",
        "model.add(Activation('softmax'))\n",
        "model.summary()"
      ],
      "execution_count": 0,
      "outputs": [
        {
          "output_type": "stream",
          "text": [
            "_________________________________________________________________\n",
            "Layer (type)                 Output Shape              Param #   \n",
            "=================================================================\n",
            "dense_9 (Dense)              (None, 20)                15700     \n",
            "_________________________________________________________________\n",
            "activation_9 (Activation)    (None, 20)                0         \n",
            "_________________________________________________________________\n",
            "dense_10 (Dense)             (None, 20)                420       \n",
            "_________________________________________________________________\n",
            "activation_10 (Activation)   (None, 20)                0         \n",
            "_________________________________________________________________\n",
            "dense_11 (Dense)             (None, 20)                420       \n",
            "_________________________________________________________________\n",
            "activation_11 (Activation)   (None, 20)                0         \n",
            "_________________________________________________________________\n",
            "dense_12 (Dense)             (None, 20)                420       \n",
            "_________________________________________________________________\n",
            "activation_12 (Activation)   (None, 20)                0         \n",
            "_________________________________________________________________\n",
            "dense_13 (Dense)             (None, 20)                420       \n",
            "_________________________________________________________________\n",
            "activation_13 (Activation)   (None, 20)                0         \n",
            "_________________________________________________________________\n",
            "dense_14 (Dense)             (None, 20)                420       \n",
            "_________________________________________________________________\n",
            "activation_14 (Activation)   (None, 20)                0         \n",
            "_________________________________________________________________\n",
            "dense_15 (Dense)             (None, 20)                420       \n",
            "_________________________________________________________________\n",
            "activation_15 (Activation)   (None, 20)                0         \n",
            "_________________________________________________________________\n",
            "dense_16 (Dense)             (None, 20)                420       \n",
            "_________________________________________________________________\n",
            "activation_16 (Activation)   (None, 20)                0         \n",
            "_________________________________________________________________\n",
            "dense_17 (Dense)             (None, 20)                420       \n",
            "_________________________________________________________________\n",
            "activation_17 (Activation)   (None, 20)                0         \n",
            "_________________________________________________________________\n",
            "dense_18 (Dense)             (None, 10)                210       \n",
            "_________________________________________________________________\n",
            "activation_18 (Activation)   (None, 10)                0         \n",
            "=================================================================\n",
            "Total params: 19,270\n",
            "Trainable params: 19,270\n",
            "Non-trainable params: 0\n",
            "_________________________________________________________________\n"
          ],
          "name": "stdout"
        }
      ]
    },
    {
      "cell_type": "code",
      "metadata": {
        "id": "BvfTUWJAMuyD",
        "colab_type": "code",
        "colab": {}
      },
      "source": [
        "model.compile(loss='categorical_crossentropy',\n",
        "             optimizer='adam',\n",
        "             metrics=['accuracy'])"
      ],
      "execution_count": 0,
      "outputs": []
    },
    {
      "cell_type": "code",
      "metadata": {
        "id": "TankDjMBMuyM",
        "colab_type": "code",
        "outputId": "03fbf7fb-d2f8-434b-fc22-62429c7c104e",
        "colab": {}
      },
      "source": [
        "model.fit(X_train,Y_train,\n",
        "          validation_data=(X_test,Y_test),\n",
        "          batch_size=50,\n",
        "          nb_epoch=5,\n",
        "          verbose=2)"
      ],
      "execution_count": 0,
      "outputs": [
        {
          "output_type": "stream",
          "text": [
            "C:\\Users\\RAHUL\\AppData\\Local\\Programs\\Python\\Python37\\lib\\site-packages\\ipykernel_launcher.py:5: UserWarning: The `nb_epoch` argument in `fit` has been renamed `epochs`.\n",
            "  \"\"\"\n"
          ],
          "name": "stderr"
        },
        {
          "output_type": "stream",
          "text": [
            "Train on 60000 samples, validate on 10000 samples\n",
            "Epoch 1/5\n",
            " - 5s - loss: 0.8312 - acc: 0.7299 - val_loss: 0.3929 - val_acc: 0.8855\n",
            "Epoch 2/5\n",
            " - 4s - loss: 0.3458 - acc: 0.9017 - val_loss: 0.3024 - val_acc: 0.9110\n",
            "Epoch 3/5\n",
            " - 4s - loss: 0.2761 - acc: 0.9222 - val_loss: 0.2662 - val_acc: 0.9241\n",
            "Epoch 4/5\n",
            " - 4s - loss: 0.2353 - acc: 0.9335 - val_loss: 0.2379 - val_acc: 0.9331\n",
            "Epoch 5/5\n",
            " - 4s - loss: 0.2191 - acc: 0.9379 - val_loss: 0.2127 - val_acc: 0.9419\n"
          ],
          "name": "stdout"
        },
        {
          "output_type": "execute_result",
          "data": {
            "text/plain": [
              "<keras.callbacks.History at 0x9823c054a8>"
            ]
          },
          "metadata": {
            "tags": []
          },
          "execution_count": 18
        }
      ]
    },
    {
      "cell_type": "code",
      "metadata": {
        "id": "hntCfYyyMuyW",
        "colab_type": "code",
        "colab": {}
      },
      "source": [
        ""
      ],
      "execution_count": 0,
      "outputs": []
    },
    {
      "cell_type": "code",
      "metadata": {
        "id": "bOc98TwlMuyg",
        "colab_type": "code",
        "colab": {}
      },
      "source": [
        ""
      ],
      "execution_count": 0,
      "outputs": []
    },
    {
      "cell_type": "code",
      "metadata": {
        "id": "q965fHNQMuyu",
        "colab_type": "code",
        "colab": {}
      },
      "source": [
        ""
      ],
      "execution_count": 0,
      "outputs": []
    },
    {
      "cell_type": "code",
      "metadata": {
        "id": "z1-FLT89MuzG",
        "colab_type": "code",
        "colab": {}
      },
      "source": [
        ""
      ],
      "execution_count": 0,
      "outputs": []
    },
    {
      "cell_type": "code",
      "metadata": {
        "id": "DdqG40M_MuzY",
        "colab_type": "code",
        "colab": {}
      },
      "source": [
        ""
      ],
      "execution_count": 0,
      "outputs": []
    },
    {
      "cell_type": "code",
      "metadata": {
        "id": "hk_Z1JvqMuzj",
        "colab_type": "code",
        "colab": {}
      },
      "source": [
        ""
      ],
      "execution_count": 0,
      "outputs": []
    },
    {
      "cell_type": "code",
      "metadata": {
        "id": "VIg8G6PPMuzq",
        "colab_type": "code",
        "colab": {}
      },
      "source": [
        ""
      ],
      "execution_count": 0,
      "outputs": []
    },
    {
      "cell_type": "code",
      "metadata": {
        "id": "iq4OJfzdMuzw",
        "colab_type": "code",
        "colab": {}
      },
      "source": [
        ""
      ],
      "execution_count": 0,
      "outputs": []
    },
    {
      "cell_type": "code",
      "metadata": {
        "id": "mbbqnB8xMuz4",
        "colab_type": "code",
        "colab": {}
      },
      "source": [
        ""
      ],
      "execution_count": 0,
      "outputs": []
    },
    {
      "cell_type": "code",
      "metadata": {
        "id": "AxQs5kSuMu0X",
        "colab_type": "code",
        "colab": {}
      },
      "source": [
        ""
      ],
      "execution_count": 0,
      "outputs": []
    },
    {
      "cell_type": "code",
      "metadata": {
        "id": "LUEL3wKzMu0z",
        "colab_type": "code",
        "colab": {}
      },
      "source": [
        ""
      ],
      "execution_count": 0,
      "outputs": []
    },
    {
      "cell_type": "code",
      "metadata": {
        "id": "JTnteA7BMu1A",
        "colab_type": "code",
        "colab": {}
      },
      "source": [
        ""
      ],
      "execution_count": 0,
      "outputs": []
    },
    {
      "cell_type": "code",
      "metadata": {
        "id": "cW7_-gM6Mu1z",
        "colab_type": "code",
        "colab": {}
      },
      "source": [
        ""
      ],
      "execution_count": 0,
      "outputs": []
    },
    {
      "cell_type": "code",
      "metadata": {
        "id": "bt6wKBFcMvK6",
        "colab_type": "code",
        "colab": {}
      },
      "source": [
        ""
      ],
      "execution_count": 0,
      "outputs": []
    },
    {
      "cell_type": "code",
      "metadata": {
        "id": "2cSZ-bgzMvLP",
        "colab_type": "code",
        "colab": {}
      },
      "source": [
        ""
      ],
      "execution_count": 0,
      "outputs": []
    }
  ]
}