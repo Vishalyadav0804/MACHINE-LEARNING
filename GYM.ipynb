{
  "nbformat": 4,
  "nbformat_minor": 0,
  "metadata": {
    "kernelspec": {
      "display_name": "Python 3",
      "language": "python",
      "name": "python3"
    },
    "language_info": {
      "codemirror_mode": {
        "name": "ipython",
        "version": 3
      },
      "file_extension": ".py",
      "mimetype": "text/x-python",
      "name": "python",
      "nbconvert_exporter": "python",
      "pygments_lexer": "ipython3",
      "version": "3.7.3"
    },
    "colab": {
      "name": "GYM.ipynb",
      "provenance": [],
      "collapsed_sections": []
    }
  },
  "cells": [
    {
      "cell_type": "code",
      "metadata": {
        "id": "hoYiSp8-N_h-",
        "colab_type": "code",
        "outputId": "7efbe289-ec62-449a-b9f0-97c2744c7dd8",
        "colab": {}
      },
      "source": [
        "! pip3 install gym"
      ],
      "execution_count": 0,
      "outputs": [
        {
          "output_type": "stream",
          "text": [
            "Collecting gym\n",
            "  Downloading https://files.pythonhosted.org/packages/8a/2d/d4ad0ef5159e87d66339f1dfaa4736687bf2699c3b8ce9e57998f28bb5a1/gym-0.13.0.tar.gz (1.6MB)\n",
            "Requirement already satisfied: scipy in c:\\users\\rahul\\appdata\\roaming\\python\\python37\\site-packages (from gym) (1.3.0)\n",
            "Requirement already satisfied: numpy>=1.10.4 in c:\\users\\rahul\\appdata\\local\\programs\\python\\python37\\lib\\site-packages (from gym) (1.16.4)\n",
            "Requirement already satisfied: six in c:\\users\\rahul\\appdata\\local\\programs\\python\\python37\\lib\\site-packages (from gym) (1.12.0)\n",
            "Collecting pyglet>=1.2.0 (from gym)\n",
            "  Downloading https://files.pythonhosted.org/packages/9b/02/abad3e277018312baf17f739539309d065597d0dfd224d5645df863ef5c8/pyglet-1.4.1-py2.py3-none-any.whl (1.0MB)\n",
            "Collecting cloudpickle~=1.2.0 (from gym)\n",
            "  Downloading https://files.pythonhosted.org/packages/09/f4/4a080c349c1680a2086196fcf0286a65931708156f39568ed7051e42ff6a/cloudpickle-1.2.1-py2.py3-none-any.whl\n",
            "Collecting future (from pyglet>=1.2.0->gym)\n",
            "  Downloading https://files.pythonhosted.org/packages/90/52/e20466b85000a181e1e144fd8305caf2cf475e2f9674e797b222f8105f5f/future-0.17.1.tar.gz (829kB)\n",
            "Building wheels for collected packages: gym, future\n",
            "  Building wheel for gym (setup.py): started\n",
            "  Building wheel for gym (setup.py): finished with status 'done'\n",
            "  Stored in directory: C:\\Users\\RAHUL\\AppData\\Local\\pip\\Cache\\wheels\\00\\b8\\b2\\e5dfb6be621560717e719734293eee9fe3c66b668fdc334b1a\n",
            "  Building wheel for future (setup.py): started\n",
            "  Building wheel for future (setup.py): finished with status 'done'\n",
            "  Stored in directory: C:\\Users\\RAHUL\\AppData\\Local\\pip\\Cache\\wheels\\0c\\61\\d2\\d6b7317325828fbb39ee6ad559dbe4664d0896da4721bf379e\n",
            "Successfully built gym future\n",
            "Installing collected packages: future, pyglet, cloudpickle, gym\n",
            "Successfully installed cloudpickle-1.2.1 future-0.17.1 gym-0.13.0 pyglet-1.4.1\n"
          ],
          "name": "stdout"
        }
      ]
    },
    {
      "cell_type": "code",
      "metadata": {
        "id": "zP3zihUQN_iK",
        "colab_type": "code",
        "colab": {}
      },
      "source": [
        "import gym\n",
        "import random\n",
        "import numpy as np"
      ],
      "execution_count": 0,
      "outputs": []
    },
    {
      "cell_type": "code",
      "metadata": {
        "id": "CLTUCdbZN_iP",
        "colab_type": "code",
        "colab": {}
      },
      "source": [
        "env_name='CartPole-v1'\n",
        "env=gym.make(env_name)"
      ],
      "execution_count": 0,
      "outputs": []
    },
    {
      "cell_type": "code",
      "metadata": {
        "id": "ID7qcZZsN_iX",
        "colab_type": "code",
        "outputId": "281a6304-f172-443b-bdbe-8a83337c3b8e",
        "colab": {}
      },
      "source": [
        "env.observation_space"
      ],
      "execution_count": 0,
      "outputs": [
        {
          "output_type": "execute_result",
          "data": {
            "text/plain": [
              "Box(4,)"
            ]
          },
          "metadata": {
            "tags": []
          },
          "execution_count": 20
        }
      ]
    },
    {
      "cell_type": "code",
      "metadata": {
        "id": "PVbKsLO1N_id",
        "colab_type": "code",
        "outputId": "e666c946-f992-4152-c555-4a747154fceb",
        "colab": {}
      },
      "source": [
        "env.action_space"
      ],
      "execution_count": 0,
      "outputs": [
        {
          "output_type": "execute_result",
          "data": {
            "text/plain": [
              "Discrete(2)"
            ]
          },
          "metadata": {
            "tags": []
          },
          "execution_count": 21
        }
      ]
    },
    {
      "cell_type": "code",
      "metadata": {
        "id": "FScN6yezN_im",
        "colab_type": "code",
        "outputId": "9da973b2-62cd-498b-f474-da6c574b67aa",
        "colab": {}
      },
      "source": [
        "env.action_space.n"
      ],
      "execution_count": 0,
      "outputs": [
        {
          "output_type": "execute_result",
          "data": {
            "text/plain": [
              "2"
            ]
          },
          "metadata": {
            "tags": []
          },
          "execution_count": 22
        }
      ]
    },
    {
      "cell_type": "code",
      "metadata": {
        "id": "wCDoNeaIN_iu",
        "colab_type": "code",
        "colab": {}
      },
      "source": [
        "state=env.reset()\n",
        "done=False\n",
        "while not done:\n",
        "    action=env.action_space.sample()\n",
        "    # or -   action=random.choice(range(env.action_space.n))\n",
        "    state, reward, done, info=env.step(action)\n",
        "    env.render()  #display\n",
        "\n",
        "env.close()"
      ],
      "execution_count": 0,
      "outputs": []
    },
    {
      "cell_type": "code",
      "metadata": {
        "id": "rNwHzSX0N_i1",
        "colab_type": "code",
        "colab": {}
      },
      "source": [
        "#more accurate\n",
        "state=env.reset()\n",
        "done=False\n",
        "while not done:\n",
        "    #action=env.action_space.sample()\n",
        "    # or -   action=random.choice(range(env.action_space.n))\n",
        "    \n",
        "    poleAngle=state[2]\n",
        "    action=0 if poleAngle<0 else 1\n",
        "    state, reward, done, info=env.step(action)\n",
        "    env.render()  #display\n",
        "\n",
        "env.close()"
      ],
      "execution_count": 0,
      "outputs": []
    },
    {
      "cell_type": "code",
      "metadata": {
        "id": "8B6Ntm9cN_i7",
        "colab_type": "code",
        "outputId": "6d46a1ac-ae06-4b7f-ee54-f0b6aac0046d",
        "colab": {}
      },
      "source": [
        "state=env.reset()\n",
        "\n",
        "for _ in range(200):\n",
        "    action=env.action_space.sample()\n",
        "    # or -   action=random.choice(range(env.action_space.n))\n",
        "    state, reward, done, info=env.step(action)\n",
        "    env.render()  #display\n",
        "\n",
        "env.close()"
      ],
      "execution_count": 0,
      "outputs": [
        {
          "output_type": "stream",
          "text": [
            "C:\\Users\\RAHUL\\AppData\\Local\\Programs\\Python\\Python37\\lib\\site-packages\\gym\\logger.py:30: UserWarning: \u001b[33mWARN: You are calling 'step()' even though this environment has already returned done = True. You should always call 'reset()' once you receive 'done = True' -- any further steps are undefined behavior.\u001b[0m\n",
            "  warnings.warn(colorize('%s: %s'%('WARN', msg % args), 'yellow'))\n"
          ],
          "name": "stderr"
        }
      ]
    },
    {
      "cell_type": "code",
      "metadata": {
        "id": "IZ5zpHuEN_jB",
        "colab_type": "code",
        "colab": {}
      },
      "source": [
        ""
      ],
      "execution_count": 0,
      "outputs": []
    },
    {
      "cell_type": "code",
      "metadata": {
        "id": "KfchFWc3N_jJ",
        "colab_type": "code",
        "colab": {}
      },
      "source": [
        "env_name='MountainCarContinuous-v0'\n",
        "env=gym.make(env_name)"
      ],
      "execution_count": 0,
      "outputs": []
    },
    {
      "cell_type": "code",
      "metadata": {
        "id": "43tGq5ION_jO",
        "colab_type": "code",
        "outputId": "f9381e0e-2a4c-44ae-9568-83896b25f748",
        "colab": {}
      },
      "source": [
        "env.observation_space"
      ],
      "execution_count": 0,
      "outputs": [
        {
          "output_type": "execute_result",
          "data": {
            "text/plain": [
              "Box(2,)"
            ]
          },
          "metadata": {
            "tags": []
          },
          "execution_count": 28
        }
      ]
    },
    {
      "cell_type": "code",
      "metadata": {
        "id": "O9cxV_eVN_jV",
        "colab_type": "code",
        "outputId": "8cc3aaf3-2bf4-42f7-edf7-c72b5d2aba8e",
        "colab": {}
      },
      "source": [
        "env.action_space"
      ],
      "execution_count": 0,
      "outputs": [
        {
          "output_type": "execute_result",
          "data": {
            "text/plain": [
              "Box(1,)"
            ]
          },
          "metadata": {
            "tags": []
          },
          "execution_count": 29
        }
      ]
    },
    {
      "cell_type": "code",
      "metadata": {
        "id": "_soraln1N_jc",
        "colab_type": "code",
        "outputId": "3667a40c-66fe-4389-a1d6-233ab1cb3ac9",
        "colab": {}
      },
      "source": [
        "env.action_space.low"
      ],
      "execution_count": 0,
      "outputs": [
        {
          "output_type": "execute_result",
          "data": {
            "text/plain": [
              "array([-1.], dtype=float32)"
            ]
          },
          "metadata": {
            "tags": []
          },
          "execution_count": 30
        }
      ]
    },
    {
      "cell_type": "code",
      "metadata": {
        "id": "N6BwA7AdN_jj",
        "colab_type": "code",
        "outputId": "18636230-f981-4c91-9912-b496a6b8841b",
        "colab": {}
      },
      "source": [
        "env.action_space.high"
      ],
      "execution_count": 0,
      "outputs": [
        {
          "output_type": "execute_result",
          "data": {
            "text/plain": [
              "array([1.], dtype=float32)"
            ]
          },
          "metadata": {
            "tags": []
          },
          "execution_count": 31
        }
      ]
    },
    {
      "cell_type": "code",
      "metadata": {
        "id": "pvLmquk9N_js",
        "colab_type": "code",
        "outputId": "7128b776-970a-4dc0-87a1-2c9e3bd59aa3",
        "colab": {}
      },
      "source": [
        "env.action_space.shape"
      ],
      "execution_count": 0,
      "outputs": [
        {
          "output_type": "execute_result",
          "data": {
            "text/plain": [
              "(1,)"
            ]
          },
          "metadata": {
            "tags": []
          },
          "execution_count": 32
        }
      ]
    },
    {
      "cell_type": "code",
      "metadata": {
        "id": "wyGYHGj3N_jy",
        "colab_type": "code",
        "colab": {}
      },
      "source": [
        "state=env.reset()\n",
        "\n",
        "for _ in range(2000):\n",
        "    action=env.action_space.sample()\n",
        "    state,reward,done,info=env.step(action)\n",
        "    env.render()\n",
        "env.close()"
      ],
      "execution_count": 0,
      "outputs": []
    },
    {
      "cell_type": "code",
      "metadata": {
        "id": "kj7kfbAuN_j6",
        "colab_type": "code",
        "colab": {}
      },
      "source": [
        ""
      ],
      "execution_count": 0,
      "outputs": []
    }
  ]
}