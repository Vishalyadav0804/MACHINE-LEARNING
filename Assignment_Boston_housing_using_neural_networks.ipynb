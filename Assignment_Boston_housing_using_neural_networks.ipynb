{
  "nbformat": 4,
  "nbformat_minor": 0,
  "metadata": {
    "kernelspec": {
      "display_name": "Python 3",
      "language": "python",
      "name": "python3"
    },
    "language_info": {
      "codemirror_mode": {
        "name": "ipython",
        "version": 3
      },
      "file_extension": ".py",
      "mimetype": "text/x-python",
      "name": "python",
      "nbconvert_exporter": "python",
      "pygments_lexer": "ipython3",
      "version": "3.7.3"
    },
    "colab": {
      "name": "Assignment-Boston housing using neural networks.ipynb",
      "provenance": [],
      "collapsed_sections": []
    }
  },
  "cells": [
    {
      "cell_type": "code",
      "metadata": {
        "id": "c8g4WdGZMjdO",
        "colab_type": "code",
        "colab": {}
      },
      "source": [
        "import numpy as np\n",
        "import matplotlib.pyplot as plt\n",
        "%matplotlib inline"
      ],
      "execution_count": 0,
      "outputs": []
    },
    {
      "cell_type": "code",
      "metadata": {
        "id": "V8MrzgobMjdm",
        "colab_type": "code",
        "outputId": "3226dc27-36d4-424c-f746-4af3be0ba807",
        "colab": {}
      },
      "source": [
        "from keras.layers import Dense,Activation\n",
        "from keras.models import Sequential\n",
        "from keras.utils import  np_utils\n",
        "from keras.regularizers import l1,l2,l1_l2"
      ],
      "execution_count": 0,
      "outputs": [
        {
          "output_type": "stream",
          "text": [
            "Using TensorFlow backend.\n"
          ],
          "name": "stderr"
        }
      ]
    },
    {
      "cell_type": "code",
      "metadata": {
        "id": "HZMdThUrMjd8",
        "colab_type": "code",
        "colab": {}
      },
      "source": [
        "from keras.datasets import boston_housing"
      ],
      "execution_count": 0,
      "outputs": []
    },
    {
      "cell_type": "code",
      "metadata": {
        "id": "INXDQKNlMjeG",
        "colab_type": "code",
        "colab": {}
      },
      "source": [
        "(x_train, y_train), (x_test, y_test) = boston_housing.load_data()"
      ],
      "execution_count": 0,
      "outputs": []
    },
    {
      "cell_type": "code",
      "metadata": {
        "id": "S-hbS213MjeZ",
        "colab_type": "code",
        "outputId": "e4118e9b-edf7-4888-d187-7beb0d604018",
        "colab": {}
      },
      "source": [
        "print(x_train.shape,y_train.shape)\n",
        "print(x_test.shape,y_test.shape)"
      ],
      "execution_count": 0,
      "outputs": [
        {
          "output_type": "stream",
          "text": [
            "(404, 13) (404,)\n",
            "(102, 13) (102,)\n"
          ],
          "name": "stdout"
        }
      ]
    },
    {
      "cell_type": "code",
      "metadata": {
        "id": "kWPUPyJ8Mjek",
        "colab_type": "code",
        "outputId": "10ca50e3-e7c1-4011-8d3f-cb0e01debf77",
        "colab": {}
      },
      "source": [
        "np.unique(y_train)"
      ],
      "execution_count": 0,
      "outputs": [
        {
          "output_type": "execute_result",
          "data": {
            "text/plain": [
              "array([ 5. ,  6.3,  7. ,  7.2,  7.5,  8.3,  8.4,  8.5,  8.7,  8.8,  9.6,\n",
              "       10.2, 10.4, 10.5, 10.8, 10.9, 11. , 11.3, 11.5, 11.7, 11.8, 11.9,\n",
              "       12.1, 12.3, 12.5, 12.6, 12.7, 12.8, 13.1, 13.2, 13.3, 13.4, 13.5,\n",
              "       13.6, 13.8, 13.9, 14. , 14.1, 14.2, 14.3, 14.4, 14.5, 14.6, 14.8,\n",
              "       14.9, 15. , 15.1, 15.2, 15.3, 15.6, 15.7, 16. , 16.1, 16.2, 16.3,\n",
              "       16.4, 16.5, 16.6, 16.7, 16.8, 17. , 17.1, 17.2, 17.3, 17.4, 17.5,\n",
              "       17.7, 17.8, 17.9, 18. , 18.1, 18.2, 18.3, 18.4, 18.5, 18.7, 18.8,\n",
              "       18.9, 19. , 19.1, 19.2, 19.3, 19.4, 19.5, 19.6, 19.7, 19.8, 19.9,\n",
              "       20. , 20.1, 20.2, 20.3, 20.4, 20.5, 20.6, 20.7, 20.8, 21. , 21.1,\n",
              "       21.2, 21.4, 21.6, 21.7, 21.8, 21.9, 22. , 22.1, 22.2, 22.3, 22.4,\n",
              "       22.5, 22.6, 22.7, 22.8, 22.9, 23. , 23.1, 23.2, 23.3, 23.4, 23.5,\n",
              "       23.6, 23.7, 23.8, 23.9, 24. , 24.1, 24.3, 24.4, 24.5, 24.6, 24.7,\n",
              "       24.8, 25. , 25.1, 25.2, 25.3, 26.2, 26.4, 26.5, 26.6, 27.1, 27.5,\n",
              "       27.9, 28. , 28.2, 28.5, 28.6, 28.7, 29. , 29.1, 29.4, 29.8, 29.9,\n",
              "       30.1, 30.3, 30.5, 30.7, 30.8, 31. , 31.1, 31.5, 31.6, 31.7, 32. ,\n",
              "       32.2, 32.7, 32.9, 33.1, 33.2, 33.3, 33.4, 33.8, 34.6, 34.7, 34.9,\n",
              "       35.2, 36.1, 36.2, 36.4, 36.5, 37. , 37.2, 37.3, 37.6, 37.9, 38.7,\n",
              "       39.8, 41.3, 41.7, 42.3, 43.5, 43.8, 44. , 44.8, 45.4, 46. , 48.3,\n",
              "       48.5, 48.8, 50. ])"
            ]
          },
          "metadata": {
            "tags": []
          },
          "execution_count": 6
        }
      ]
    },
    {
      "cell_type": "code",
      "metadata": {
        "id": "WN64YgkDMjew",
        "colab_type": "code",
        "outputId": "47c44fd3-02ce-4827-ef0f-1c733ad81225",
        "colab": {}
      },
      "source": [
        "model=Sequential()\n",
        "model.add(Dense(50,activity_regularizer=l1(0.1), input_shape=(13,)))\n",
        "model.add(Activation('relu'))\n",
        "\n",
        "model.add(Dense(50,activity_regularizer=l1(0.1)))\n",
        "model.add(Activation('relu'))\n",
        "\n",
        "model.add(Dense(50))\n",
        "model.add(Activation('relu'))\n",
        "\n",
        "model.add(Dense(50))\n",
        "model.add(Activation('relu'))\n",
        "\n",
        "model.add(Dense(1))\n",
        "model.add(Activation('linear'))\n",
        "model.summary()"
      ],
      "execution_count": 0,
      "outputs": [
        {
          "output_type": "stream",
          "text": [
            "WARNING: Logging before flag parsing goes to stderr.\n",
            "W0702 21:03:42.623028   204 deprecation_wrapper.py:119] From C:\\Users\\RAHUL\\AppData\\Local\\Programs\\Python\\Python37\\lib\\site-packages\\keras\\backend\\tensorflow_backend.py:74: The name tf.get_default_graph is deprecated. Please use tf.compat.v1.get_default_graph instead.\n",
            "\n",
            "W0702 21:03:43.801494   204 deprecation_wrapper.py:119] From C:\\Users\\RAHUL\\AppData\\Local\\Programs\\Python\\Python37\\lib\\site-packages\\keras\\backend\\tensorflow_backend.py:517: The name tf.placeholder is deprecated. Please use tf.compat.v1.placeholder instead.\n",
            "\n",
            "W0702 21:03:44.232744   204 deprecation_wrapper.py:119] From C:\\Users\\RAHUL\\AppData\\Local\\Programs\\Python\\Python37\\lib\\site-packages\\keras\\backend\\tensorflow_backend.py:4138: The name tf.random_uniform is deprecated. Please use tf.random.uniform instead.\n",
            "\n"
          ],
          "name": "stderr"
        },
        {
          "output_type": "stream",
          "text": [
            "_________________________________________________________________\n",
            "Layer (type)                 Output Shape              Param #   \n",
            "=================================================================\n",
            "dense_1 (Dense)              (None, 50)                700       \n",
            "_________________________________________________________________\n",
            "activation_1 (Activation)    (None, 50)                0         \n",
            "_________________________________________________________________\n",
            "dense_2 (Dense)              (None, 50)                2550      \n",
            "_________________________________________________________________\n",
            "activation_2 (Activation)    (None, 50)                0         \n",
            "_________________________________________________________________\n",
            "dense_3 (Dense)              (None, 50)                2550      \n",
            "_________________________________________________________________\n",
            "activation_3 (Activation)    (None, 50)                0         \n",
            "_________________________________________________________________\n",
            "dense_4 (Dense)              (None, 50)                2550      \n",
            "_________________________________________________________________\n",
            "activation_4 (Activation)    (None, 50)                0         \n",
            "_________________________________________________________________\n",
            "dense_5 (Dense)              (None, 1)                 51        \n",
            "_________________________________________________________________\n",
            "activation_5 (Activation)    (None, 1)                 0         \n",
            "=================================================================\n",
            "Total params: 8,401\n",
            "Trainable params: 8,401\n",
            "Non-trainable params: 0\n",
            "_________________________________________________________________\n"
          ],
          "name": "stdout"
        }
      ]
    },
    {
      "cell_type": "code",
      "metadata": {
        "id": "DPoW8pJkMje5",
        "colab_type": "code",
        "outputId": "17a08906-6645-4fa5-dece-087dc5b0f1e3",
        "colab": {}
      },
      "source": [
        "model.compile(loss='mean_squared_error',\n",
        "             optimizer='adam',\n",
        "             metrics=['mse'])"
      ],
      "execution_count": 0,
      "outputs": [
        {
          "output_type": "stream",
          "text": [
            "W0702 21:04:00.876111   204 deprecation_wrapper.py:119] From C:\\Users\\RAHUL\\AppData\\Local\\Programs\\Python\\Python37\\lib\\site-packages\\keras\\optimizers.py:790: The name tf.train.Optimizer is deprecated. Please use tf.compat.v1.train.Optimizer instead.\n",
            "\n"
          ],
          "name": "stderr"
        }
      ]
    },
    {
      "cell_type": "code",
      "metadata": {
        "id": "hkSejw0BMjfG",
        "colab_type": "code",
        "outputId": "03311558-bc6f-4261-f3ff-3204492322b8",
        "colab": {}
      },
      "source": [
        "model.fit(x_train,y_train,\n",
        "          validation_data=(x_test,y_test),\n",
        "          batch_size=1,\n",
        "          nb_epoch=12,\n",
        "          verbose=2)"
      ],
      "execution_count": 0,
      "outputs": [
        {
          "output_type": "stream",
          "text": [
            "C:\\Users\\RAHUL\\AppData\\Local\\Programs\\Python\\Python37\\lib\\site-packages\\ipykernel_launcher.py:5: UserWarning: The `nb_epoch` argument in `fit` has been renamed `epochs`.\n",
            "  \"\"\"\n",
            "W0702 21:04:02.418831   204 deprecation_wrapper.py:119] From C:\\Users\\RAHUL\\AppData\\Local\\Programs\\Python\\Python37\\lib\\site-packages\\keras\\backend\\tensorflow_backend.py:986: The name tf.assign_add is deprecated. Please use tf.compat.v1.assign_add instead.\n",
            "\n",
            "W0702 21:04:02.649499   204 deprecation_wrapper.py:119] From C:\\Users\\RAHUL\\AppData\\Local\\Programs\\Python\\Python37\\lib\\site-packages\\keras\\backend\\tensorflow_backend.py:973: The name tf.assign is deprecated. Please use tf.compat.v1.assign instead.\n",
            "\n"
          ],
          "name": "stderr"
        },
        {
          "output_type": "stream",
          "text": [
            "Train on 404 samples, validate on 102 samples\n",
            "Epoch 1/12\n",
            " - 5s - loss: 561.1443 - mean_squared_error: 137.1013 - val_loss: 438.6282 - val_mean_squared_error: 130.2190\n",
            "Epoch 2/12\n",
            " - 1s - loss: 316.6304 - mean_squared_error: 66.7861 - val_loss: 294.2167 - val_mean_squared_error: 75.7880\n",
            "Epoch 3/12\n",
            " - 1s - loss: 236.2193 - mean_squared_error: 54.6623 - val_loss: 207.9609 - val_mean_squared_error: 52.1988\n",
            "Epoch 4/12\n",
            " - 1s - loss: 176.2522 - mean_squared_error: 41.8952 - val_loss: 170.5753 - val_mean_squared_error: 51.5692\n",
            "Epoch 5/12\n",
            " - 1s - loss: 146.4061 - mean_squared_error: 41.1332 - val_loss: 130.9681 - val_mean_squared_error: 37.0346\n",
            "Epoch 6/12\n",
            " - 1s - loss: 122.8646 - mean_squared_error: 37.0693 - val_loss: 126.2568 - val_mean_squared_error: 47.5051\n",
            "Epoch 7/12\n",
            " - 1s - loss: 103.6364 - mean_squared_error: 29.4000 - val_loss: 148.9863 - val_mean_squared_error: 75.9375\n",
            "Epoch 8/12\n",
            " - 1s - loss: 106.4954 - mean_squared_error: 38.9641 - val_loss: 102.8903 - val_mean_squared_error: 42.6257\n",
            "Epoch 9/12\n",
            " - 1s - loss: 91.9811 - mean_squared_error: 32.3165 - val_loss: 84.8990 - val_mean_squared_error: 29.1137\n",
            "Epoch 10/12\n",
            " - 1s - loss: 86.6765 - mean_squared_error: 31.7821 - val_loss: 90.7494 - val_mean_squared_error: 38.7983\n",
            "Epoch 11/12\n",
            " - 1s - loss: 76.5289 - mean_squared_error: 27.4598 - val_loss: 115.3389 - val_mean_squared_error: 62.1591\n",
            "Epoch 12/12\n",
            " - 1s - loss: 78.2316 - mean_squared_error: 32.2996 - val_loss: 84.3403 - val_mean_squared_error: 39.7739\n"
          ],
          "name": "stdout"
        },
        {
          "output_type": "execute_result",
          "data": {
            "text/plain": [
              "<keras.callbacks.History at 0xe74425b320>"
            ]
          },
          "metadata": {
            "tags": []
          },
          "execution_count": 9
        }
      ]
    },
    {
      "cell_type": "code",
      "metadata": {
        "id": "2aO_d4cRMjfQ",
        "colab_type": "code",
        "outputId": "c2bbccf2-fd2a-4e61-9c33-7e99dce3c57b",
        "colab": {}
      },
      "source": [
        "model.fit(x_train,y_train,\n",
        "          validation_data=(x_test,y_test),\n",
        "          batch_size=32,\n",
        "          nb_epoch=12,\n",
        "          verbose=2)"
      ],
      "execution_count": 0,
      "outputs": [
        {
          "output_type": "stream",
          "text": [
            "C:\\Users\\RAHUL\\AppData\\Local\\Programs\\Python\\Python37\\lib\\site-packages\\ipykernel_launcher.py:5: UserWarning: The `nb_epoch` argument in `fit` has been renamed `epochs`.\n",
            "  \"\"\"\n"
          ],
          "name": "stderr"
        },
        {
          "output_type": "stream",
          "text": [
            "Train on 404 samples, validate on 102 samples\n",
            "Epoch 1/12\n",
            " - 0s - loss: 1290.0705 - mean_squared_error: 33.1190 - val_loss: 1131.0360 - val_mean_squared_error: 47.1838\n",
            "Epoch 2/12\n",
            " - 0s - loss: 1101.3406 - mean_squared_error: 36.8686 - val_loss: 996.1776 - val_mean_squared_error: 51.2906\n",
            "Epoch 3/12\n",
            " - 0s - loss: 972.7176 - mean_squared_error: 36.9169 - val_loss: 884.3262 - val_mean_squared_error: 52.5964\n",
            "Epoch 4/12\n",
            " - 0s - loss: 875.9253 - mean_squared_error: 34.4987 - val_loss: 801.6158 - val_mean_squared_error: 50.7007\n",
            "Epoch 5/12\n",
            " - 0s - loss: 799.9539 - mean_squared_error: 33.6774 - val_loss: 734.4696 - val_mean_squared_error: 47.3323\n",
            "Epoch 6/12\n",
            " - 0s - loss: 739.8137 - mean_squared_error: 35.9932 - val_loss: 689.7081 - val_mean_squared_error: 53.3746\n",
            "Epoch 7/12\n",
            " - 0s - loss: 684.8037 - mean_squared_error: 32.2761 - val_loss: 637.9933 - val_mean_squared_error: 51.3790\n",
            "Epoch 8/12\n",
            " - 0s - loss: 639.9310 - mean_squared_error: 31.9996 - val_loss: 604.1695 - val_mean_squared_error: 52.7624\n",
            "Epoch 9/12\n",
            " - 0s - loss: 601.8470 - mean_squared_error: 30.3785 - val_loss: 565.9115 - val_mean_squared_error: 54.8032\n",
            "Epoch 10/12\n",
            " - 0s - loss: 568.5000 - mean_squared_error: 29.9873 - val_loss: 533.6877 - val_mean_squared_error: 54.0360\n",
            "Epoch 11/12\n",
            " - 0s - loss: 534.3859 - mean_squared_error: 29.8713 - val_loss: 509.0912 - val_mean_squared_error: 51.1000\n",
            "Epoch 12/12\n",
            " - 0s - loss: 505.9207 - mean_squared_error: 28.5755 - val_loss: 487.5851 - val_mean_squared_error: 53.5939\n"
          ],
          "name": "stdout"
        },
        {
          "output_type": "execute_result",
          "data": {
            "text/plain": [
              "<keras.callbacks.History at 0xe7453e85f8>"
            ]
          },
          "metadata": {
            "tags": []
          },
          "execution_count": 10
        }
      ]
    },
    {
      "cell_type": "code",
      "metadata": {
        "id": "dGx7TS8uMjfh",
        "colab_type": "code",
        "outputId": "cd2bd71d-cdc5-4fdb-e033-87e43aa057c9",
        "colab": {}
      },
      "source": [
        "model.fit(x_train,y_train,\n",
        "          validation_data=(x_test,y_test),\n",
        "          batch_size=64,\n",
        "          nb_epoch=12,\n",
        "          verbose=2)"
      ],
      "execution_count": 0,
      "outputs": [
        {
          "output_type": "stream",
          "text": [
            "Train on 404 samples, validate on 102 samples\n",
            "Epoch 1/12\n",
            " - 0s - loss: 932.6320 - mean_squared_error: 34.9176 - val_loss: 814.6648 - val_mean_squared_error: 58.9475\n",
            "Epoch 2/12\n",
            " - 0s - loss: 898.2685 - mean_squared_error: 33.4483 - val_loss: 789.4985 - val_mean_squared_error: 55.8071\n",
            "Epoch 3/12\n",
            " - 0s - loss: 860.2964 - mean_squared_error: 30.1189 - val_loss: 760.6316 - val_mean_squared_error: 58.1787\n",
            "Epoch 4/12\n",
            " - 0s - loss: 828.6821 - mean_squared_error: 34.8167 - val_loss: 734.2103 - val_mean_squared_error: 58.8919\n",
            "Epoch 5/12\n",
            " - 0s - loss: 795.1793 - mean_squared_error: 32.1525 - val_loss: 694.9914 - val_mean_squared_error: 54.0461\n",
            "Epoch 6/12\n",
            " - 0s - loss: 759.7084 - mean_squared_error: 31.6020 - val_loss: 677.7029 - val_mean_squared_error: 58.1811\n",
            "Epoch 7/12\n",
            " - 0s - loss: 733.3440 - mean_squared_error: 30.8329 - val_loss: 657.9247 - val_mean_squared_error: 59.9911\n",
            "Epoch 8/12\n",
            " - 0s - loss: 711.3183 - mean_squared_error: 31.1002 - val_loss: 640.5444 - val_mean_squared_error: 56.5087\n"
          ],
          "name": "stdout"
        },
        {
          "output_type": "stream",
          "text": [
            "C:\\Users\\RAHUL\\AppData\\Local\\Programs\\Python\\Python37\\lib\\site-packages\\ipykernel_launcher.py:5: UserWarning: The `nb_epoch` argument in `fit` has been renamed `epochs`.\n",
            "  \"\"\"\n"
          ],
          "name": "stderr"
        },
        {
          "output_type": "stream",
          "text": [
            "Epoch 9/12\n",
            " - 0s - loss: 687.2193 - mean_squared_error: 29.5225 - val_loss: 619.0486 - val_mean_squared_error: 53.3961\n",
            "Epoch 10/12\n",
            " - 0s - loss: 669.0450 - mean_squared_error: 28.5991 - val_loss: 604.0445 - val_mean_squared_error: 55.1554\n",
            "Epoch 11/12\n",
            " - 0s - loss: 651.5471 - mean_squared_error: 27.3963 - val_loss: 583.9126 - val_mean_squared_error: 53.9010\n",
            "Epoch 12/12\n",
            " - 0s - loss: 626.5871 - mean_squared_error: 26.4870 - val_loss: 562.9698 - val_mean_squared_error: 50.7557\n"
          ],
          "name": "stdout"
        },
        {
          "output_type": "execute_result",
          "data": {
            "text/plain": [
              "<keras.callbacks.History at 0xe744427e48>"
            ]
          },
          "metadata": {
            "tags": []
          },
          "execution_count": 11
        }
      ]
    },
    {
      "cell_type": "code",
      "metadata": {
        "id": "djMbFdbeMjfs",
        "colab_type": "code",
        "colab": {}
      },
      "source": [
        ""
      ],
      "execution_count": 0,
      "outputs": []
    }
  ]
}