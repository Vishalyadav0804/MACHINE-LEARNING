{
 "cells": [
  {
   "cell_type": "markdown",
   "metadata": {
    "colab_type": "text",
    "id": "TK-pu8IyOJrd"
   },
   "source": [
    "# KNN(k nearest neighbors)"
   ]
  },
  {
   "cell_type": "code",
   "execution_count": 0,
   "metadata": {
    "colab": {},
    "colab_type": "code",
    "id": "-j-WvBS1OJrm"
   },
   "outputs": [],
   "source": [
    "#--it is instance based"
   ]
  },
  {
   "cell_type": "code",
   "execution_count": 0,
   "metadata": {
    "colab": {},
    "colab_type": "code",
    "id": "dyQH4D_hOJr3"
   },
   "outputs": [],
   "source": [
    "#L1 distance --manhattan distance.\n",
    "#L2 distance --Euclid distance.\n",
    "import numpy as np"
   ]
  },
  {
   "cell_type": "code",
   "execution_count": 0,
   "metadata": {
    "colab": {},
    "colab_type": "code",
    "id": "KjuC9mtZOJsA",
    "outputId": "078fd1d1-ae3a-46c5-8335-cf0ff9f58517"
   },
   "outputs": [
    {
     "name": "stdout",
     "output_type": "stream",
     "text": [
      "7.14142842854285\n"
     ]
    }
   ],
   "source": [
    "a=np.asarray([2,3,1])\n",
    "b=np.asarray([1,4,8])\n",
    "l2=(np.sum((b-a)**2))**0.5\n",
    "print(l2)"
   ]
  },
  {
   "cell_type": "code",
   "execution_count": 0,
   "metadata": {
    "colab": {},
    "colab_type": "code",
    "id": "07Hh6lDcOJsP",
    "outputId": "108f53c7-ec45-42d6-f764-593f91c0448b"
   },
   "outputs": [
    {
     "data": {
      "text/plain": [
       "9"
      ]
     },
     "execution_count": 6,
     "metadata": {
      "tags": []
     },
     "output_type": "execute_result"
    }
   ],
   "source": [
    "l1=(np.sum(abs(b-a)))\n",
    "l1"
   ]
  },
  {
   "cell_type": "code",
   "execution_count": 0,
   "metadata": {
    "colab": {},
    "colab_type": "code",
    "id": "3GzYQ1_0OJsd"
   },
   "outputs": [],
   "source": [
    "import matplotlib.pyplot as plt\n",
    "%matplotlib inline"
   ]
  },
  {
   "cell_type": "code",
   "execution_count": 0,
   "metadata": {
    "colab": {},
    "colab_type": "code",
    "id": "ajm_4IJWOJso"
   },
   "outputs": [],
   "source": []
  },
  {
   "cell_type": "code",
   "execution_count": 0,
   "metadata": {
    "colab": {},
    "colab_type": "code",
    "id": "rhDfQK5sOJsw",
    "outputId": "51c3b2e8-f56e-483b-bd49-d200d1a43417"
   },
   "outputs": [
    {
     "name": "stdout",
     "output_type": "stream",
     "text": [
      "(500, 2)\n",
      "(500, 2)\n"
     ]
    }
   ],
   "source": [
    "mean1=np.array([1,0]) #covarience shows spreadness of data\n",
    "cov1=np.array([[1,0.1],[0.1,1.2]]) #1 shows horizontally spread of data, both 0.1 show spread of data horizontally,1.2 shows vertically spread of data\n",
    "dist1=np.random.multivariate_normal(mean1,cov1,500)\n",
    "print(dist1.shape)\n",
    "\n",
    "mean1=np.array([4,5])\n",
    "cov1=np.array([[1,0.1],[0.1,1.2]])\n",
    "dist2=np.random.multivariate_normal(mean1,cov1,500)\n",
    "print(dist2.shape)"
   ]
  },
  {
   "cell_type": "code",
   "execution_count": 0,
   "metadata": {
    "colab": {},
    "colab_type": "code",
    "id": "zV7SmjXyOJs5",
    "outputId": "e994cbf3-64cb-4f7c-fdd2-b3b84000d9bc"
   },
   "outputs": [
    {
     "data": {
      "image/png": "[encoded data removed]",
      "text/plain": [
       "<Figure size 432x288 with 1 Axes>"
      ]
     },
     "metadata": {
      "needs_background": "light",
      "tags": []
     },
     "output_type": "display_data"
    }
   ],
   "source": [
    "plt.xlim(-5,10)\n",
    "plt.ylim(-5,10)\n",
    "plt.scatter(dist1[:,0],dist1[:,-1])\n",
    "plt.scatter(dist2[:,0],dist2[:,-1])\n",
    "plt.show()"
   ]
  },
  {
   "cell_type": "code",
   "execution_count": 0,
   "metadata": {
    "colab": {},
    "colab_type": "code",
    "id": "8UDLTvtWOJtC",
    "outputId": "bd3845ca-f1a3-435b-f971-67e880b59edc"
   },
   "outputs": [
    {
     "name": "stdout",
     "output_type": "stream",
     "text": [
      "(1000, 3)\n"
     ]
    },
    {
     "data": {
      "text/plain": [
       "array([2.53277911, 2.4566892 , 0.5       ])"
      ]
     },
     "execution_count": 47,
     "metadata": {
      "tags": []
     },
     "output_type": "execute_result"
    }
   ],
   "source": [
    "data=np.zeros((1000,3))\n",
    "data[:500,:2]=dist1\n",
    "data[500:,:2]=dist2\n",
    "data[500:,-1]=1\n",
    "print(data.shape)\n",
    "data.mean(axis=0)"
   ]
  },
  {
   "cell_type": "code",
   "execution_count": 0,
   "metadata": {
    "colab": {},
    "colab_type": "code",
    "id": "90N3BBzbOJtL",
    "outputId": "2b1065c8-38ef-44a8-cc71-6ddaca17e8b8"
   },
   "outputs": [
    {
     "data": {
      "text/plain": [
       "array([[ 1.28113885,  1.41864117,  0.        ],\n",
       "       [ 1.5799219 , -0.26963802,  0.        ],\n",
       "       [ 1.79135772, -1.12720867,  0.        ],\n",
       "       [-0.99130441, -0.56085428,  0.        ],\n",
       "       [ 4.08990172,  4.33602714,  1.        ],\n",
       "       [ 4.43016041,  4.3096689 ,  1.        ],\n",
       "       [ 4.56069663,  6.88305994,  1.        ],\n",
       "       [ 3.16882461,  4.196423  ,  1.        ],\n",
       "       [ 1.08941309,  1.55376706,  0.        ],\n",
       "       [ 3.28485283,  5.65434389,  1.        ]])"
      ]
     },
     "execution_count": 15,
     "metadata": {
      "tags": []
     },
     "output_type": "execute_result"
    }
   ],
   "source": [
    "np.random.shuffle(data)\n",
    "data[:10]"
   ]
  },
  {
   "cell_type": "code",
   "execution_count": 0,
   "metadata": {
    "colab": {},
    "colab_type": "code",
    "id": "bLed7E20OJtU"
   },
   "outputs": [],
   "source": [
    "def distance (a,b):\n",
    "    return (np.sum((b-a)**2))**0.5"
   ]
  },
  {
   "cell_type": "code",
   "execution_count": 0,
   "metadata": {
    "colab": {},
    "colab_type": "code",
    "id": "zAAop1cUOJtc"
   },
   "outputs": [],
   "source": [
    "def knn(x_train,y_train,test_point,k=7):\n",
    "    distances=[]\n",
    "    m=x_train.shape[0]\n",
    "    for i in range(m):\n",
    "        d=distance(x_train[i],test_point)\n",
    "        distances.append([d,y_train[i]])\n",
    "    sorted_lables=sorted(distances,key=lambda r:r[0])\n",
    "    neighbors=np.asarray(sorted_lables)[:k,-1]\n",
    "    #print(neighbors)\n",
    "    freq=np.unique(neighbors,return_counts=True)\n",
    "    index=freq[1].argmax() #gives index of maximum value\n",
    "    return freq[0][index]"
   ]
  },
  {
   "cell_type": "code",
   "execution_count": 0,
   "metadata": {
    "colab": {},
    "colab_type": "code",
    "id": "YT9-QidGOJtk",
    "outputId": "a70ecb1e-bf93-4bfa-ddec-ed11b7b3a456"
   },
   "outputs": [
    {
     "data": {
      "text/plain": [
       "0.0"
      ]
     },
     "execution_count": 18,
     "metadata": {
      "tags": []
     },
     "output_type": "execute_result"
    }
   ],
   "source": [
    "x_train=data[:,:2]\n",
    "y_train=data[:,-1]\n",
    "test_point=np.array([3,2])\n",
    "knn(x_train,y_train,test_point)"
   ]
  },
  {
   "cell_type": "code",
   "execution_count": 0,
   "metadata": {
    "colab": {},
    "colab_type": "code",
    "id": "AEtoggB-OJtt",
    "outputId": "5659ca7a-746e-40ae-ef0f-680f3ce9f931"
   },
   "outputs": [
    {
     "name": "stdout",
     "output_type": "stream",
     "text": [
      "(750, 2) (750,)\n",
      "(250, 2) (250,)\n"
     ]
    }
   ],
   "source": [
    "x_train=data[:750,:2]\n",
    "y_train=data[:750,-1]\n",
    "x_test=data[750:,:2]\n",
    "y_test=data[750:,-1]\n",
    "print(x_train.shape,y_train.shape)\n",
    "print(x_test.shape,y_test.shape)"
   ]
  },
  {
   "cell_type": "code",
   "execution_count": 0,
   "metadata": {
    "colab": {},
    "colab_type": "code",
    "id": "WvgEpgg4OJt1"
   },
   "outputs": [],
   "source": [
    "def acc(k):\n",
    "    predictions=[]\n",
    "    m=x_test.shape[0]\n",
    "    for i in range(m):\n",
    "        test_point=x_test[i]\n",
    "        pred_label=knn(x_train,y_train,test_point,k)\n",
    "        predictions.append(pred_label)\n",
    "        \n",
    "    preds=np.asarray(predictions)\n",
    "    #print(preds==y_test)\n",
    "    return 100*(preds==y_test).sum()/m"
   ]
  },
  {
   "cell_type": "code",
   "execution_count": 0,
   "metadata": {
    "colab": {},
    "colab_type": "code",
    "id": "L2wr8nJVOJt-",
    "outputId": "0801680f-c9b7-49cb-a37e-564d0ad0178d"
   },
   "outputs": [
    {
     "data": {
      "text/plain": [
       "98.8"
      ]
     },
     "execution_count": 21,
     "metadata": {
      "tags": []
     },
     "output_type": "execute_result"
    }
   ],
   "source": [
    "acc(7)"
   ]
  },
  {
   "cell_type": "code",
   "execution_count": 0,
   "metadata": {
    "colab": {},
    "colab_type": "code",
    "id": "-NVuNCRDOJuN",
    "outputId": "26acb8c4-5394-4447-8d2a-0945aefae6a3"
   },
   "outputs": [
    {
     "name": "stdout",
     "output_type": "stream",
     "text": [
      "For k=1 Acc=99.2\n",
      "For k=2 Acc=98.4\n",
      "For k=3 Acc=98.8\n",
      "For k=4 Acc=99.2\n",
      "For k=5 Acc=98.8\n",
      "For k=6 Acc=98.8\n",
      "For k=7 Acc=98.8\n",
      "For k=8 Acc=98.8\n",
      "For k=9 Acc=98.8\n"
     ]
    }
   ],
   "source": [
    "for k in range(1,10):\n",
    "    print(f\"For k={k} Acc={acc(k)}\")"
   ]
  },
  {
   "cell_type": "code",
   "execution_count": 0,
   "metadata": {
    "colab": {},
    "colab_type": "code",
    "id": "Dk_gkGRGOJuZ"
   },
   "outputs": [],
   "source": [
    "sklearn"
   ]
  },
  {
   "cell_type": "code",
   "execution_count": 0,
   "metadata": {
    "colab": {},
    "colab_type": "code",
    "id": "BkBZyOsrOJui",
    "outputId": "3a8fbc09-2a9e-426c-878e-5455bf2ac5f9"
   },
   "outputs": [
    {
     "name": "stdout",
     "output_type": "stream",
     "text": [
      "Requirement already up-to-date: scikit-learn in c:\\users\\rahul\\appdata\\roaming\\python\\python37\\site-packages (0.21.2)\n",
      "Requirement already satisfied, skipping upgrade: numpy>=1.11.0 in c:\\users\\rahul\\appdata\\local\\programs\\python\\python37\\lib\\site-packages (from scikit-learn) (1.16.4)\n",
      "Requirement already satisfied, skipping upgrade: scipy>=0.17.0 in c:\\users\\rahul\\appdata\\roaming\\python\\python37\\site-packages (from scikit-learn) (1.3.0)\n",
      "Requirement already satisfied, skipping upgrade: joblib>=0.11 in c:\\users\\rahul\\appdata\\roaming\\python\\python37\\site-packages (from scikit-learn) (0.13.2)\n"
     ]
    }
   ],
   "source": [
    "! pip3 install -U --user scikit-learn"
   ]
  },
  {
   "cell_type": "code",
   "execution_count": 0,
   "metadata": {
    "colab": {},
    "colab_type": "code",
    "id": "badkfV1gOJur"
   },
   "outputs": [],
   "source": [
    "from sklearn.neighbors import KNeighborsClassifier"
   ]
  },
  {
   "cell_type": "code",
   "execution_count": 0,
   "metadata": {
    "colab": {},
    "colab_type": "code",
    "id": "4qUR2fq_OJu7",
    "outputId": "5cdf7f2b-f02f-42db-eeb7-8086d50d0689"
   },
   "outputs": [
    {
     "name": "stdout",
     "output_type": "stream",
     "text": [
      "98.8\n"
     ]
    }
   ],
   "source": [
    "neigh=KNeighborsClassifier(n_neighbors=5)\n",
    "neigh.fit(x_train,y_train)\n",
    "print(100*neigh.score(x_test,y_test))"
   ]
  },
  {
   "cell_type": "code",
   "execution_count": 0,
   "metadata": {
    "colab": {},
    "colab_type": "code",
    "id": "Hg6DWEjvOJvI"
   },
   "outputs": [],
   "source": []
  }
 ],
 "metadata": {
  "colab": {
   "collapsed_sections": [],
   "name": "KNN.ipynb",
   "provenance": []
  },
  "kernelspec": {
   "display_name": "Python 3",
   "language": "python",
   "name": "python3"
  },
  "language_info": {
   "codemirror_mode": {
    "name": "ipython",
    "version": 3
   },
   "file_extension": ".py",
   "mimetype": "text/x-python",
   "name": "python",
   "nbconvert_exporter": "python",
   "pygments_lexer": "ipython3",
   "version": "3.7.4"
  }
 },
 "nbformat": 4,
 "nbformat_minor": 1
}
