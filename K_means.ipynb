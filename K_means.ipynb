{
  "nbformat": 4,
  "nbformat_minor": 0,
  "metadata": {
    "kernelspec": {
      "display_name": "Python 3",
      "language": "python",
      "name": "python3"
    },
    "language_info": {
      "codemirror_mode": {
        "name": "ipython",
        "version": 3
      },
      "file_extension": ".py",
      "mimetype": "text/x-python",
      "name": "python",
      "nbconvert_exporter": "python",
      "pygments_lexer": "ipython3",
      "version": "3.7.3"
    },
    "colab": {
      "name": "K means.ipynb",
      "provenance": [],
      "collapsed_sections": []
    }
  },
  "cells": [
    {
      "cell_type": "code",
      "metadata": {
        "id": "H1nDJKLEOEb8",
        "colab_type": "code",
        "colab": {}
      },
      "source": [
        "import numpy as np\n",
        "import matplotlib.pyplot as plt\n",
        "%matplotlib inline"
      ],
      "execution_count": 0,
      "outputs": []
    },
    {
      "cell_type": "code",
      "metadata": {
        "id": "ImszyN7HOEc0",
        "colab_type": "code",
        "outputId": "6d59c1e4-146b-40d8-c5b3-2e4a3a5e20e6",
        "colab": {}
      },
      "source": [
        "np.random.choice([1,2,3,4,5],2)#randomly generate two numbers from this list"
      ],
      "execution_count": 0,
      "outputs": [
        {
          "output_type": "execute_result",
          "data": {
            "text/plain": [
              "array([3, 3])"
            ]
          },
          "metadata": {
            "tags": []
          },
          "execution_count": 2
        }
      ]
    },
    {
      "cell_type": "code",
      "metadata": {
        "id": "e93yUrBfOEdC",
        "colab_type": "code",
        "outputId": "063a7c76-f6a1-4680-809e-4b53fad42d10",
        "colab": {}
      },
      "source": [
        "#generating data sets\n",
        "m1,cov1=[15,5],[[1,2],[2,1]]\n",
        "m2,cov2=[27,8],[[2,-1],[-1,2]]\n",
        "m3,cov3=[19,9],[[0,1],[-1,0]]\n",
        "data1=np.random.multivariate_normal(m1,cov1,250)\n",
        "data2=np.random.multivariate_normal(m2,cov2,150)\n",
        "data3=np.random.multivariate_normal(m3,cov3,100)\n",
        "X=np.vstack((data1,np.vstack((data2,data3))))  #vertical stack\n",
        "np.random.shuffle(X)\n",
        "X.shape"
      ],
      "execution_count": 0,
      "outputs": [
        {
          "output_type": "stream",
          "text": [
            "C:\\Users\\RAHUL\\AppData\\Local\\Programs\\Python\\Python37\\lib\\site-packages\\ipykernel_launcher.py:5: RuntimeWarning: covariance is not symmetric positive-semidefinite.\n",
            "  \"\"\"\n",
            "C:\\Users\\RAHUL\\AppData\\Local\\Programs\\Python\\Python37\\lib\\site-packages\\ipykernel_launcher.py:7: RuntimeWarning: covariance is not symmetric positive-semidefinite.\n",
            "  import sys\n"
          ],
          "name": "stderr"
        },
        {
          "output_type": "execute_result",
          "data": {
            "text/plain": [
              "(500, 2)"
            ]
          },
          "metadata": {
            "tags": []
          },
          "execution_count": 3
        }
      ]
    },
    {
      "cell_type": "code",
      "metadata": {
        "id": "kikjvIOLOEdZ",
        "colab_type": "code",
        "outputId": "8e7fa9a7-337e-4304-e449-9b881b8bded8",
        "colab": {}
      },
      "source": [
        "plt.scatter(X[:,0],X[:,-1])\n",
        "plt.show()"
      ],
      "execution_count": 0,
      "outputs": [
        {
          "output_type": "display_data",
          "data": {
            "image/png": "[encoded data removed]",
            "text/plain": [
              "<Figure size 432x288 with 1 Axes>"
            ]
          },
          "metadata": {
            "tags": [],
            "needs_background": "light"
          }
        }
      ]
    },
    {
      "cell_type": "code",
      "metadata": {
        "id": "Z06bAM9IOEeI",
        "colab_type": "code",
        "colab": {}
      },
      "source": [
        "def kmeans(X,k,maxIters=1000):\n",
        "    m=X.shape[0] #len(X)\n",
        "    centroids=X[np.random.choice(np.arange(m),k)]\n",
        "    \n",
        "    for i in range (maxIters):\n",
        "        C=[]\n",
        "        for x in X:\n",
        "            distances=[]\n",
        "            for c in centroids:\n",
        "                d=np.dot(x-c,x-c)   #squaring of difference between x and c\n",
        "                distances.append(d)\n",
        "            ci=np.argmin(distances)  #index of minimum difference\n",
        "            C.append(ci)\n",
        "            #C=[np.argmin([np.dot(x-c,x-c) for i in centroids]) for x in X]\n",
        "        C=np.asarray(C)\n",
        "        centroids=[X[C==ci].mean(axis=0) for ci in range(k)]  #makes clusters\n",
        "    return np.asarray(centroids),C\n",
        "        "
      ],
      "execution_count": 0,
      "outputs": []
    },
    {
      "cell_type": "code",
      "metadata": {
        "id": "AYEJoDpROEee",
        "colab_type": "code",
        "outputId": "84a9775e-aa3c-4bae-df34-b3261af4cfc3",
        "colab": {}
      },
      "source": [
        "centroids,C=kmeans(X,k=3)\n",
        "print(centroids)\n",
        "print(C.shape)"
      ],
      "execution_count": 0,
      "outputs": [
        {
          "output_type": "stream",
          "text": [
            "[[18.62852851  8.76997389]\n",
            " [14.82133724  4.7021274 ]\n",
            " [27.01576033  7.84497147]]\n",
            "(500,)\n"
          ],
          "name": "stdout"
        }
      ]
    },
    {
      "cell_type": "code",
      "metadata": {
        "id": "QNyd8LpmOEeu",
        "colab_type": "code",
        "outputId": "8b09621f-9e7c-4626-bbeb-6a4948eb0b96",
        "colab": {}
      },
      "source": [
        "plt.scatter(X[:,0],X[:,-1])\n",
        "plt.plot(centroids[:,0],centroids[:,-1],'r*',markersize=20)\n",
        "plt.show()"
      ],
      "execution_count": 0,
      "outputs": [
        {
          "output_type": "display_data",
          "data": {
            "image/png": "[encoded data removed]",
            "text/plain": [
              "<Figure size 432x288 with 1 Axes>"
            ]
          },
          "metadata": {
            "tags": [],
            "needs_background": "light"
          }
        }
      ]
    },
    {
      "cell_type": "code",
      "metadata": {
        "id": "wc66qEQYOEe6",
        "colab_type": "code",
        "colab": {}
      },
      "source": [
        ""
      ],
      "execution_count": 0,
      "outputs": []
    }
  ]
}